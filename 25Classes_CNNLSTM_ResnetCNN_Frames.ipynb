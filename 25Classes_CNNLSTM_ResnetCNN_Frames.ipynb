{
  "nbformat": 4,
  "nbformat_minor": 0,
  "metadata": {
    "accelerator": "GPU",
    "colab": {
      "name": "25Classes_CNNLSTM_ResnetCNN_Frames.ipynb",
      "provenance": [],
      "collapsed_sections": []
    },
    "kernelspec": {
      "display_name": "Python 3",
      "name": "python3"
    }
  },
  "cells": [
    {
      "cell_type": "code",
      "metadata": {
        "colab": {
          "base_uri": "https://localhost:8080/"
        },
        "id": "nQzSi3bY6Pzh",
        "outputId": "5d834b28-ffdc-42a7-ab45-9a830a19d1f9"
      },
      "source": [
        "pip install Pillow"
      ],
      "execution_count": null,
      "outputs": [
        {
          "output_type": "stream",
          "text": [
            "Requirement already satisfied: Pillow in /usr/local/lib/python3.6/dist-packages (7.0.0)\n"
          ],
          "name": "stdout"
        }
      ]
    },
    {
      "cell_type": "code",
      "metadata": {
        "id": "B1s5fybD6Qh6"
      },
      "source": [
        "from __future__ import print_function\n",
        "from __future__ import division\n",
        "import torch\n",
        "import torch.nn as nn\n",
        "import torch.optim as optim\n",
        "import numpy as np\n",
        "import torchvision\n",
        "from torchvision import datasets, models, transforms\n",
        "import matplotlib.pyplot as plt\n",
        "import matplotlib.image as mpimg\n",
        "import time\n",
        "import os\n",
        "import glob\n",
        "import copy\n",
        "import os\n",
        "from torch.utils.data import Dataset, DataLoader\n",
        "import torchvision.transforms as transforms\n",
        "from PIL import Image\n",
        "import cv2\n",
        "from google.colab.patches import cv2_imshow\n",
        "import pandas as pd\n",
        "from skimage import io, transform\n",
        "from torchvision import transforms, utils"
      ],
      "execution_count": null,
      "outputs": []
    },
    {
      "cell_type": "code",
      "metadata": {
        "colab": {
          "base_uri": "https://localhost:8080/"
        },
        "id": "7mI7T6nYhh3G",
        "outputId": "7c180dea-0913-46fe-ef62-ac19122ed798"
      },
      "source": [
        "# mounting drive \n",
        "from google.colab import drive\n",
        "drive.mount('/content/drive')"
      ],
      "execution_count": null,
      "outputs": [
        {
          "output_type": "stream",
          "text": [
            "Mounted at /content/drive\n"
          ],
          "name": "stdout"
        }
      ]
    },
    {
      "cell_type": "code",
      "metadata": {
        "colab": {
          "base_uri": "https://localhost:8080/"
        },
        "id": "WWzWEmC9sYEc",
        "outputId": "76b01ed7-ad47-4586-8495-ca1acf9ca2e2"
      },
      "source": [
        "cd /content/drive/MyDrive/COS429_Final_Project/"
      ],
      "execution_count": null,
      "outputs": [
        {
          "output_type": "stream",
          "text": [
            "/content/drive/MyDrive/COS429_Final_Project\n"
          ],
          "name": "stdout"
        }
      ]
    },
    {
      "cell_type": "code",
      "metadata": {
        "id": "MfCzdA3ntAPz"
      },
      "source": [
        "#classes = {'BREAK': 0, 'BUY': 1, 'CLEAN': 2, 'NO': 3, 'NOT': 4, 'WHY': 5, 'BREAKDOWN': 6, 'CANCEL': 7, 'FRIEND': 8, 'NONE': 9, 'PARTY': 10}\n",
        "class_name = {'BREAK': 0, 'BUY': 1, 'CLEAN': 2, 'NO': 3, 'NOT': 4, 'WHY': 5}"
      ],
      "execution_count": null,
      "outputs": []
    },
    {
      "cell_type": "code",
      "metadata": {
        "colab": {
          "base_uri": "https://localhost:8080/",
          "height": 67
        },
        "id": "ei2x4r-8tWCG",
        "outputId": "36b1ffbc-0ac4-435a-dffa-04dc6c93a7b7"
      },
      "source": [
        "'''for class_name in classes.keys():\n",
        "  os.system('mkdir ' +class_name)\n",
        "  for folder in os.listdir('/content/drive/MyDrive/COS429_Final_Project/BOSTON_DATASET/'+ class_name):\n",
        "    if '.' not in folder:\n",
        "      os.system('mkdir ' + class_name + '/'+folder+'/')\n",
        "      os.system('cp /content/drive/MyDrive/COS429_Final_Project/BOSTON_DATASET/'+ class_name + '/'+folder+'/* ' +class_name+ '/'+folder+'/')'''"
      ],
      "execution_count": null,
      "outputs": [
        {
          "output_type": "execute_result",
          "data": {
            "application/vnd.google.colaboratory.intrinsic+json": {
              "type": "string"
            },
            "text/plain": [
              "\"for class_name in classes.keys():\\n  os.system('mkdir ' +class_name)\\n  for folder in os.listdir('/content/drive/MyDrive/COS429_Final_Project/BOSTON_DATASET/'+ class_name):\\n    if '.' not in folder:\\n      os.system('mkdir ' + class_name + '/'+folder+'/')\\n      os.system('cp /content/drive/MyDrive/COS429_Final_Project/BOSTON_DATASET/'+ class_name + '/'+folder+'/* ' +class_name+ '/'+folder+'/')\""
            ]
          },
          "metadata": {
            "tags": []
          },
          "execution_count": 10
        }
      ]
    },
    {
      "cell_type": "code",
      "metadata": {
        "colab": {
          "base_uri": "https://localhost:8080/",
          "height": 51
        },
        "id": "WKqTk3Dvuqh4",
        "outputId": "bf4cc790-f44d-44f3-e709-418b15b6ce69"
      },
      "source": [
        "'''for class_name in classes.keys():\n",
        "  files = os.listdir(path+class_name)\n",
        "  for file in files:\n",
        "    if '.' in file:\n",
        "      # print('rm -rf '+path+class_name+'/'+file)\n",
        "      os.system('rm -rf '+path+class_name+'/'+file)'''"
      ],
      "execution_count": null,
      "outputs": [
        {
          "output_type": "execute_result",
          "data": {
            "application/vnd.google.colaboratory.intrinsic+json": {
              "type": "string"
            },
            "text/plain": [
              "\"for class_name in classes.keys():\\n  files = os.listdir(path+class_name)\\n  for file in files:\\n    if '.' in file:\\n      # print('rm -rf '+path+class_name+'/'+file)\\n      os.system('rm -rf '+path+class_name+'/'+file)\""
            ]
          },
          "metadata": {
            "tags": []
          },
          "execution_count": 11
        }
      ]
    },
    {
      "cell_type": "code",
      "metadata": {
        "id": "Rktca0dqgJNx"
      },
      "source": [
        "# following this tutorial: https://pytorch.org/tutorials/beginner/finetuning_torchvision_models_tutorial.html\n",
        "# Top level data directory. Here we assume the format of the directory conforms\n",
        "#   to the ImageFolder structure\n",
        "# old image\n",
        "# path = '/content/drive/MyDrive/COS429_Final_Project/signs_images/train'\n",
        "\n",
        "# new path to get static images for CNN\n",
        "path = '/content/drive/MyDrive/COS429_Final_Project/BOSTON_DATA5_COLOR/'\n",
        "\n",
        "# Models to choose from [resnet, alexnet, vgg, squeezenet, densenet, inception]\n",
        "model_name = \"inception\"\n",
        "\n",
        "# Number of classes in the dataset\n",
        "num_classes = 6 # change when done finetuning\n",
        "\n",
        "# Batch size for training (change depending on how much memory you have)\n",
        "batch_size = 16\n",
        "\n",
        "# Number of epochs to train for\n",
        "num_epochs = 15\n",
        "\n",
        "# Flag for feature extracting. When False, we finetune the whole model,\n",
        "#   when True we only update the reshaped layer params\n",
        "\n",
        "feature_extract = False"
      ],
      "execution_count": null,
      "outputs": []
    },
    {
      "cell_type": "code",
      "metadata": {
        "id": "kx2XKLZgULDw"
      },
      "source": [
        "from google.colab.patches import cv2_imshow\n",
        "from imgaug import augmenters as iaa\n",
        "# sampler is used to get valid indices for batches of sequences of imgs\n",
        "class ImageSampler(torch.utils.data.Sampler):\n",
        "    def __init__(self, end_idx, seq_length):        \n",
        "        indices = []\n",
        "        #print(end_idx)\n",
        "        for i in range(len(end_idx)-1):\n",
        "            start = end_idx[i]\n",
        "            end = end_idx[i+1] - seq_length\n",
        "            if (start > end): \n",
        "              break\n",
        "            indices.append(torch.arange(start, end))\n",
        "        indices = torch.cat(indices)\n",
        "        self.indices = indices\n",
        "        \n",
        "    def __iter__(self):\n",
        "        indices = self.indices[torch.randperm(len(self.indices))]\n",
        "        return iter(indices.tolist())\n",
        "    \n",
        "    def __len__(self):\n",
        "        return len(self.indices)\n",
        "\n",
        "# homemade dataset to get sequences of images for LSTM \n",
        "class ImageSequenceDataset(Dataset):\n",
        "                                                                    #AUG\n",
        "    def __init__(self, image_paths, seq_length, transform, length, train):\n",
        "        self.image_paths = image_paths\n",
        "        self.seq_length = seq_length\n",
        "        self.transform = transform\n",
        "        self.length = length\n",
        "        #AUG\n",
        "        self.train = train \n",
        "        \n",
        "    def __getitem__(self, index):\n",
        "        start = index\n",
        "        end = index + self.seq_length\n",
        "        #print('Getting images from {} to {}'.format(start, end))\n",
        "        indices = list(range(start, end))\n",
        "        images = []\n",
        "        #AUG\n",
        "        coarsedrop = np.random.uniform()\n",
        "        sp = np.random.uniform()\n",
        "        gc = np.random.uniform(0, 5)\n",
        "        aug = iaa.Sequential([\n",
        "                         iaa.CoarseDropout(coarsedrop, size_percent=sp), \n",
        "                         iaa.GammaContrast(gc), \n",
        "                         iaa.Fliplr(p=1.0)])\n",
        "        #AUG\n",
        "        p = np.random.uniform()\n",
        "        for i in indices:\n",
        "            image_path = self.image_paths[i][0]\n",
        "            image = cv2.imread(image_path)\n",
        "            #AUG\n",
        "            if p > 0.5 and self.train:\n",
        "              image = aug(image=image)\n",
        "            image = Image.fromarray(image)\n",
        "            if self.transform:\n",
        "              image = self.transform(image)\n",
        "            #show(image)\n",
        "            images.append(image)\n",
        "        image_stack = torch.stack(images)\n",
        "        #print(self.image_paths[i][0].split('/')[7])\n",
        "        label = class_name[self.image_paths[i][0].split('/')[7]]\n",
        "        #print(label)\n",
        "        return image_stack, label\n",
        "        # return images, label\n",
        "    \n",
        "    def __len__(self):\n",
        "        return self.length"
      ],
      "execution_count": null,
      "outputs": []
    },
    {
      "cell_type": "code",
      "metadata": {
        "id": "q0vhMvqJULF7"
      },
      "source": [
        "root_dir = '/content/drive/MyDrive/COS429_Final_Project/BOSTON_DATA4/train'\n",
        "class_paths = [d.path for d in os.scandir(root_dir) if d.is_dir]\n",
        "\n",
        "class_image_paths = []\n",
        "end_idx = []\n",
        "for c, class_path in enumerate(class_paths):\n",
        "    for d in os.scandir(class_path):\n",
        "        if d.is_dir:\n",
        "            paths = sorted(glob.glob(os.path.join(d.path, '*.jpg')))\n",
        "            #print(d.path)\n",
        "            # Add class idx to paths\n",
        "            paths = [(p, c) for p in paths]\n",
        "            class_image_paths.extend(paths)\n",
        "            end_idx.extend([len(paths)])\n",
        "\n",
        "end_idx = [0, *end_idx]\n",
        "end_idx = torch.cumsum(torch.tensor(end_idx), 0)\n",
        "seq_length = 3\n",
        "\n",
        "sampler = ImageSampler(end_idx, seq_length)\n",
        "input_size = 224\n",
        "\n",
        "# TODO: Fix transformer dimensions\n",
        "transform = transforms.Compose([\n",
        "        transforms.Resize((input_size)),  \n",
        "        transforms.CenterCrop(input_size),                     \n",
        "        # transforms.RandomResizedCrop(input_size),\n",
        "        # transforms.RandomHorizontalFlip(),\n",
        "        transforms.ToTensor(),\n",
        "        # transforms.Normalize([0.485, 0.456, 0.406], [0.229, 0.224, 0.225])\n",
        "])\n",
        "\n",
        "dataset = ImageSequenceDataset(\n",
        "    image_paths=class_image_paths,\n",
        "    seq_length=seq_length,\n",
        "    transform=transform,\n",
        "    length=len(sampler), \n",
        "    #AUG\n",
        "    train=True)\n",
        "\n",
        "\n",
        "loader = DataLoader(\n",
        "    dataset,\n",
        "    batch_size=batch_size,\n",
        "    sampler=sampler\n",
        ")\n",
        "\n",
        "\n",
        "dataloaders_dict_train = {x: loader for x in ['train']}"
      ],
      "execution_count": null,
      "outputs": []
    },
    {
      "cell_type": "code",
      "metadata": {
        "id": "ul3KA2MVWaJn"
      },
      "source": [
        "# Display resulting image\n",
        "inputs, classes = next(iter(dataloaders_dict_train['train']))  \n",
        "\n",
        "clip = inputs[0]\n",
        "fig, axes = plt.subplots(2, seq_length)\n",
        "for img_idx in range(seq_length):\n",
        "    img = clip[img_idx]\n",
        "    img_display = torch.transpose(img.data, 0, 2)\n",
        "    img_display = torch.transpose(img_display, 0, 1)\n",
        "    axes[0, img_idx].imshow(img_display)\n",
        "    axes[0, img_idx].axis('off')\n",
        "    axes[0, 0].set_title('original clip')\n",
        "plt.show()"
      ],
      "execution_count": null,
      "outputs": []
    },
    {
      "cell_type": "code",
      "metadata": {
        "id": "tXCjNSleULO2"
      },
      "source": [
        "root_dir = '/content/drive/MyDrive/COS429_Final_Project/BOSTON_DATA4/val'\n",
        "class_paths = [d.path for d in os.scandir(root_dir) if d.is_dir]\n",
        "\n",
        "class_image_paths = []\n",
        "end_idx = []\n",
        "for c, class_path in enumerate(class_paths):\n",
        "    for d in os.scandir(class_path):\n",
        "        if d.is_dir:\n",
        "            paths = sorted(glob.glob(os.path.join(d.path, '*.jpg')))\n",
        "            #print(d.path)\n",
        "            # Add class idx to paths\n",
        "            paths = [(p, c) for p in paths]\n",
        "            class_image_paths.extend(paths)\n",
        "            end_idx.extend([len(paths)])\n",
        "\n",
        "end_idx = [0, *end_idx]\n",
        "end_idx = torch.cumsum(torch.tensor(end_idx), 0)\n",
        "seq_length = 3\n",
        "\n",
        "sampler = ImageSampler(end_idx, seq_length)\n",
        "input_size = 224\n",
        "\n",
        "# TODO: Fix transformer dimensions\n",
        "transform = transforms.Compose([\n",
        "        transforms.Resize((input_size)),  \n",
        "        transforms.CenterCrop(input_size),                     \n",
        "        # transforms.RandomResizedCrop(input_size),\n",
        "        # transforms.RandomHorizontalFlip(),\n",
        "        transforms.ToTensor(),\n",
        "        # transforms.Normalize([0.485, 0.456, 0.406], [0.229, 0.224, 0.225])\n",
        "])\n",
        "\n",
        "dataset = ImageSequenceDataset(\n",
        "    image_paths=class_image_paths,\n",
        "    seq_length=seq_length,\n",
        "    transform=transform,\n",
        "    length=len(sampler), \n",
        "    #AUG\n",
        "    train=False)\n",
        "\n",
        "\n",
        "loader = DataLoader(\n",
        "    dataset,\n",
        "    batch_size=batch_size,\n",
        "    sampler=sampler\n",
        ")\n",
        "\n",
        "\n",
        "dataloaders_dict_val = {x: loader for x in ['val']}"
      ],
      "execution_count": null,
      "outputs": []
    },
    {
      "cell_type": "code",
      "metadata": {
        "id": "aD36YVveWbm6"
      },
      "source": [
        "# Display resulting image\n",
        "inputs, classes = next(iter(dataloaders_dict_train['train']))  \n",
        "\n",
        "clip = inputs[0]\n",
        "fig, axes = plt.subplots(2, seq_length)\n",
        "for img_idx in range(seq_length):\n",
        "    img = clip[img_idx]\n",
        "    img_display = torch.transpose(img.data, 0, 2)\n",
        "    img_display = torch.transpose(img_display, 0, 1)\n",
        "    axes[0, img_idx].imshow(img_display)\n",
        "    axes[0, img_idx].axis('off')\n",
        "    axes[0, 0].set_title('original clip')\n",
        "plt.show()"
      ],
      "execution_count": null,
      "outputs": []
    },
    {
      "cell_type": "code",
      "metadata": {
        "id": "dhl3FRZjWZNj"
      },
      "source": [
        "import torch.nn.functional as F\n",
        "class ResCRNN(nn.Module):\n",
        "    def __init__(self, sample_size=256, sample_duration=seq_length, num_classes=num_classes,\n",
        "                lstm_hidden_size=512, lstm_num_layers=1, arch=\"resnet18\",\n",
        "                attention=False):\n",
        "        super(ResCRNN, self).__init__()\n",
        "        self.sample_size = sample_size\n",
        "        self.sample_duration = sample_duration\n",
        "        self.num_classes = num_classes\n",
        "\n",
        "        # network params\n",
        "        self.lstm_hidden_size = lstm_hidden_size\n",
        "        self.lstm_num_layers = lstm_num_layers\n",
        "        self.attention = attention\n",
        "\n",
        "        # network architecture\n",
        "        if arch == \"resnet18\":\n",
        "            resnet = models.resnet18(pretrained=True)\n",
        "        elif arch == \"resnet34\":\n",
        "            resnet = models.resnet34(pretrained=True)\n",
        "        elif arch == \"resnet50\":\n",
        "            resnet = models.resnet50(pretrained=True)\n",
        "        elif arch == \"resnet101\":\n",
        "            resnet = models.resnet101(pretrained=True)\n",
        "        elif arch == \"resnet152\":\n",
        "            resnet = models.resnet152(pretrained=True)\n",
        "        elif arch == 'alexnet':\n",
        "            resnet = torch.hub.load('pytorch/vision:v0.6.0', 'alexnet', pretrained=True)\n",
        "        elif arch =='vgg':\n",
        "            resnet = models.vgg16(pretrained=True)\n",
        "        elif arch =='inception':\n",
        "            resnet = models.inception_v3(pretrained=True)\n",
        "        # delete the last fc layer\n",
        "        modules = list(resnet.children())[:-1]\n",
        "        self.conv = nn.Sequential(*modules)\n",
        "        #print(self.conv)\n",
        "        #print('inception in features', resnet.fc.in_features)\n",
        "        self.lstm = nn.LSTM(\n",
        "            input_size=resnet.fc.in_features,\n",
        "            hidden_size=self.lstm_hidden_size,\n",
        "            num_layers=self.lstm_num_layers,\n",
        "            batch_first=True,\n",
        "        )\n",
        "        if self.attention:\n",
        "            self.attn_block = LSTMAttentionBlock(hidden_size=self.lstm_hidden_size)\n",
        "        #self.fc1 = nn.Linear(self.lstm_hidden_size, num_classes)\n",
        "        self.fc1 = nn.Linear(self.lstm_hidden_size, 128)\n",
        "        self.fc2 = nn.Linear(128, num_classes)\n",
        "\n",
        "    def forward(self, x):\n",
        "        # CNN\n",
        "        cnn_embed_seq = []\n",
        "        # x: (batch_size, t, channel, h, w)\n",
        "        for t in range(x.size(1)):\n",
        "            # with torch.no_grad():\n",
        "            #print('pre conv')\n",
        "            #print(x[:, t, :, :, :].shape)\n",
        "            out = self.conv(x[:, t, :, :, :])\n",
        "            #print('post conv shape', out.shape)\n",
        "            # print(out.shape)\n",
        "            out = out.view(out.size(0), -1)\n",
        "            cnn_embed_seq.append(out)\n",
        "\n",
        "        cnn_embed_seq = torch.stack(cnn_embed_seq, dim=0)\n",
        "        # print(cnn_embed_seq.shape)\n",
        "        # batch first\n",
        "        cnn_embed_seq = cnn_embed_seq.transpose_(0, 1)\n",
        "\n",
        "        # LSTM\n",
        "        # use faster code paths\n",
        "        self.lstm.flatten_parameters()\n",
        "        out, (h_n, c_n) = self.lstm(cnn_embed_seq, None)\n",
        "        # MLP\n",
        "        if self.attention:\n",
        "            out = self.fc1(self.attn_block(out))\n",
        "        else:\n",
        "            # out: (batch, seq, feature), choose the last time step\n",
        "            out = self.fc1(out)\n",
        "            out = F.relu(out)\n",
        "            out = self.fc2(out[:, -1, :])\n",
        "\n",
        "\n",
        "        return out"
      ],
      "execution_count": null,
      "outputs": []
    },
    {
      "cell_type": "code",
      "metadata": {
        "id": "SeMlk5lmWZP4"
      },
      "source": [
        "import torch\n",
        "from sklearn.metrics import accuracy_score\n",
        "import matplotlib.pyplot as plt\n",
        "\n",
        "def train_epoch(model, criterion, optimizer, dataloader, device, epoch, logger, log_interval, writer):\n",
        "    model.train()\n",
        "    losses = []\n",
        "    all_label = []\n",
        "    all_pred = []\n",
        "\n",
        "    for batch_idx, data in enumerate(dataloader):\n",
        "        # get the inputs and labels\n",
        "        inputs, labels = data[0].to(device), data[1].to(device)\n",
        "\n",
        "        optimizer.zero_grad()\n",
        "        # forward\n",
        "        outputs = model(inputs)\n",
        "        if isinstance(outputs, list):\n",
        "            outputs = outputs[0]\n",
        "\n",
        "        # compute the loss\n",
        "        #print('labels into loss function: ', labels)\n",
        "        loss = criterion(outputs, labels.squeeze())\n",
        "        losses.append(loss.item())\n",
        "\n",
        "        # compute the accuracy\n",
        "        prediction = torch.max(outputs, 1)[1]\n",
        "        all_label.extend(labels.squeeze())\n",
        "        all_pred.extend(prediction)\n",
        "        score = accuracy_score(labels.squeeze().cpu().data.squeeze().numpy(), prediction.cpu().data.squeeze().numpy())\n",
        "\n",
        "        # backward & optimize\n",
        "        loss.backward()\n",
        "        optimizer.step()\n",
        "\n",
        "        if (batch_idx + 1) % log_interval == 0:\n",
        "            print(\"epoch {:3d} | iteration {:5d} | Loss {:.6f} | Acc {:.2f}%\".format(epoch+1, batch_idx+1, loss.item(), score*100))\n",
        "            logger.info(\"epoch {:3d} | iteration {:5d} | Loss {:.6f} | Acc {:.2f}%\".format(epoch+1, batch_idx+1, loss.item(), score*100))\n",
        "\n",
        "    # Compute the average loss & accuracy\n",
        "    training_loss = sum(losses)/len(losses)\n",
        "    all_label = torch.stack(all_label, dim=0)\n",
        "    all_pred = torch.stack(all_pred, dim=0)\n",
        "    training_acc = accuracy_score(all_label.squeeze().cpu().data.squeeze().numpy(), all_pred.cpu().data.squeeze().numpy())\n",
        "    # Log\n",
        "    writer.add_scalars('Loss', {'train': training_loss}, epoch+1)\n",
        "    writer.add_scalars('Accuracy', {'train': training_acc}, epoch+1)\n",
        "    logger.info(\"Average Training Loss of Epoch {}: {:.6f} | Acc: {:.2f}%\".format(epoch+1, training_loss, training_acc*100))\n",
        "    print(\"Average Training Loss of Epoch {}: {:.6f} | Acc: {:.2f}%\".format(epoch+1, training_loss, training_acc*100))\n",
        "    return training_loss, training_acc"
      ],
      "execution_count": null,
      "outputs": []
    },
    {
      "cell_type": "code",
      "metadata": {
        "id": "x0qioIegWZSj"
      },
      "source": [
        "def val_epoch(model, criterion, dataloader, device, epoch, logger, writer):\n",
        "    model.eval()\n",
        "    losses = []\n",
        "    all_label = []\n",
        "    all_pred = []\n",
        "\n",
        "    with torch.no_grad():\n",
        "        for batch_idx, data in enumerate(dataloader):\n",
        "            # get the inputs and labels\n",
        "            inputs, labels = data[0].to(device), data[1].to(device)\n",
        "            # forward\n",
        "            outputs = model(inputs)\n",
        "            if isinstance(outputs, list):\n",
        "                outputs = outputs[0]\n",
        "            # compute the loss\n",
        "            #print('labels into loss function: ', labels)\n",
        "            if outputs.size(0) < 3: \n",
        "              break\n",
        "            #print(labels.squeeze().size(0))\n",
        "            loss = criterion(outputs, labels.squeeze())\n",
        "            losses.append(loss.item())\n",
        "            # collect labels & prediction\n",
        "            prediction = torch.max(outputs, 1)[1]\n",
        "            all_label.extend(labels.squeeze())\n",
        "            all_pred.extend(prediction)\n",
        "    # Compute the average loss & accuracy\n",
        "    validation_loss = sum(losses)/len(losses)\n",
        "    all_label = torch.stack(all_label, dim=0)\n",
        "    all_pred = torch.stack(all_pred, dim=0)\n",
        "    validation_acc = accuracy_score(all_label.squeeze().cpu().data.squeeze().numpy(), all_pred.cpu().data.squeeze().numpy())\n",
        "    # Log\n",
        "    writer.add_scalars('Loss', {'validation': validation_loss}, epoch+1)\n",
        "    writer.add_scalars('Accuracy', {'validation': validation_acc}, epoch+1)\n",
        "    print(\"Average Validation Loss of Epoch {}: {:.6f} | Acc: {:.2f}%\".format(epoch+1, validation_loss, validation_acc*100))\n",
        "    logger.info(\"Average Validation Loss of Epoch {}: {:.6f} | Acc: {:.2f}%\".format(epoch+1, validation_loss, validation_acc*100))\n",
        "    return validation_loss, validation_acc"
      ],
      "execution_count": null,
      "outputs": []
    },
    {
      "cell_type": "code",
      "metadata": {
        "id": "Jd81a_gvIDZ7"
      },
      "source": [
        "import os\n",
        "import sys\n",
        "from datetime import datetime\n",
        "import logging\n",
        "import torch\n",
        "import torch.nn as nn\n",
        "import torch.nn.functional as F\n",
        "import torch.optim as optim\n",
        "from torch.utils.data import DataLoader, random_split\n",
        "from torch.utils.tensorboard import SummaryWriter\n",
        "import torchvision.transforms as transforms\n",
        "'''\n",
        "from models.ConvLSTM import CRNN, ResCRNN\n",
        "from dataset import CSL_Isolated\n",
        "from train import train_epoch\n",
        "from validation import val_epoch\n",
        "'''\n",
        "\n",
        "# Path setting\n",
        "#model_path = '/content/drive/MyDrive/COS429_Final_Project/BOSTON_DATA5_COLOR/cnnlstm_models'\n",
        "#log_path = \"/content/drive/MyDrive/COS429_Final_Project/BOSTON_DATA5_COLOR/logs/cnnlstm_{:%Y-%m-%d_%H-%M-%S}.log\".format(datetime.now())\n",
        "#sum_path = \"/content/drive/MyDrive/COS429_Final_Project/BOSTON_DATA5_COLOR/runs/slr_cnnlstm_{:%Y-%m-%d_%H-%M-%S}\".format(datetime.now())\n",
        "model_path = '/content/drive/MyDrive/COS429_Final_Project/BOSTON_DATA4/cnnlstm_models'\n",
        "log_path = \"/content/drive/MyDrive/COS429_Final_Project/BOSTON_DATA4/logh/cnnlstm_{:%Y-%m-%d_%H-%M-%S}.log\".format(datetime.now())\n",
        "sum_path = \"/content/drive/MyDrive/COS429_Final_Project/BOSTON_DATA4/runs/slr_cnnlstm_{:%Y-%m-%d_%H-%M-%S}\".format(datetime.now())\n",
        "#model_path = '/content/drive/MyDrive/COS429_Final_Project/BOSTON_DATA_28_TRAINVAL/cnnlstm_models'\n",
        "#log_path = \"/content/drive/MyDrive/COS429_Final_Project/BOSTON_DATA_28_TRAINVAL/log/cnnlstm_{:%Y-%m-%d_%H-%M-%S}.log\".format(datetime.now())\n",
        "#sum_path = \"/content/drive/MyDrive/COS429_Final_Project/BOSTON_DATA_28_TRAINVAL/runs/slr_cnnlstm_{:%Y-%m-%d_%H-%M-%S}\".format(datetime.now())\n",
        "\n",
        "# Log to file & tensorboard writer\n",
        "logging.basicConfig(level=logging.INFO, format='%(message)s', handlers=[logging.FileHandler(log_path), logging.StreamHandler()])\n",
        "logger = logging.getLogger('SLR')\n",
        "logger.info('Logging to file...')\n",
        "writer = SummaryWriter(sum_path)\n",
        "\n",
        "# Device setting\n",
        "device = torch.device(\"cuda\" if torch.cuda.is_available() else \"cpu\")\n",
        "\n",
        "# Hyperparams\n",
        "epochs = 15\n",
        "batch_size = batch_size #3\n",
        "learning_rate = 0.0005013740714335444\n",
        "weight_decay = 2.7280602855311857e-05\n",
        "log_interval = 20\n",
        "sample_size = 299 #224\n",
        "sample_duration = seq_length # 5\n",
        "num_classes = num_classes # 64\n",
        "lstm_hidden_size = 512\n",
        "lstm_num_layers = 1\n",
        "attention = False\n",
        "model_count = 1\n",
        "# Train with Conv+LSTM\n",
        "if __name__ == '__main__':\n",
        "    # Load data\n",
        "    train_loader = dataloaders_dict_train['train']\n",
        "    val_loader = dataloaders_dict_val['val']\n",
        "    # Create model\n",
        "    # model = CRNN(sample_size=sample_size, sample_duration=sample_duration, num_classes=num_classes,\n",
        "    #             lstm_hidden_size=lstm_hidden_size, lstm_num_layers=lstm_num_layers).to(device)\n",
        "    model = ResCRNN(sample_size=sample_size, sample_duration=sample_duration, num_classes=num_classes,\n",
        "                lstm_hidden_size=lstm_hidden_size, lstm_num_layers=lstm_num_layers, attention=attention).to(device)\n",
        "    # Run the model parallelly\n",
        "    if torch.cuda.device_count() > 1:\n",
        "        logger.info(\"Using {} GPUs\".format(torch.cuda.device_count()))\n",
        "        model = nn.DataParallel(model)\n",
        "    # Create loss criterion & optimizer\n",
        "    criterion = nn.CrossEntropyLoss()\n",
        "    optimizer = optim.Adam(model.parameters(), lr=learning_rate, weight_decay=weight_decay)\n",
        "\n",
        "    # Start training\n",
        "    logger.info(\"Training Started\".center(60, '#'))\n",
        "    train_loss = []\n",
        "    train_acc = []\n",
        "    val_loss = []\n",
        "    val_acc = []\n",
        "    for epoch in range(epochs):\n",
        "        print('Epoch: ', epoch)\n",
        "        # Train the model\n",
        "        print('training model')\n",
        "        training_loss, training_acc = train_epoch(model, criterion, optimizer, train_loader, device, epoch, logger, log_interval, writer)\n",
        "        train_loss.append(training_loss)\n",
        "        train_acc.append(training_acc)\n",
        "\n",
        "        # Validate the model\n",
        "        print('validating model')\n",
        "        valid_loss, valid_acc =val_epoch(model, criterion, val_loader, device, epoch, logger, writer)\n",
        "        val_loss.append(valid_loss)\n",
        "        val_acc.append(valid_acc)\n",
        "\n",
        "        # Save model\n",
        "        torch.save(model.state_dict(), os.path.join(model_path, \"slr_convlstm_epoch{:03d}.pth\".format(epoch+1)))\n",
        "        logger.info(\"Epoch {} Model Saved\".format(epoch+1).center(60, '#'))\n",
        "\n",
        "    logger.info(\"Training Finished\".center(60, '#'))\n",
        "\n",
        "    plt.plot(train_loss, '-o', color='red', label='train-loss')\n",
        "    plt.plot(train_acc, '-o', color='green', label='train-acc')\n",
        "    plt.plot(val_loss, '-o', color='blue', label='val-loss')\n",
        "    plt.plot(val_acc, '-o', color='orange', label='val-acc')\n",
        "\n",
        "    plt.savefig('/content/drive/MyDrive/COS429_Final_Project/BOSTON_DATA4/plots/' + 'model' + str(model_count) + '.png')"
      ],
      "execution_count": null,
      "outputs": []
    },
    {
      "cell_type": "code",
      "metadata": {
        "colab": {
          "base_uri": "https://localhost:8080/",
          "height": 1000
        },
        "id": "fdqhLUJ1WZUs",
        "outputId": "beb7b525-6499-4c7a-96ff-12e0aacccdba"
      },
      "source": [
        "import os\n",
        "import sys\n",
        "from datetime import datetime\n",
        "import logging\n",
        "import torch\n",
        "import torch.nn as nn\n",
        "import torch.nn.functional as F\n",
        "import torch.optim as optim\n",
        "from torch.utils.data import DataLoader, random_split\n",
        "from torch.utils.tensorboard import SummaryWriter\n",
        "import torchvision.transforms as transforms\n",
        "'''\n",
        "from models.ConvLSTM import CRNN, ResCRNN\n",
        "from dataset import CSL_Isolated\n",
        "from train import train_epoch\n",
        "from validation import val_epoch\n",
        "'''\n",
        "\n",
        "# Path setting\n",
        "#model_path = '/content/drive/MyDrive/COS429_Final_Project/BOSTON_DATA5_COLOR/cnnlstm_models'\n",
        "#log_path = \"/content/drive/MyDrive/COS429_Final_Project/BOSTON_DATA5_COLOR/logs/cnnlstm_{:%Y-%m-%d_%H-%M-%S}.log\".format(datetime.now())\n",
        "#sum_path = \"/content/drive/MyDrive/COS429_Final_Project/BOSTON_DATA5_COLOR/runs/slr_cnnlstm_{:%Y-%m-%d_%H-%M-%S}\".format(datetime.now())\n",
        "model_path = '/content/drive/MyDrive/COS429_Final_Project/BOSTON_DATA4/cnnlstm_models'\n",
        "log_path = \"/content/drive/MyDrive/COS429_Final_Project/BOSTON_DATA4/logh/cnnlstm_{:%Y-%m-%d_%H-%M-%S}.log\".format(datetime.now())\n",
        "sum_path = \"/content/drive/MyDrive/COS429_Final_Project/BOSTON_DATA4/runs/slr_cnnlstm_{:%Y-%m-%d_%H-%M-%S}\".format(datetime.now())\n",
        "#model_path = '/content/drive/MyDrive/COS429_Final_Project/BOSTON_DATA_28_TRAINVAL/cnnlstm_models'\n",
        "#log_path = \"/content/drive/MyDrive/COS429_Final_Project/BOSTON_DATA_28_TRAINVAL/log/cnnlstm_{:%Y-%m-%d_%H-%M-%S}.log\".format(datetime.now())\n",
        "#sum_path = \"/content/drive/MyDrive/COS429_Final_Project/BOSTON_DATA_28_TRAINVAL/runs/slr_cnnlstm_{:%Y-%m-%d_%H-%M-%S}\".format(datetime.now())\n",
        "\n",
        "# Log to file & tensorboard writer\n",
        "logging.basicConfig(level=logging.INFO, format='%(message)s', handlers=[logging.FileHandler(log_path), logging.StreamHandler()])\n",
        "logger = logging.getLogger('SLR')\n",
        "logger.info('Logging to file...')\n",
        "writer = SummaryWriter(sum_path)\n",
        "\n",
        "# Device setting\n",
        "device = torch.device(\"cuda\" if torch.cuda.is_available() else \"cpu\")\n",
        "\n",
        "# Hyperparams\n",
        "epochs = 15\n",
        "batch_size = batch_size #3\n",
        "#learning_rate = 0.0005013740714335444\n",
        "#weight_decay = 2.7280602855311857e-05\n",
        "\n",
        "learning_rate = 7.618935788137979e-05\n",
        "weight_decay = 0.02587591092706272\n",
        "log_interval = 20\n",
        "sample_size = 299 #224\n",
        "sample_duration = seq_length # 5\n",
        "num_classes = num_classes # 64\n",
        "lstm_hidden_size = 512\n",
        "lstm_num_layers = 1\n",
        "attention = False\n",
        "model_count = 1\n",
        "# Train with Conv+LSTM\n",
        "if __name__ == '__main__':\n",
        "    # Load data\n",
        "    train_loader = dataloaders_dict_train['train']\n",
        "    val_loader = dataloaders_dict_val['val']\n",
        "    # Create model\n",
        "    # model = CRNN(sample_size=sample_size, sample_duration=sample_duration, num_classes=num_classes,\n",
        "    #             lstm_hidden_size=lstm_hidden_size, lstm_num_layers=lstm_num_layers).to(device)\n",
        "    model = ResCRNN(sample_size=sample_size, sample_duration=sample_duration, num_classes=num_classes,\n",
        "                lstm_hidden_size=lstm_hidden_size, lstm_num_layers=lstm_num_layers, attention=attention).to(device)\n",
        "    # Run the model parallelly\n",
        "    if torch.cuda.device_count() > 1:\n",
        "        logger.info(\"Using {} GPUs\".format(torch.cuda.device_count()))\n",
        "        model = nn.DataParallel(model)\n",
        "    # Create loss criterion & optimizer\n",
        "    criterion = nn.CrossEntropyLoss()\n",
        "    optimizer = optim.Adam(model.parameters(), lr=learning_rate, weight_decay=weight_decay)\n",
        "\n",
        "    # Start training\n",
        "    logger.info(\"Training Started\".center(60, '#'))\n",
        "    train_loss = []\n",
        "    train_acc = []\n",
        "    val_loss = []\n",
        "    val_acc = []\n",
        "    for epoch in range(epochs):\n",
        "        print('Epoch: ', epoch)\n",
        "        # Train the model\n",
        "        print('training model')\n",
        "        training_loss, training_acc = train_epoch(model, criterion, optimizer, train_loader, device, epoch, logger, log_interval, writer)\n",
        "        train_loss.append(training_loss)\n",
        "        train_acc.append(training_acc)\n",
        "\n",
        "        # Validate the model\n",
        "        print('validating model')\n",
        "        valid_loss, valid_acc =val_epoch(model, criterion, val_loader, device, epoch, logger, writer)\n",
        "        val_loss.append(valid_loss)\n",
        "        val_acc.append(valid_acc)\n",
        "\n",
        "        # Save model\n",
        "        torch.save(model.state_dict(), os.path.join(model_path, \"slr_convlstm_epoch{:03d}.pth\".format(epoch+1)))\n",
        "        logger.info(\"Epoch {} Model Saved\".format(epoch+1).center(60, '#'))\n",
        "\n",
        "    logger.info(\"Training Finished\".center(60, '#'))\n",
        "\n",
        "    plt.plot(train_loss, '-o', color='red', label='train-loss')\n",
        "    plt.plot(train_acc, '-o', color='green', label='train-acc')\n",
        "    plt.plot(val_loss, '-o', color='blue', label='val-loss')\n",
        "    plt.plot(val_acc, '-o', color='orange', label='val-acc')\n",
        "\n",
        "    plt.savefig('/content/drive/MyDrive/COS429_Final_Project/BOSTON_DATA4/plots/' + 'model' + str(model_count) + '.png')"
      ],
      "execution_count": null,
      "outputs": [
        {
          "output_type": "stream",
          "text": [
            "Logging to file...\n",
            "######################Training Started######################\n"
          ],
          "name": "stderr"
        },
        {
          "output_type": "stream",
          "text": [
            "Epoch:  0\n",
            "training model\n"
          ],
          "name": "stdout"
        },
        {
          "output_type": "stream",
          "text": [
            "epoch   1 | iteration    20 | Loss 1.028459 | Acc 56.25%\n"
          ],
          "name": "stderr"
        },
        {
          "output_type": "stream",
          "text": [
            "epoch   1 | iteration    20 | Loss 1.028459 | Acc 56.25%\n"
          ],
          "name": "stdout"
        },
        {
          "output_type": "stream",
          "text": [
            "epoch   1 | iteration    40 | Loss 0.523805 | Acc 87.50%\n"
          ],
          "name": "stderr"
        },
        {
          "output_type": "stream",
          "text": [
            "epoch   1 | iteration    40 | Loss 0.523805 | Acc 87.50%\n"
          ],
          "name": "stdout"
        },
        {
          "output_type": "stream",
          "text": [
            "Average Training Loss of Epoch 1: 0.879985 | Acc: 66.91%\n"
          ],
          "name": "stderr"
        },
        {
          "output_type": "stream",
          "text": [
            "Average Training Loss of Epoch 1: 0.879985 | Acc: 66.91%\n",
            "validating model\n"
          ],
          "name": "stdout"
        },
        {
          "output_type": "stream",
          "text": [
            "Average Validation Loss of Epoch 1: 1.369630 | Acc: 61.51%\n"
          ],
          "name": "stderr"
        },
        {
          "output_type": "stream",
          "text": [
            "Average Validation Loss of Epoch 1: 1.369630 | Acc: 61.51%\n"
          ],
          "name": "stdout"
        },
        {
          "output_type": "stream",
          "text": [
            "####################Epoch 1 Model Saved#####################\n"
          ],
          "name": "stderr"
        },
        {
          "output_type": "stream",
          "text": [
            "Epoch:  1\n",
            "training model\n"
          ],
          "name": "stdout"
        },
        {
          "output_type": "stream",
          "text": [
            "epoch   2 | iteration    20 | Loss 0.854063 | Acc 75.00%\n"
          ],
          "name": "stderr"
        },
        {
          "output_type": "stream",
          "text": [
            "epoch   2 | iteration    20 | Loss 0.854063 | Acc 75.00%\n"
          ],
          "name": "stdout"
        },
        {
          "output_type": "stream",
          "text": [
            "epoch   2 | iteration    40 | Loss 0.238350 | Acc 93.75%\n"
          ],
          "name": "stderr"
        },
        {
          "output_type": "stream",
          "text": [
            "epoch   2 | iteration    40 | Loss 0.238350 | Acc 93.75%\n"
          ],
          "name": "stdout"
        },
        {
          "output_type": "stream",
          "text": [
            "Average Training Loss of Epoch 2: 0.346104 | Acc: 89.90%\n"
          ],
          "name": "stderr"
        },
        {
          "output_type": "stream",
          "text": [
            "Average Training Loss of Epoch 2: 0.346104 | Acc: 89.90%\n",
            "validating model\n"
          ],
          "name": "stdout"
        },
        {
          "output_type": "stream",
          "text": [
            "Average Validation Loss of Epoch 2: 0.829428 | Acc: 69.07%\n"
          ],
          "name": "stderr"
        },
        {
          "output_type": "stream",
          "text": [
            "Average Validation Loss of Epoch 2: 0.829428 | Acc: 69.07%\n"
          ],
          "name": "stdout"
        },
        {
          "output_type": "stream",
          "text": [
            "####################Epoch 2 Model Saved#####################\n"
          ],
          "name": "stderr"
        },
        {
          "output_type": "stream",
          "text": [
            "Epoch:  2\n",
            "training model\n"
          ],
          "name": "stdout"
        },
        {
          "output_type": "stream",
          "text": [
            "epoch   3 | iteration    20 | Loss 0.665380 | Acc 75.00%\n"
          ],
          "name": "stderr"
        },
        {
          "output_type": "stream",
          "text": [
            "epoch   3 | iteration    20 | Loss 0.665380 | Acc 75.00%\n"
          ],
          "name": "stdout"
        },
        {
          "output_type": "stream",
          "text": [
            "epoch   3 | iteration    40 | Loss 0.062443 | Acc 100.00%\n"
          ],
          "name": "stderr"
        },
        {
          "output_type": "stream",
          "text": [
            "epoch   3 | iteration    40 | Loss 0.062443 | Acc 100.00%\n"
          ],
          "name": "stdout"
        },
        {
          "output_type": "stream",
          "text": [
            "Average Training Loss of Epoch 3: 0.295860 | Acc: 90.63%\n"
          ],
          "name": "stderr"
        },
        {
          "output_type": "stream",
          "text": [
            "Average Training Loss of Epoch 3: 0.295860 | Acc: 90.63%\n",
            "validating model\n"
          ],
          "name": "stdout"
        },
        {
          "output_type": "stream",
          "text": [
            "Average Validation Loss of Epoch 3: 1.405895 | Acc: 60.48%\n"
          ],
          "name": "stderr"
        },
        {
          "output_type": "stream",
          "text": [
            "Average Validation Loss of Epoch 3: 1.405895 | Acc: 60.48%\n"
          ],
          "name": "stdout"
        },
        {
          "output_type": "stream",
          "text": [
            "####################Epoch 3 Model Saved#####################\n"
          ],
          "name": "stderr"
        },
        {
          "output_type": "stream",
          "text": [
            "Epoch:  3\n",
            "training model\n"
          ],
          "name": "stdout"
        },
        {
          "output_type": "stream",
          "text": [
            "epoch   4 | iteration    20 | Loss 0.668180 | Acc 68.75%\n"
          ],
          "name": "stderr"
        },
        {
          "output_type": "stream",
          "text": [
            "epoch   4 | iteration    20 | Loss 0.668180 | Acc 68.75%\n"
          ],
          "name": "stdout"
        },
        {
          "output_type": "stream",
          "text": [
            "epoch   4 | iteration    40 | Loss 0.135890 | Acc 93.75%\n"
          ],
          "name": "stderr"
        },
        {
          "output_type": "stream",
          "text": [
            "epoch   4 | iteration    40 | Loss 0.135890 | Acc 93.75%\n"
          ],
          "name": "stdout"
        },
        {
          "output_type": "stream",
          "text": [
            "Average Training Loss of Epoch 4: 0.191661 | Acc: 93.85%\n"
          ],
          "name": "stderr"
        },
        {
          "output_type": "stream",
          "text": [
            "Average Training Loss of Epoch 4: 0.191661 | Acc: 93.85%\n",
            "validating model\n"
          ],
          "name": "stdout"
        },
        {
          "output_type": "stream",
          "text": [
            "Average Validation Loss of Epoch 4: 1.172649 | Acc: 65.29%\n"
          ],
          "name": "stderr"
        },
        {
          "output_type": "stream",
          "text": [
            "Average Validation Loss of Epoch 4: 1.172649 | Acc: 65.29%\n"
          ],
          "name": "stdout"
        },
        {
          "output_type": "stream",
          "text": [
            "####################Epoch 4 Model Saved#####################\n"
          ],
          "name": "stderr"
        },
        {
          "output_type": "stream",
          "text": [
            "Epoch:  4\n",
            "training model\n"
          ],
          "name": "stdout"
        },
        {
          "output_type": "stream",
          "text": [
            "epoch   5 | iteration    20 | Loss 0.211839 | Acc 93.75%\n"
          ],
          "name": "stderr"
        },
        {
          "output_type": "stream",
          "text": [
            "epoch   5 | iteration    20 | Loss 0.211839 | Acc 93.75%\n"
          ],
          "name": "stdout"
        },
        {
          "output_type": "stream",
          "text": [
            "epoch   5 | iteration    40 | Loss 0.038049 | Acc 100.00%\n"
          ],
          "name": "stderr"
        },
        {
          "output_type": "stream",
          "text": [
            "epoch   5 | iteration    40 | Loss 0.038049 | Acc 100.00%\n"
          ],
          "name": "stdout"
        },
        {
          "output_type": "stream",
          "text": [
            "Average Training Loss of Epoch 5: 0.174724 | Acc: 95.17%\n"
          ],
          "name": "stderr"
        },
        {
          "output_type": "stream",
          "text": [
            "Average Training Loss of Epoch 5: 0.174724 | Acc: 95.17%\n",
            "validating model\n"
          ],
          "name": "stdout"
        },
        {
          "output_type": "stream",
          "text": [
            "Average Validation Loss of Epoch 5: 0.866126 | Acc: 74.57%\n"
          ],
          "name": "stderr"
        },
        {
          "output_type": "stream",
          "text": [
            "Average Validation Loss of Epoch 5: 0.866126 | Acc: 74.57%\n"
          ],
          "name": "stdout"
        },
        {
          "output_type": "stream",
          "text": [
            "####################Epoch 5 Model Saved#####################\n"
          ],
          "name": "stderr"
        },
        {
          "output_type": "stream",
          "text": [
            "Epoch:  5\n",
            "training model\n"
          ],
          "name": "stdout"
        },
        {
          "output_type": "stream",
          "text": [
            "epoch   6 | iteration    20 | Loss 0.026805 | Acc 100.00%\n"
          ],
          "name": "stderr"
        },
        {
          "output_type": "stream",
          "text": [
            "epoch   6 | iteration    20 | Loss 0.026805 | Acc 100.00%\n"
          ],
          "name": "stdout"
        },
        {
          "output_type": "stream",
          "text": [
            "epoch   6 | iteration    40 | Loss 0.074684 | Acc 100.00%\n"
          ],
          "name": "stderr"
        },
        {
          "output_type": "stream",
          "text": [
            "epoch   6 | iteration    40 | Loss 0.074684 | Acc 100.00%\n"
          ],
          "name": "stdout"
        },
        {
          "output_type": "stream",
          "text": [
            "Average Training Loss of Epoch 6: 0.183761 | Acc: 94.44%\n"
          ],
          "name": "stderr"
        },
        {
          "output_type": "stream",
          "text": [
            "Average Training Loss of Epoch 6: 0.183761 | Acc: 94.44%\n",
            "validating model\n"
          ],
          "name": "stdout"
        },
        {
          "output_type": "stream",
          "text": [
            "Average Validation Loss of Epoch 6: 1.288256 | Acc: 65.98%\n"
          ],
          "name": "stderr"
        },
        {
          "output_type": "stream",
          "text": [
            "Average Validation Loss of Epoch 6: 1.288256 | Acc: 65.98%\n"
          ],
          "name": "stdout"
        },
        {
          "output_type": "stream",
          "text": [
            "####################Epoch 6 Model Saved#####################\n"
          ],
          "name": "stderr"
        },
        {
          "output_type": "stream",
          "text": [
            "Epoch:  6\n",
            "training model\n"
          ],
          "name": "stdout"
        },
        {
          "output_type": "stream",
          "text": [
            "epoch   7 | iteration    20 | Loss 0.081181 | Acc 100.00%\n"
          ],
          "name": "stderr"
        },
        {
          "output_type": "stream",
          "text": [
            "epoch   7 | iteration    20 | Loss 0.081181 | Acc 100.00%\n"
          ],
          "name": "stdout"
        },
        {
          "output_type": "stream",
          "text": [
            "epoch   7 | iteration    40 | Loss 0.153836 | Acc 93.75%\n"
          ],
          "name": "stderr"
        },
        {
          "output_type": "stream",
          "text": [
            "epoch   7 | iteration    40 | Loss 0.153836 | Acc 93.75%\n"
          ],
          "name": "stdout"
        },
        {
          "output_type": "stream",
          "text": [
            "Average Training Loss of Epoch 7: 0.152594 | Acc: 95.46%\n"
          ],
          "name": "stderr"
        },
        {
          "output_type": "stream",
          "text": [
            "Average Training Loss of Epoch 7: 0.152594 | Acc: 95.46%\n",
            "validating model\n"
          ],
          "name": "stdout"
        },
        {
          "output_type": "stream",
          "text": [
            "Average Validation Loss of Epoch 7: 1.425477 | Acc: 64.26%\n"
          ],
          "name": "stderr"
        },
        {
          "output_type": "stream",
          "text": [
            "Average Validation Loss of Epoch 7: 1.425477 | Acc: 64.26%\n"
          ],
          "name": "stdout"
        },
        {
          "output_type": "stream",
          "text": [
            "####################Epoch 7 Model Saved#####################\n"
          ],
          "name": "stderr"
        },
        {
          "output_type": "stream",
          "text": [
            "Epoch:  7\n",
            "training model\n"
          ],
          "name": "stdout"
        },
        {
          "output_type": "stream",
          "text": [
            "epoch   8 | iteration    20 | Loss 0.020524 | Acc 100.00%\n"
          ],
          "name": "stderr"
        },
        {
          "output_type": "stream",
          "text": [
            "epoch   8 | iteration    20 | Loss 0.020524 | Acc 100.00%\n"
          ],
          "name": "stdout"
        },
        {
          "output_type": "stream",
          "text": [
            "epoch   8 | iteration    40 | Loss 0.029867 | Acc 100.00%\n"
          ],
          "name": "stderr"
        },
        {
          "output_type": "stream",
          "text": [
            "epoch   8 | iteration    40 | Loss 0.029867 | Acc 100.00%\n"
          ],
          "name": "stdout"
        },
        {
          "output_type": "stream",
          "text": [
            "Average Training Loss of Epoch 8: 0.135583 | Acc: 95.90%\n"
          ],
          "name": "stderr"
        },
        {
          "output_type": "stream",
          "text": [
            "Average Training Loss of Epoch 8: 0.135583 | Acc: 95.90%\n",
            "validating model\n"
          ],
          "name": "stdout"
        },
        {
          "output_type": "stream",
          "text": [
            "Average Validation Loss of Epoch 8: 1.086358 | Acc: 74.23%\n"
          ],
          "name": "stderr"
        },
        {
          "output_type": "stream",
          "text": [
            "Average Validation Loss of Epoch 8: 1.086358 | Acc: 74.23%\n"
          ],
          "name": "stdout"
        },
        {
          "output_type": "stream",
          "text": [
            "####################Epoch 8 Model Saved#####################\n"
          ],
          "name": "stderr"
        },
        {
          "output_type": "stream",
          "text": [
            "Epoch:  8\n",
            "training model\n"
          ],
          "name": "stdout"
        },
        {
          "output_type": "stream",
          "text": [
            "epoch   9 | iteration    20 | Loss 0.271598 | Acc 87.50%\n"
          ],
          "name": "stderr"
        },
        {
          "output_type": "stream",
          "text": [
            "epoch   9 | iteration    20 | Loss 0.271598 | Acc 87.50%\n"
          ],
          "name": "stdout"
        },
        {
          "output_type": "stream",
          "text": [
            "epoch   9 | iteration    40 | Loss 0.108220 | Acc 93.75%\n"
          ],
          "name": "stderr"
        },
        {
          "output_type": "stream",
          "text": [
            "epoch   9 | iteration    40 | Loss 0.108220 | Acc 93.75%\n"
          ],
          "name": "stdout"
        },
        {
          "output_type": "stream",
          "text": [
            "Average Training Loss of Epoch 9: 0.108754 | Acc: 96.78%\n"
          ],
          "name": "stderr"
        },
        {
          "output_type": "stream",
          "text": [
            "Average Training Loss of Epoch 9: 0.108754 | Acc: 96.78%\n",
            "validating model\n"
          ],
          "name": "stdout"
        },
        {
          "output_type": "stream",
          "text": [
            "Average Validation Loss of Epoch 9: 1.257669 | Acc: 67.70%\n"
          ],
          "name": "stderr"
        },
        {
          "output_type": "stream",
          "text": [
            "Average Validation Loss of Epoch 9: 1.257669 | Acc: 67.70%\n"
          ],
          "name": "stdout"
        },
        {
          "output_type": "stream",
          "text": [
            "####################Epoch 9 Model Saved#####################\n"
          ],
          "name": "stderr"
        },
        {
          "output_type": "stream",
          "text": [
            "Epoch:  9\n",
            "training model\n"
          ],
          "name": "stdout"
        },
        {
          "output_type": "stream",
          "text": [
            "epoch  10 | iteration    20 | Loss 0.208071 | Acc 93.75%\n"
          ],
          "name": "stderr"
        },
        {
          "output_type": "stream",
          "text": [
            "epoch  10 | iteration    20 | Loss 0.208071 | Acc 93.75%\n"
          ],
          "name": "stdout"
        },
        {
          "output_type": "stream",
          "text": [
            "epoch  10 | iteration    40 | Loss 0.007939 | Acc 100.00%\n"
          ],
          "name": "stderr"
        },
        {
          "output_type": "stream",
          "text": [
            "epoch  10 | iteration    40 | Loss 0.007939 | Acc 100.00%\n"
          ],
          "name": "stdout"
        },
        {
          "output_type": "stream",
          "text": [
            "Average Training Loss of Epoch 10: 0.085637 | Acc: 97.51%\n"
          ],
          "name": "stderr"
        },
        {
          "output_type": "stream",
          "text": [
            "Average Training Loss of Epoch 10: 0.085637 | Acc: 97.51%\n",
            "validating model\n"
          ],
          "name": "stdout"
        },
        {
          "output_type": "stream",
          "text": [
            "Average Validation Loss of Epoch 10: 1.174886 | Acc: 70.45%\n"
          ],
          "name": "stderr"
        },
        {
          "output_type": "stream",
          "text": [
            "Average Validation Loss of Epoch 10: 1.174886 | Acc: 70.45%\n"
          ],
          "name": "stdout"
        },
        {
          "output_type": "stream",
          "text": [
            "####################Epoch 10 Model Saved####################\n",
            "#####################Training Finished######################\n"
          ],
          "name": "stderr"
        },
        {
          "output_type": "display_data",
          "data": {
            "image/png": "[encoded data removed]",
            "text/plain": [
              "<Figure size 432x288 with 1 Axes>"
            ]
          },
          "metadata": {
            "tags": [],
            "needs_background": "light"
          }
        }
      ]
    },
    {
      "cell_type": "code",
      "metadata": {
        "id": "06zctMqbWZYq"
      },
      "source": [
        ""
      ],
      "execution_count": null,
      "outputs": []
    },
    {
      "cell_type": "code",
      "metadata": {
        "id": "rnnudVPnWZa8"
      },
      "source": [
        ""
      ],
      "execution_count": null,
      "outputs": []
    },
    {
      "cell_type": "code",
      "metadata": {
        "id": "eH2xclkNWZdH"
      },
      "source": [
        ""
      ],
      "execution_count": null,
      "outputs": []
    },
    {
      "cell_type": "code",
      "metadata": {
        "id": "oO41mAybWZfD"
      },
      "source": [
        ""
      ],
      "execution_count": null,
      "outputs": []
    },
    {
      "cell_type": "code",
      "metadata": {
        "id": "GxtQ_RVQWZhd"
      },
      "source": [
        ""
      ],
      "execution_count": null,
      "outputs": []
    },
    {
      "cell_type": "code",
      "metadata": {
        "id": "Y8B_bt99WZjW"
      },
      "source": [
        ""
      ],
      "execution_count": null,
      "outputs": []
    },
    {
      "cell_type": "code",
      "metadata": {
        "id": "rq17h9YzWZlX"
      },
      "source": [
        ""
      ],
      "execution_count": null,
      "outputs": []
    },
    {
      "cell_type": "code",
      "metadata": {
        "id": "QAl3CDTVWZnx"
      },
      "source": [
        ""
      ],
      "execution_count": null,
      "outputs": []
    },
    {
      "cell_type": "code",
      "metadata": {
        "id": "QJOSKhTuWZqB"
      },
      "source": [
        ""
      ],
      "execution_count": null,
      "outputs": []
    },
    {
      "cell_type": "code",
      "metadata": {
        "id": "22pVttp6WZtj"
      },
      "source": [
        ""
      ],
      "execution_count": null,
      "outputs": []
    },
    {
      "cell_type": "code",
      "metadata": {
        "id": "A-jXaSxaWZv1"
      },
      "source": [
        ""
      ],
      "execution_count": null,
      "outputs": []
    },
    {
      "cell_type": "code",
      "metadata": {
        "id": "Xyg84CmfWZsL"
      },
      "source": [
        "import numpy as np\n",
        "import os\n",
        "import sys\n",
        "from datetime import datetime\n",
        "import logging\n",
        "import torch\n",
        "import torch.nn as nn\n",
        "import torch.nn.functional as F\n",
        "import torch.optim as optim\n",
        "from torch.utils.data import DataLoader, random_split\n",
        "from torch.utils.tensorboard import SummaryWriter\n",
        "import torchvision.transforms as transforms\n",
        "\n",
        "# Device setting\n",
        "device = torch.device(\"cuda\" if torch.cuda.is_available() else \"cpu\")\n",
        "\n",
        "# Load data\n",
        "train_loader = dataloaders_dict_train['train']\n",
        "val_loader = dataloaders_dict_val['val']\n",
        "max_count = 20\n",
        "\n",
        "# Hyperparams\n",
        "\n",
        "batch_size = 16 #3\n",
        "log_interval = 20\n",
        "sample_size = input_size #224\n",
        "sample_duration = seq_length # 5\n",
        "num_classes = num_classes # 64\n",
        "lstm_hidden_size = 512\n",
        "lstm_num_layers = 1\n",
        "attention = False\n",
        "\n",
        "def hyperparamsearch():\n",
        "  logh_path = \"/content/drive/MyDrive/COS429_Final_Project/BOSTON_DATA4/logh/params_{:%Y-%m-%d_%H-%M-%S}.log\".format(datetime.now())\n",
        "  sumh_path = \"/content/drive/MyDrive/COS429_Final_Project/BOSTON_DATA4/runs/slr_cnnlstm_{:%Y-%m-%d_%H-%M-%S}\".format(datetime.now())\n",
        "  # Log to file & tensorboard writer\n",
        "  logging.basicConfig(level=logging.INFO, format='%(message)s', handlers=[logging.FileHandler(logh_path), logging.StreamHandler()])\n",
        "  logger = logging.getLogger('SLR')\n",
        "  logger.info('Logging to file...')\n",
        "  writer = SummaryWriter(sumh_path)\n",
        "  epochs = 5\n",
        "  logger.info(\"Hyper Params Started\".center(60, '#'))\n",
        "  for count in range(max_count):\n",
        "    wd = 10**np.random.uniform(-3, 1)\n",
        "    lr = 10**np.random.uniform(-3, -5)\n",
        "    logger.info(\"lr {} wd {}\".format(lr, wd))\n",
        "    # init model \n",
        "    model = ResCRNN(sample_size=sample_size, sample_duration=sample_duration, num_classes=num_classes,\n",
        "              lstm_hidden_size=lstm_hidden_size, lstm_num_layers=lstm_num_layers, attention=attention).to(device)\n",
        "    # Run the model parallelly\n",
        "    if torch.cuda.device_count() > 1:\n",
        "        logger.info(\"Using {} GPUs\".format(torch.cuda.device_count()))\n",
        "        model = nn.DataParallel(model)\n",
        "    # Create loss criterion & optimizer\n",
        "    criterion = nn.CrossEntropyLoss()\n",
        "    optimizer = optim.Adam(model.parameters(), lr=lr, weight_decay=wd)\n",
        "\n",
        "    # Start training\n",
        "    train_loss = []\n",
        "    train_acc = []\n",
        "    val_loss = []\n",
        "    val_acc = []\n",
        "    for epoch in range(epochs):\n",
        "        print('Epoch: ', epoch)\n",
        "        # Train the model\n",
        "        print('training model')\n",
        "        training_loss, training_acc = train_epoch(model, criterion, optimizer, train_loader, device, epoch, logger, log_interval, writer)\n",
        "        train_loss.append(training_loss)\n",
        "        train_acc.append(training_acc)\n",
        "        \n",
        "        # Validate the model\n",
        "        print('validating model')\n",
        "        valid_loss, valid_acc =val_epoch(model, criterion, val_loader, device, epoch, logger, writer)\n",
        "        val_loss.append(valid_loss)\n",
        "        val_acc.append(valid_acc)\n",
        "\n",
        "        # Save model\n",
        "        #torch.save(model.state_dict(), os.path.join(model_path, \"slr_hyperparam_epoch{:03d}.pth\".format(epoch+1)))\n",
        "        logger.info(\"Epoch {} Model Saved\".format(epoch+1).center(60, '#'))\n",
        "    plt.clf()\n",
        "    plt.title('Train-Val Accuracy and Loss')\n",
        "    plt.plot(train_loss, '-o', color='red')\n",
        "    plt.plot(train_acc, '-o', color='green')\n",
        "    plt.plot(val_loss, '-o', color='blue')\n",
        "    plt.plot(val_acc, '-o', color='orange')\n",
        "    plt.savefig('/content/drive/MyDrive/COS429_Final_Project/BOSTON_DATA4/plots/' + 'hyperparam-lr' + str(lr) + 'wd' + str(wd) + '.png')\n",
        "\n",
        "  logger.info(\"HyperParams Finished\".center(60, '#'))\n",
        "\n",
        "    \n",
        "\n"
      ],
      "execution_count": null,
      "outputs": []
    },
    {
      "cell_type": "code",
      "metadata": {
        "colab": {
          "base_uri": "https://localhost:8080/"
        },
        "id": "bv7eqCEpCckh",
        "outputId": "3d185278-cd83-416a-9fa8-d682768b04a0"
      },
      "source": [
        "hyperparamsearch()"
      ],
      "execution_count": null,
      "outputs": [
        {
          "output_type": "stream",
          "text": [
            "Logging to file...\n",
            "####################Hyper Params Started####################\n",
            "lr 0.0003788416018519865 wd 0.1602365581914704\n"
          ],
          "name": "stderr"
        },
        {
          "output_type": "stream",
          "text": [
            "Epoch:  0\n",
            "training model\n"
          ],
          "name": "stdout"
        },
        {
          "output_type": "stream",
          "text": [
            "epoch   1 | iteration    20 | Loss 1.502700 | Acc 43.75%\n"
          ],
          "name": "stderr"
        },
        {
          "output_type": "stream",
          "text": [
            "epoch   1 | iteration    20 | Loss 1.502700 | Acc 43.75%\n"
          ],
          "name": "stdout"
        },
        {
          "output_type": "stream",
          "text": [
            "epoch   1 | iteration    40 | Loss 1.135984 | Acc 62.50%\n"
          ],
          "name": "stderr"
        },
        {
          "output_type": "stream",
          "text": [
            "epoch   1 | iteration    40 | Loss 1.135984 | Acc 62.50%\n"
          ],
          "name": "stdout"
        },
        {
          "output_type": "stream",
          "text": [
            "Average Training Loss of Epoch 1: 1.470995 | Acc: 48.17%\n"
          ],
          "name": "stderr"
        },
        {
          "output_type": "stream",
          "text": [
            "Average Training Loss of Epoch 1: 1.470995 | Acc: 48.17%\n",
            "validating model\n"
          ],
          "name": "stdout"
        },
        {
          "output_type": "stream",
          "text": [
            "Average Validation Loss of Epoch 1: 1.364995 | Acc: 40.21%\n",
            "####################Epoch 1 Model Saved#####################\n"
          ],
          "name": "stderr"
        },
        {
          "output_type": "stream",
          "text": [
            "Average Validation Loss of Epoch 1: 1.364995 | Acc: 40.21%\n",
            "Epoch:  1\n",
            "training model\n"
          ],
          "name": "stdout"
        },
        {
          "output_type": "stream",
          "text": [
            "epoch   2 | iteration    20 | Loss 0.926031 | Acc 68.75%\n"
          ],
          "name": "stderr"
        },
        {
          "output_type": "stream",
          "text": [
            "epoch   2 | iteration    20 | Loss 0.926031 | Acc 68.75%\n"
          ],
          "name": "stdout"
        },
        {
          "output_type": "stream",
          "text": [
            "epoch   2 | iteration    40 | Loss 0.826843 | Acc 81.25%\n"
          ],
          "name": "stderr"
        },
        {
          "output_type": "stream",
          "text": [
            "epoch   2 | iteration    40 | Loss 0.826843 | Acc 81.25%\n"
          ],
          "name": "stdout"
        },
        {
          "output_type": "stream",
          "text": [
            "Average Training Loss of Epoch 2: 0.931105 | Acc: 66.03%\n"
          ],
          "name": "stderr"
        },
        {
          "output_type": "stream",
          "text": [
            "Average Training Loss of Epoch 2: 0.931105 | Acc: 66.03%\n",
            "validating model\n"
          ],
          "name": "stdout"
        },
        {
          "output_type": "stream",
          "text": [
            "Average Validation Loss of Epoch 2: 1.212408 | Acc: 53.26%\n",
            "####################Epoch 2 Model Saved#####################\n"
          ],
          "name": "stderr"
        },
        {
          "output_type": "stream",
          "text": [
            "Average Validation Loss of Epoch 2: 1.212408 | Acc: 53.26%\n",
            "Epoch:  2\n",
            "training model\n"
          ],
          "name": "stdout"
        },
        {
          "output_type": "stream",
          "text": [
            "epoch   3 | iteration    20 | Loss 0.629195 | Acc 87.50%\n"
          ],
          "name": "stderr"
        },
        {
          "output_type": "stream",
          "text": [
            "epoch   3 | iteration    20 | Loss 0.629195 | Acc 87.50%\n"
          ],
          "name": "stdout"
        },
        {
          "output_type": "stream",
          "text": [
            "epoch   3 | iteration    40 | Loss 0.565936 | Acc 81.25%\n"
          ],
          "name": "stderr"
        },
        {
          "output_type": "stream",
          "text": [
            "epoch   3 | iteration    40 | Loss 0.565936 | Acc 81.25%\n"
          ],
          "name": "stdout"
        },
        {
          "output_type": "stream",
          "text": [
            "Average Training Loss of Epoch 3: 0.635620 | Acc: 82.14%\n"
          ],
          "name": "stderr"
        },
        {
          "output_type": "stream",
          "text": [
            "Average Training Loss of Epoch 3: 0.635620 | Acc: 82.14%\n",
            "validating model\n"
          ],
          "name": "stdout"
        },
        {
          "output_type": "stream",
          "text": [
            "Average Validation Loss of Epoch 3: 1.178676 | Acc: 57.73%\n",
            "####################Epoch 3 Model Saved#####################\n"
          ],
          "name": "stderr"
        },
        {
          "output_type": "stream",
          "text": [
            "Average Validation Loss of Epoch 3: 1.178676 | Acc: 57.73%\n",
            "Epoch:  3\n",
            "training model\n"
          ],
          "name": "stdout"
        },
        {
          "output_type": "stream",
          "text": [
            "epoch   4 | iteration    20 | Loss 0.965070 | Acc 68.75%\n"
          ],
          "name": "stderr"
        },
        {
          "output_type": "stream",
          "text": [
            "epoch   4 | iteration    20 | Loss 0.965070 | Acc 68.75%\n"
          ],
          "name": "stdout"
        },
        {
          "output_type": "stream",
          "text": [
            "epoch   4 | iteration    40 | Loss 0.854406 | Acc 75.00%\n"
          ],
          "name": "stderr"
        },
        {
          "output_type": "stream",
          "text": [
            "epoch   4 | iteration    40 | Loss 0.854406 | Acc 75.00%\n"
          ],
          "name": "stdout"
        },
        {
          "output_type": "stream",
          "text": [
            "Average Training Loss of Epoch 4: 0.656945 | Acc: 80.67%\n"
          ],
          "name": "stderr"
        },
        {
          "output_type": "stream",
          "text": [
            "Average Training Loss of Epoch 4: 0.656945 | Acc: 80.67%\n",
            "validating model\n"
          ],
          "name": "stdout"
        },
        {
          "output_type": "stream",
          "text": [
            "Average Validation Loss of Epoch 4: 1.436150 | Acc: 44.33%\n",
            "####################Epoch 4 Model Saved#####################\n"
          ],
          "name": "stderr"
        },
        {
          "output_type": "stream",
          "text": [
            "Average Validation Loss of Epoch 4: 1.436150 | Acc: 44.33%\n",
            "Epoch:  4\n",
            "training model\n"
          ],
          "name": "stdout"
        },
        {
          "output_type": "stream",
          "text": [
            "epoch   5 | iteration    20 | Loss 0.630340 | Acc 81.25%\n"
          ],
          "name": "stderr"
        },
        {
          "output_type": "stream",
          "text": [
            "epoch   5 | iteration    20 | Loss 0.630340 | Acc 81.25%\n"
          ],
          "name": "stdout"
        },
        {
          "output_type": "stream",
          "text": [
            "epoch   5 | iteration    40 | Loss 0.625992 | Acc 87.50%\n"
          ],
          "name": "stderr"
        },
        {
          "output_type": "stream",
          "text": [
            "epoch   5 | iteration    40 | Loss 0.625992 | Acc 87.50%\n"
          ],
          "name": "stdout"
        },
        {
          "output_type": "stream",
          "text": [
            "Average Training Loss of Epoch 5: 0.632362 | Acc: 81.41%\n"
          ],
          "name": "stderr"
        },
        {
          "output_type": "stream",
          "text": [
            "Average Training Loss of Epoch 5: 0.632362 | Acc: 81.41%\n",
            "validating model\n"
          ],
          "name": "stdout"
        },
        {
          "output_type": "stream",
          "text": [
            "Average Validation Loss of Epoch 5: 1.411133 | Acc: 45.02%\n",
            "####################Epoch 5 Model Saved#####################\n",
            "lr 1.8194081523213512e-05 wd 0.0010170664207801924\n"
          ],
          "name": "stderr"
        },
        {
          "output_type": "stream",
          "text": [
            "Average Validation Loss of Epoch 5: 1.411133 | Acc: 45.02%\n",
            "Epoch:  0\n",
            "training model\n"
          ],
          "name": "stdout"
        },
        {
          "output_type": "stream",
          "text": [
            "epoch   1 | iteration    20 | Loss 1.622850 | Acc 62.50%\n"
          ],
          "name": "stderr"
        },
        {
          "output_type": "stream",
          "text": [
            "epoch   1 | iteration    20 | Loss 1.622850 | Acc 62.50%\n"
          ],
          "name": "stdout"
        },
        {
          "output_type": "stream",
          "text": [
            "epoch   1 | iteration    40 | Loss 1.453390 | Acc 68.75%\n"
          ],
          "name": "stderr"
        },
        {
          "output_type": "stream",
          "text": [
            "epoch   1 | iteration    40 | Loss 1.453390 | Acc 68.75%\n"
          ],
          "name": "stdout"
        },
        {
          "output_type": "stream",
          "text": [
            "Average Training Loss of Epoch 1: 1.616333 | Acc: 49.49%\n"
          ],
          "name": "stderr"
        },
        {
          "output_type": "stream",
          "text": [
            "Average Training Loss of Epoch 1: 1.616333 | Acc: 49.49%\n",
            "validating model\n"
          ],
          "name": "stdout"
        },
        {
          "output_type": "stream",
          "text": [
            "Average Validation Loss of Epoch 1: 1.581037 | Acc: 36.77%\n",
            "####################Epoch 1 Model Saved#####################\n"
          ],
          "name": "stderr"
        },
        {
          "output_type": "stream",
          "text": [
            "Average Validation Loss of Epoch 1: 1.581037 | Acc: 36.77%\n",
            "Epoch:  1\n",
            "training model\n"
          ],
          "name": "stdout"
        },
        {
          "output_type": "stream",
          "text": [
            "epoch   2 | iteration    20 | Loss 1.277611 | Acc 68.75%\n"
          ],
          "name": "stderr"
        },
        {
          "output_type": "stream",
          "text": [
            "epoch   2 | iteration    20 | Loss 1.277611 | Acc 68.75%\n"
          ],
          "name": "stdout"
        },
        {
          "output_type": "stream",
          "text": [
            "epoch   2 | iteration    40 | Loss 1.033450 | Acc 81.25%\n"
          ],
          "name": "stderr"
        },
        {
          "output_type": "stream",
          "text": [
            "epoch   2 | iteration    40 | Loss 1.033450 | Acc 81.25%\n"
          ],
          "name": "stdout"
        },
        {
          "output_type": "stream",
          "text": [
            "Average Training Loss of Epoch 2: 1.251650 | Acc: 64.42%\n"
          ],
          "name": "stderr"
        },
        {
          "output_type": "stream",
          "text": [
            "Average Training Loss of Epoch 2: 1.251650 | Acc: 64.42%\n",
            "validating model\n"
          ],
          "name": "stdout"
        },
        {
          "output_type": "stream",
          "text": [
            "Average Validation Loss of Epoch 2: 1.326006 | Acc: 61.86%\n",
            "####################Epoch 2 Model Saved#####################\n"
          ],
          "name": "stderr"
        },
        {
          "output_type": "stream",
          "text": [
            "Average Validation Loss of Epoch 2: 1.326006 | Acc: 61.86%\n",
            "Epoch:  2\n",
            "training model\n"
          ],
          "name": "stdout"
        },
        {
          "output_type": "stream",
          "text": [
            "epoch   3 | iteration    20 | Loss 0.994584 | Acc 62.50%\n"
          ],
          "name": "stderr"
        },
        {
          "output_type": "stream",
          "text": [
            "epoch   3 | iteration    20 | Loss 0.994584 | Acc 62.50%\n"
          ],
          "name": "stdout"
        },
        {
          "output_type": "stream",
          "text": [
            "epoch   3 | iteration    40 | Loss 0.734108 | Acc 75.00%\n"
          ],
          "name": "stderr"
        },
        {
          "output_type": "stream",
          "text": [
            "epoch   3 | iteration    40 | Loss 0.734108 | Acc 75.00%\n"
          ],
          "name": "stdout"
        },
        {
          "output_type": "stream",
          "text": [
            "Average Training Loss of Epoch 3: 0.876218 | Acc: 77.45%\n"
          ],
          "name": "stderr"
        },
        {
          "output_type": "stream",
          "text": [
            "Average Training Loss of Epoch 3: 0.876218 | Acc: 77.45%\n",
            "validating model\n"
          ],
          "name": "stdout"
        },
        {
          "output_type": "stream",
          "text": [
            "Average Validation Loss of Epoch 3: 1.210056 | Acc: 61.86%\n",
            "####################Epoch 3 Model Saved#####################\n"
          ],
          "name": "stderr"
        },
        {
          "output_type": "stream",
          "text": [
            "Average Validation Loss of Epoch 3: 1.210056 | Acc: 61.86%\n",
            "Epoch:  3\n",
            "training model\n"
          ],
          "name": "stdout"
        },
        {
          "output_type": "stream",
          "text": [
            "epoch   4 | iteration    20 | Loss 0.686746 | Acc 68.75%\n"
          ],
          "name": "stderr"
        },
        {
          "output_type": "stream",
          "text": [
            "epoch   4 | iteration    20 | Loss 0.686746 | Acc 68.75%\n"
          ],
          "name": "stdout"
        },
        {
          "output_type": "stream",
          "text": [
            "epoch   4 | iteration    40 | Loss 0.229294 | Acc 100.00%\n"
          ],
          "name": "stderr"
        },
        {
          "output_type": "stream",
          "text": [
            "epoch   4 | iteration    40 | Loss 0.229294 | Acc 100.00%\n"
          ],
          "name": "stdout"
        },
        {
          "output_type": "stream",
          "text": [
            "Average Training Loss of Epoch 4: 0.584274 | Acc: 83.02%\n"
          ],
          "name": "stderr"
        },
        {
          "output_type": "stream",
          "text": [
            "Average Training Loss of Epoch 4: 0.584274 | Acc: 83.02%\n",
            "validating model\n"
          ],
          "name": "stdout"
        },
        {
          "output_type": "stream",
          "text": [
            "Average Validation Loss of Epoch 4: 1.087739 | Acc: 61.86%\n",
            "####################Epoch 4 Model Saved#####################\n"
          ],
          "name": "stderr"
        },
        {
          "output_type": "stream",
          "text": [
            "Average Validation Loss of Epoch 4: 1.087739 | Acc: 61.86%\n",
            "Epoch:  4\n",
            "training model\n"
          ],
          "name": "stdout"
        },
        {
          "output_type": "stream",
          "text": [
            "epoch   5 | iteration    20 | Loss 0.283175 | Acc 87.50%\n"
          ],
          "name": "stderr"
        },
        {
          "output_type": "stream",
          "text": [
            "epoch   5 | iteration    20 | Loss 0.283175 | Acc 87.50%\n"
          ],
          "name": "stdout"
        },
        {
          "output_type": "stream",
          "text": [
            "epoch   5 | iteration    40 | Loss 0.271731 | Acc 87.50%\n"
          ],
          "name": "stderr"
        },
        {
          "output_type": "stream",
          "text": [
            "epoch   5 | iteration    40 | Loss 0.271731 | Acc 87.50%\n"
          ],
          "name": "stdout"
        },
        {
          "output_type": "stream",
          "text": [
            "Average Training Loss of Epoch 5: 0.387238 | Acc: 86.68%\n"
          ],
          "name": "stderr"
        },
        {
          "output_type": "stream",
          "text": [
            "Average Training Loss of Epoch 5: 0.387238 | Acc: 86.68%\n",
            "validating model\n"
          ],
          "name": "stdout"
        },
        {
          "output_type": "stream",
          "text": [
            "Average Validation Loss of Epoch 5: 0.972202 | Acc: 67.70%\n",
            "####################Epoch 5 Model Saved#####################\n",
            "lr 0.0008555162379840671 wd 0.9624922967234425\n"
          ],
          "name": "stderr"
        },
        {
          "output_type": "stream",
          "text": [
            "Average Validation Loss of Epoch 5: 0.972202 | Acc: 67.70%\n",
            "Epoch:  0\n",
            "training model\n"
          ],
          "name": "stdout"
        },
        {
          "output_type": "stream",
          "text": [
            "epoch   1 | iteration    20 | Loss 1.738318 | Acc 31.25%\n"
          ],
          "name": "stderr"
        },
        {
          "output_type": "stream",
          "text": [
            "epoch   1 | iteration    20 | Loss 1.738318 | Acc 31.25%\n"
          ],
          "name": "stdout"
        },
        {
          "output_type": "stream",
          "text": [
            "epoch   1 | iteration    40 | Loss 1.717133 | Acc 37.50%\n"
          ],
          "name": "stderr"
        },
        {
          "output_type": "stream",
          "text": [
            "epoch   1 | iteration    40 | Loss 1.717133 | Acc 37.50%\n"
          ],
          "name": "stdout"
        },
        {
          "output_type": "stream",
          "text": [
            "Average Training Loss of Epoch 1: 1.722927 | Acc: 32.06%\n"
          ],
          "name": "stderr"
        },
        {
          "output_type": "stream",
          "text": [
            "Average Training Loss of Epoch 1: 1.722927 | Acc: 32.06%\n",
            "validating model\n"
          ],
          "name": "stdout"
        },
        {
          "output_type": "stream",
          "text": [
            "Average Validation Loss of Epoch 1: 1.758462 | Acc: 21.99%\n",
            "####################Epoch 1 Model Saved#####################\n"
          ],
          "name": "stderr"
        },
        {
          "output_type": "stream",
          "text": [
            "Average Validation Loss of Epoch 1: 1.758462 | Acc: 21.99%\n",
            "Epoch:  1\n",
            "training model\n"
          ],
          "name": "stdout"
        },
        {
          "output_type": "stream",
          "text": [
            "epoch   2 | iteration    20 | Loss 1.749180 | Acc 31.25%\n"
          ],
          "name": "stderr"
        },
        {
          "output_type": "stream",
          "text": [
            "epoch   2 | iteration    20 | Loss 1.749180 | Acc 31.25%\n"
          ],
          "name": "stdout"
        },
        {
          "output_type": "stream",
          "text": [
            "epoch   2 | iteration    40 | Loss 1.751938 | Acc 43.75%\n"
          ],
          "name": "stderr"
        },
        {
          "output_type": "stream",
          "text": [
            "epoch   2 | iteration    40 | Loss 1.751938 | Acc 43.75%\n"
          ],
          "name": "stdout"
        },
        {
          "output_type": "stream",
          "text": [
            "Average Training Loss of Epoch 2: 1.746128 | Acc: 31.63%\n"
          ],
          "name": "stderr"
        },
        {
          "output_type": "stream",
          "text": [
            "Average Training Loss of Epoch 2: 1.746128 | Acc: 31.63%\n",
            "validating model\n"
          ],
          "name": "stdout"
        },
        {
          "output_type": "stream",
          "text": [
            "Average Validation Loss of Epoch 2: 1.752450 | Acc: 21.99%\n",
            "####################Epoch 2 Model Saved#####################\n"
          ],
          "name": "stderr"
        },
        {
          "output_type": "stream",
          "text": [
            "Average Validation Loss of Epoch 2: 1.752450 | Acc: 21.99%\n",
            "Epoch:  2\n",
            "training model\n"
          ],
          "name": "stdout"
        },
        {
          "output_type": "stream",
          "text": [
            "epoch   3 | iteration    20 | Loss 1.741223 | Acc 18.75%\n"
          ],
          "name": "stderr"
        },
        {
          "output_type": "stream",
          "text": [
            "epoch   3 | iteration    20 | Loss 1.741223 | Acc 18.75%\n"
          ],
          "name": "stdout"
        },
        {
          "output_type": "stream",
          "text": [
            "epoch   3 | iteration    40 | Loss 1.743347 | Acc 18.75%\n"
          ],
          "name": "stderr"
        },
        {
          "output_type": "stream",
          "text": [
            "epoch   3 | iteration    40 | Loss 1.743347 | Acc 18.75%\n"
          ],
          "name": "stdout"
        },
        {
          "output_type": "stream",
          "text": [
            "Average Training Loss of Epoch 3: 1.741755 | Acc: 31.63%\n"
          ],
          "name": "stderr"
        },
        {
          "output_type": "stream",
          "text": [
            "Average Training Loss of Epoch 3: 1.741755 | Acc: 31.63%\n",
            "validating model\n"
          ],
          "name": "stdout"
        },
        {
          "output_type": "stream",
          "text": [
            "Average Validation Loss of Epoch 3: 1.741852 | Acc: 21.99%\n",
            "####################Epoch 3 Model Saved#####################\n"
          ],
          "name": "stderr"
        },
        {
          "output_type": "stream",
          "text": [
            "Average Validation Loss of Epoch 3: 1.741852 | Acc: 21.99%\n",
            "Epoch:  3\n",
            "training model\n"
          ],
          "name": "stdout"
        },
        {
          "output_type": "stream",
          "text": [
            "epoch   4 | iteration    20 | Loss 1.715821 | Acc 43.75%\n"
          ],
          "name": "stderr"
        },
        {
          "output_type": "stream",
          "text": [
            "epoch   4 | iteration    20 | Loss 1.715821 | Acc 43.75%\n"
          ],
          "name": "stdout"
        },
        {
          "output_type": "stream",
          "text": [
            "epoch   4 | iteration    40 | Loss 1.741512 | Acc 12.50%\n"
          ],
          "name": "stderr"
        },
        {
          "output_type": "stream",
          "text": [
            "epoch   4 | iteration    40 | Loss 1.741512 | Acc 12.50%\n"
          ],
          "name": "stdout"
        },
        {
          "output_type": "stream",
          "text": [
            "Average Training Loss of Epoch 4: 1.731825 | Acc: 31.63%\n"
          ],
          "name": "stderr"
        },
        {
          "output_type": "stream",
          "text": [
            "Average Training Loss of Epoch 4: 1.731825 | Acc: 31.63%\n",
            "validating model\n"
          ],
          "name": "stdout"
        },
        {
          "output_type": "stream",
          "text": [
            "Average Validation Loss of Epoch 4: 1.735319 | Acc: 21.99%\n",
            "####################Epoch 4 Model Saved#####################\n"
          ],
          "name": "stderr"
        },
        {
          "output_type": "stream",
          "text": [
            "Average Validation Loss of Epoch 4: 1.735319 | Acc: 21.99%\n",
            "Epoch:  4\n",
            "training model\n"
          ],
          "name": "stdout"
        },
        {
          "output_type": "stream",
          "text": [
            "epoch   5 | iteration    20 | Loss 1.740665 | Acc 18.75%\n"
          ],
          "name": "stderr"
        },
        {
          "output_type": "stream",
          "text": [
            "epoch   5 | iteration    20 | Loss 1.740665 | Acc 18.75%\n"
          ],
          "name": "stdout"
        },
        {
          "output_type": "stream",
          "text": [
            "epoch   5 | iteration    40 | Loss 1.725728 | Acc 25.00%\n"
          ],
          "name": "stderr"
        },
        {
          "output_type": "stream",
          "text": [
            "epoch   5 | iteration    40 | Loss 1.725728 | Acc 25.00%\n"
          ],
          "name": "stdout"
        },
        {
          "output_type": "stream",
          "text": [
            "Average Training Loss of Epoch 5: 1.724766 | Acc: 31.63%\n"
          ],
          "name": "stderr"
        },
        {
          "output_type": "stream",
          "text": [
            "Average Training Loss of Epoch 5: 1.724766 | Acc: 31.63%\n",
            "validating model\n"
          ],
          "name": "stdout"
        },
        {
          "output_type": "stream",
          "text": [
            "Average Validation Loss of Epoch 5: 1.728298 | Acc: 21.99%\n",
            "####################Epoch 5 Model Saved#####################\n",
            "lr 3.306348529300859e-05 wd 0.03248279467020009\n"
          ],
          "name": "stderr"
        },
        {
          "output_type": "stream",
          "text": [
            "Average Validation Loss of Epoch 5: 1.728298 | Acc: 21.99%\n",
            "Epoch:  0\n",
            "training model\n"
          ],
          "name": "stdout"
        },
        {
          "output_type": "stream",
          "text": [
            "epoch   1 | iteration    20 | Loss 1.726745 | Acc 18.75%\n"
          ],
          "name": "stderr"
        },
        {
          "output_type": "stream",
          "text": [
            "epoch   1 | iteration    20 | Loss 1.726745 | Acc 18.75%\n"
          ],
          "name": "stdout"
        },
        {
          "output_type": "stream",
          "text": [
            "epoch   1 | iteration    40 | Loss 1.614744 | Acc 56.25%\n"
          ],
          "name": "stderr"
        },
        {
          "output_type": "stream",
          "text": [
            "epoch   1 | iteration    40 | Loss 1.614744 | Acc 56.25%\n"
          ],
          "name": "stdout"
        },
        {
          "output_type": "stream",
          "text": [
            "Average Training Loss of Epoch 1: 1.694901 | Acc: 40.26%\n"
          ],
          "name": "stderr"
        },
        {
          "output_type": "stream",
          "text": [
            "Average Training Loss of Epoch 1: 1.694901 | Acc: 40.26%\n",
            "validating model\n"
          ],
          "name": "stdout"
        },
        {
          "output_type": "stream",
          "text": [
            "Average Validation Loss of Epoch 1: 1.652932 | Acc: 45.02%\n",
            "####################Epoch 1 Model Saved#####################\n"
          ],
          "name": "stderr"
        },
        {
          "output_type": "stream",
          "text": [
            "Average Validation Loss of Epoch 1: 1.652932 | Acc: 45.02%\n",
            "Epoch:  1\n",
            "training model\n"
          ],
          "name": "stdout"
        },
        {
          "output_type": "stream",
          "text": [
            "epoch   2 | iteration    20 | Loss 1.513657 | Acc 62.50%\n"
          ],
          "name": "stderr"
        },
        {
          "output_type": "stream",
          "text": [
            "epoch   2 | iteration    20 | Loss 1.513657 | Acc 62.50%\n"
          ],
          "name": "stdout"
        },
        {
          "output_type": "stream",
          "text": [
            "epoch   2 | iteration    40 | Loss 1.226155 | Acc 68.75%\n"
          ],
          "name": "stderr"
        },
        {
          "output_type": "stream",
          "text": [
            "epoch   2 | iteration    40 | Loss 1.226155 | Acc 68.75%\n"
          ],
          "name": "stdout"
        },
        {
          "output_type": "stream",
          "text": [
            "Average Training Loss of Epoch 2: 1.441101 | Acc: 65.74%\n"
          ],
          "name": "stderr"
        },
        {
          "output_type": "stream",
          "text": [
            "Average Training Loss of Epoch 2: 1.441101 | Acc: 65.74%\n",
            "validating model\n"
          ],
          "name": "stdout"
        },
        {
          "output_type": "stream",
          "text": [
            "Average Validation Loss of Epoch 2: 1.474081 | Acc: 57.73%\n",
            "####################Epoch 2 Model Saved#####################\n"
          ],
          "name": "stderr"
        },
        {
          "output_type": "stream",
          "text": [
            "Average Validation Loss of Epoch 2: 1.474081 | Acc: 57.73%\n",
            "Epoch:  2\n",
            "training model\n"
          ],
          "name": "stdout"
        },
        {
          "output_type": "stream",
          "text": [
            "epoch   3 | iteration    20 | Loss 0.942573 | Acc 87.50%\n"
          ],
          "name": "stderr"
        },
        {
          "output_type": "stream",
          "text": [
            "epoch   3 | iteration    20 | Loss 0.942573 | Acc 87.50%\n"
          ],
          "name": "stdout"
        },
        {
          "output_type": "stream",
          "text": [
            "epoch   3 | iteration    40 | Loss 1.024221 | Acc 75.00%\n"
          ],
          "name": "stderr"
        },
        {
          "output_type": "stream",
          "text": [
            "epoch   3 | iteration    40 | Loss 1.024221 | Acc 75.00%\n"
          ],
          "name": "stdout"
        },
        {
          "output_type": "stream",
          "text": [
            "Average Training Loss of Epoch 3: 1.096801 | Acc: 74.52%\n"
          ],
          "name": "stderr"
        },
        {
          "output_type": "stream",
          "text": [
            "Average Training Loss of Epoch 3: 1.096801 | Acc: 74.52%\n",
            "validating model\n"
          ],
          "name": "stdout"
        },
        {
          "output_type": "stream",
          "text": [
            "Average Validation Loss of Epoch 3: 1.227006 | Acc: 61.86%\n",
            "####################Epoch 3 Model Saved#####################\n"
          ],
          "name": "stderr"
        },
        {
          "output_type": "stream",
          "text": [
            "Average Validation Loss of Epoch 3: 1.227006 | Acc: 61.86%\n",
            "Epoch:  3\n",
            "training model\n"
          ],
          "name": "stdout"
        },
        {
          "output_type": "stream",
          "text": [
            "epoch   4 | iteration    20 | Loss 0.699408 | Acc 87.50%\n"
          ],
          "name": "stderr"
        },
        {
          "output_type": "stream",
          "text": [
            "epoch   4 | iteration    20 | Loss 0.699408 | Acc 87.50%\n"
          ],
          "name": "stdout"
        },
        {
          "output_type": "stream",
          "text": [
            "epoch   4 | iteration    40 | Loss 0.614999 | Acc 81.25%\n"
          ],
          "name": "stderr"
        },
        {
          "output_type": "stream",
          "text": [
            "epoch   4 | iteration    40 | Loss 0.614999 | Acc 81.25%\n"
          ],
          "name": "stdout"
        },
        {
          "output_type": "stream",
          "text": [
            "Average Training Loss of Epoch 4: 0.752481 | Acc: 82.14%\n"
          ],
          "name": "stderr"
        },
        {
          "output_type": "stream",
          "text": [
            "Average Training Loss of Epoch 4: 0.752481 | Acc: 82.14%\n",
            "validating model\n"
          ],
          "name": "stdout"
        },
        {
          "output_type": "stream",
          "text": [
            "Average Validation Loss of Epoch 4: 1.039377 | Acc: 61.86%\n",
            "####################Epoch 4 Model Saved#####################\n"
          ],
          "name": "stderr"
        },
        {
          "output_type": "stream",
          "text": [
            "Average Validation Loss of Epoch 4: 1.039377 | Acc: 61.86%\n",
            "Epoch:  4\n",
            "training model\n"
          ],
          "name": "stdout"
        },
        {
          "output_type": "stream",
          "text": [
            "epoch   5 | iteration    20 | Loss 0.583833 | Acc 81.25%\n"
          ],
          "name": "stderr"
        },
        {
          "output_type": "stream",
          "text": [
            "epoch   5 | iteration    20 | Loss 0.583833 | Acc 81.25%\n"
          ],
          "name": "stdout"
        },
        {
          "output_type": "stream",
          "text": [
            "epoch   5 | iteration    40 | Loss 0.515563 | Acc 75.00%\n"
          ],
          "name": "stderr"
        },
        {
          "output_type": "stream",
          "text": [
            "epoch   5 | iteration    40 | Loss 0.515563 | Acc 75.00%\n"
          ],
          "name": "stdout"
        },
        {
          "output_type": "stream",
          "text": [
            "Average Training Loss of Epoch 5: 0.503096 | Acc: 84.19%\n"
          ],
          "name": "stderr"
        },
        {
          "output_type": "stream",
          "text": [
            "Average Training Loss of Epoch 5: 0.503096 | Acc: 84.19%\n",
            "validating model\n"
          ],
          "name": "stdout"
        },
        {
          "output_type": "stream",
          "text": [
            "Average Validation Loss of Epoch 5: 0.919239 | Acc: 62.54%\n",
            "####################Epoch 5 Model Saved#####################\n",
            "lr 0.0006590140667454455 wd 0.18756847443670321\n"
          ],
          "name": "stderr"
        },
        {
          "output_type": "stream",
          "text": [
            "Average Validation Loss of Epoch 5: 0.919239 | Acc: 62.54%\n",
            "Epoch:  0\n",
            "training model\n"
          ],
          "name": "stdout"
        },
        {
          "output_type": "stream",
          "text": [
            "epoch   1 | iteration    20 | Loss 1.519013 | Acc 31.25%\n"
          ],
          "name": "stderr"
        },
        {
          "output_type": "stream",
          "text": [
            "epoch   1 | iteration    20 | Loss 1.519013 | Acc 31.25%\n"
          ],
          "name": "stdout"
        },
        {
          "output_type": "stream",
          "text": [
            "epoch   1 | iteration    40 | Loss 1.186211 | Acc 50.00%\n"
          ],
          "name": "stderr"
        },
        {
          "output_type": "stream",
          "text": [
            "epoch   1 | iteration    40 | Loss 1.186211 | Acc 50.00%\n"
          ],
          "name": "stdout"
        },
        {
          "output_type": "stream",
          "text": [
            "Average Training Loss of Epoch 1: 1.363332 | Acc: 51.24%\n"
          ],
          "name": "stderr"
        },
        {
          "output_type": "stream",
          "text": [
            "Average Training Loss of Epoch 1: 1.363332 | Acc: 51.24%\n",
            "validating model\n"
          ],
          "name": "stdout"
        },
        {
          "output_type": "stream",
          "text": [
            "Average Validation Loss of Epoch 1: 1.284458 | Acc: 48.80%\n",
            "####################Epoch 1 Model Saved#####################\n"
          ],
          "name": "stderr"
        },
        {
          "output_type": "stream",
          "text": [
            "Average Validation Loss of Epoch 1: 1.284458 | Acc: 48.80%\n",
            "Epoch:  1\n",
            "training model\n"
          ],
          "name": "stdout"
        },
        {
          "output_type": "stream",
          "text": [
            "epoch   2 | iteration    20 | Loss 0.853152 | Acc 68.75%\n"
          ],
          "name": "stderr"
        },
        {
          "output_type": "stream",
          "text": [
            "epoch   2 | iteration    20 | Loss 0.853152 | Acc 68.75%\n"
          ],
          "name": "stdout"
        },
        {
          "output_type": "stream",
          "text": [
            "epoch   2 | iteration    40 | Loss 1.045962 | Acc 50.00%\n"
          ],
          "name": "stderr"
        },
        {
          "output_type": "stream",
          "text": [
            "epoch   2 | iteration    40 | Loss 1.045962 | Acc 50.00%\n"
          ],
          "name": "stdout"
        },
        {
          "output_type": "stream",
          "text": [
            "Average Training Loss of Epoch 2: 0.932903 | Acc: 60.03%\n"
          ],
          "name": "stderr"
        },
        {
          "output_type": "stream",
          "text": [
            "Average Training Loss of Epoch 2: 0.932903 | Acc: 60.03%\n",
            "validating model\n"
          ],
          "name": "stdout"
        },
        {
          "output_type": "stream",
          "text": [
            "Average Validation Loss of Epoch 2: 1.332597 | Acc: 45.36%\n",
            "####################Epoch 2 Model Saved#####################\n"
          ],
          "name": "stderr"
        },
        {
          "output_type": "stream",
          "text": [
            "Average Validation Loss of Epoch 2: 1.332597 | Acc: 45.36%\n",
            "Epoch:  2\n",
            "training model\n"
          ],
          "name": "stdout"
        },
        {
          "output_type": "stream",
          "text": [
            "epoch   3 | iteration    20 | Loss 0.908470 | Acc 62.50%\n"
          ],
          "name": "stderr"
        },
        {
          "output_type": "stream",
          "text": [
            "epoch   3 | iteration    20 | Loss 0.908470 | Acc 62.50%\n"
          ],
          "name": "stdout"
        },
        {
          "output_type": "stream",
          "text": [
            "epoch   3 | iteration    40 | Loss 1.376162 | Acc 50.00%\n"
          ],
          "name": "stderr"
        },
        {
          "output_type": "stream",
          "text": [
            "epoch   3 | iteration    40 | Loss 1.376162 | Acc 50.00%\n"
          ],
          "name": "stdout"
        },
        {
          "output_type": "stream",
          "text": [
            "Average Training Loss of Epoch 3: 1.100756 | Acc: 51.39%\n"
          ],
          "name": "stderr"
        },
        {
          "output_type": "stream",
          "text": [
            "Average Training Loss of Epoch 3: 1.100756 | Acc: 51.39%\n",
            "validating model\n"
          ],
          "name": "stdout"
        },
        {
          "output_type": "stream",
          "text": [
            "Average Validation Loss of Epoch 3: 2.289202 | Acc: 19.93%\n",
            "####################Epoch 3 Model Saved#####################\n"
          ],
          "name": "stderr"
        },
        {
          "output_type": "stream",
          "text": [
            "Average Validation Loss of Epoch 3: 2.289202 | Acc: 19.93%\n",
            "Epoch:  3\n",
            "training model\n"
          ],
          "name": "stdout"
        },
        {
          "output_type": "stream",
          "text": [
            "epoch   4 | iteration    20 | Loss 0.879655 | Acc 75.00%\n"
          ],
          "name": "stderr"
        },
        {
          "output_type": "stream",
          "text": [
            "epoch   4 | iteration    20 | Loss 0.879655 | Acc 75.00%\n"
          ],
          "name": "stdout"
        },
        {
          "output_type": "stream",
          "text": [
            "epoch   4 | iteration    40 | Loss 0.710215 | Acc 81.25%\n"
          ],
          "name": "stderr"
        },
        {
          "output_type": "stream",
          "text": [
            "epoch   4 | iteration    40 | Loss 0.710215 | Acc 81.25%\n"
          ],
          "name": "stdout"
        },
        {
          "output_type": "stream",
          "text": [
            "Average Training Loss of Epoch 4: 1.069178 | Acc: 57.54%\n"
          ],
          "name": "stderr"
        },
        {
          "output_type": "stream",
          "text": [
            "Average Training Loss of Epoch 4: 1.069178 | Acc: 57.54%\n",
            "validating model\n"
          ],
          "name": "stdout"
        },
        {
          "output_type": "stream",
          "text": [
            "Average Validation Loss of Epoch 4: 1.514873 | Acc: 32.99%\n",
            "####################Epoch 4 Model Saved#####################\n"
          ],
          "name": "stderr"
        },
        {
          "output_type": "stream",
          "text": [
            "Average Validation Loss of Epoch 4: 1.514873 | Acc: 32.99%\n",
            "Epoch:  4\n",
            "training model\n"
          ],
          "name": "stdout"
        },
        {
          "output_type": "stream",
          "text": [
            "epoch   5 | iteration    20 | Loss 1.208713 | Acc 50.00%\n"
          ],
          "name": "stderr"
        },
        {
          "output_type": "stream",
          "text": [
            "epoch   5 | iteration    20 | Loss 1.208713 | Acc 50.00%\n"
          ],
          "name": "stdout"
        },
        {
          "output_type": "stream",
          "text": [
            "epoch   5 | iteration    40 | Loss 1.234057 | Acc 50.00%\n"
          ],
          "name": "stderr"
        },
        {
          "output_type": "stream",
          "text": [
            "epoch   5 | iteration    40 | Loss 1.234057 | Acc 50.00%\n"
          ],
          "name": "stdout"
        },
        {
          "output_type": "stream",
          "text": [
            "Average Training Loss of Epoch 5: 1.027153 | Acc: 55.64%\n"
          ],
          "name": "stderr"
        },
        {
          "output_type": "stream",
          "text": [
            "Average Training Loss of Epoch 5: 1.027153 | Acc: 55.64%\n",
            "validating model\n"
          ],
          "name": "stdout"
        },
        {
          "output_type": "stream",
          "text": [
            "Average Validation Loss of Epoch 5: 1.794325 | Acc: 31.27%\n",
            "####################Epoch 5 Model Saved#####################\n",
            "lr 2.4690363610887363e-05 wd 0.0020641209135554782\n"
          ],
          "name": "stderr"
        },
        {
          "output_type": "stream",
          "text": [
            "Average Validation Loss of Epoch 5: 1.794325 | Acc: 31.27%\n",
            "Epoch:  0\n",
            "training model\n"
          ],
          "name": "stdout"
        },
        {
          "output_type": "stream",
          "text": [
            "epoch   1 | iteration    20 | Loss 1.665424 | Acc 43.75%\n"
          ],
          "name": "stderr"
        },
        {
          "output_type": "stream",
          "text": [
            "epoch   1 | iteration    20 | Loss 1.665424 | Acc 43.75%\n"
          ],
          "name": "stdout"
        },
        {
          "output_type": "stream",
          "text": [
            "epoch   1 | iteration    40 | Loss 1.395707 | Acc 56.25%\n"
          ],
          "name": "stderr"
        },
        {
          "output_type": "stream",
          "text": [
            "epoch   1 | iteration    40 | Loss 1.395707 | Acc 56.25%\n"
          ],
          "name": "stdout"
        },
        {
          "output_type": "stream",
          "text": [
            "Average Training Loss of Epoch 1: 1.608082 | Acc: 47.29%\n"
          ],
          "name": "stderr"
        },
        {
          "output_type": "stream",
          "text": [
            "Average Training Loss of Epoch 1: 1.608082 | Acc: 47.29%\n",
            "validating model\n"
          ],
          "name": "stdout"
        },
        {
          "output_type": "stream",
          "text": [
            "Average Validation Loss of Epoch 1: 1.543396 | Acc: 42.27%\n",
            "####################Epoch 1 Model Saved#####################\n"
          ],
          "name": "stderr"
        },
        {
          "output_type": "stream",
          "text": [
            "Average Validation Loss of Epoch 1: 1.543396 | Acc: 42.27%\n",
            "Epoch:  1\n",
            "training model\n"
          ],
          "name": "stdout"
        },
        {
          "output_type": "stream",
          "text": [
            "epoch   2 | iteration    20 | Loss 1.255794 | Acc 50.00%\n"
          ],
          "name": "stderr"
        },
        {
          "output_type": "stream",
          "text": [
            "epoch   2 | iteration    20 | Loss 1.255794 | Acc 50.00%\n"
          ],
          "name": "stdout"
        },
        {
          "output_type": "stream",
          "text": [
            "epoch   2 | iteration    40 | Loss 0.868983 | Acc 87.50%\n"
          ],
          "name": "stderr"
        },
        {
          "output_type": "stream",
          "text": [
            "epoch   2 | iteration    40 | Loss 0.868983 | Acc 87.50%\n"
          ],
          "name": "stdout"
        },
        {
          "output_type": "stream",
          "text": [
            "Average Training Loss of Epoch 2: 1.164073 | Acc: 68.96%\n"
          ],
          "name": "stderr"
        },
        {
          "output_type": "stream",
          "text": [
            "Average Training Loss of Epoch 2: 1.164073 | Acc: 68.96%\n",
            "validating model\n"
          ],
          "name": "stdout"
        },
        {
          "output_type": "stream",
          "text": [
            "Average Validation Loss of Epoch 2: 1.266050 | Acc: 61.86%\n",
            "####################Epoch 2 Model Saved#####################\n"
          ],
          "name": "stderr"
        },
        {
          "output_type": "stream",
          "text": [
            "Average Validation Loss of Epoch 2: 1.266050 | Acc: 61.86%\n",
            "Epoch:  2\n",
            "training model\n"
          ],
          "name": "stdout"
        },
        {
          "output_type": "stream",
          "text": [
            "epoch   3 | iteration    20 | Loss 0.643356 | Acc 87.50%\n"
          ],
          "name": "stderr"
        },
        {
          "output_type": "stream",
          "text": [
            "epoch   3 | iteration    20 | Loss 0.643356 | Acc 87.50%\n"
          ],
          "name": "stdout"
        },
        {
          "output_type": "stream",
          "text": [
            "epoch   3 | iteration    40 | Loss 0.539065 | Acc 87.50%\n"
          ],
          "name": "stderr"
        },
        {
          "output_type": "stream",
          "text": [
            "epoch   3 | iteration    40 | Loss 0.539065 | Acc 87.50%\n"
          ],
          "name": "stdout"
        },
        {
          "output_type": "stream",
          "text": [
            "Average Training Loss of Epoch 3: 0.691822 | Acc: 83.02%\n"
          ],
          "name": "stderr"
        },
        {
          "output_type": "stream",
          "text": [
            "Average Training Loss of Epoch 3: 0.691822 | Acc: 83.02%\n",
            "validating model\n"
          ],
          "name": "stdout"
        },
        {
          "output_type": "stream",
          "text": [
            "Average Validation Loss of Epoch 3: 1.039261 | Acc: 61.86%\n",
            "####################Epoch 3 Model Saved#####################\n"
          ],
          "name": "stderr"
        },
        {
          "output_type": "stream",
          "text": [
            "Average Validation Loss of Epoch 3: 1.039261 | Acc: 61.86%\n",
            "Epoch:  3\n",
            "training model\n"
          ],
          "name": "stdout"
        },
        {
          "output_type": "stream",
          "text": [
            "epoch   4 | iteration    20 | Loss 0.301098 | Acc 93.75%\n"
          ],
          "name": "stderr"
        },
        {
          "output_type": "stream",
          "text": [
            "epoch   4 | iteration    20 | Loss 0.301098 | Acc 93.75%\n"
          ],
          "name": "stdout"
        },
        {
          "output_type": "stream",
          "text": [
            "epoch   4 | iteration    40 | Loss 0.258126 | Acc 100.00%\n"
          ],
          "name": "stderr"
        },
        {
          "output_type": "stream",
          "text": [
            "epoch   4 | iteration    40 | Loss 0.258126 | Acc 100.00%\n"
          ],
          "name": "stdout"
        },
        {
          "output_type": "stream",
          "text": [
            "Average Training Loss of Epoch 4: 0.418450 | Acc: 87.55%\n"
          ],
          "name": "stderr"
        },
        {
          "output_type": "stream",
          "text": [
            "Average Training Loss of Epoch 4: 0.418450 | Acc: 87.55%\n",
            "validating model\n"
          ],
          "name": "stdout"
        },
        {
          "output_type": "stream",
          "text": [
            "Average Validation Loss of Epoch 4: 0.913627 | Acc: 62.89%\n",
            "####################Epoch 4 Model Saved#####################\n"
          ],
          "name": "stderr"
        },
        {
          "output_type": "stream",
          "text": [
            "Average Validation Loss of Epoch 4: 0.913627 | Acc: 62.89%\n",
            "Epoch:  4\n",
            "training model\n"
          ],
          "name": "stdout"
        },
        {
          "output_type": "stream",
          "text": [
            "epoch   5 | iteration    20 | Loss 0.267194 | Acc 87.50%\n"
          ],
          "name": "stderr"
        },
        {
          "output_type": "stream",
          "text": [
            "epoch   5 | iteration    20 | Loss 0.267194 | Acc 87.50%\n"
          ],
          "name": "stdout"
        },
        {
          "output_type": "stream",
          "text": [
            "epoch   5 | iteration    40 | Loss 0.193439 | Acc 100.00%\n"
          ],
          "name": "stderr"
        },
        {
          "output_type": "stream",
          "text": [
            "epoch   5 | iteration    40 | Loss 0.193439 | Acc 100.00%\n"
          ],
          "name": "stdout"
        },
        {
          "output_type": "stream",
          "text": [
            "Average Training Loss of Epoch 5: 0.265425 | Acc: 93.41%\n"
          ],
          "name": "stderr"
        },
        {
          "output_type": "stream",
          "text": [
            "Average Training Loss of Epoch 5: 0.265425 | Acc: 93.41%\n",
            "validating model\n"
          ],
          "name": "stdout"
        },
        {
          "output_type": "stream",
          "text": [
            "Average Validation Loss of Epoch 5: 0.874818 | Acc: 67.01%\n",
            "####################Epoch 5 Model Saved#####################\n",
            "lr 0.00016329881234759304 wd 2.0619651322788313\n"
          ],
          "name": "stderr"
        },
        {
          "output_type": "stream",
          "text": [
            "Average Validation Loss of Epoch 5: 0.874818 | Acc: 67.01%\n",
            "Epoch:  0\n",
            "training model\n"
          ],
          "name": "stdout"
        },
        {
          "output_type": "stream",
          "text": [
            "epoch   1 | iteration    20 | Loss 1.775808 | Acc 43.75%\n"
          ],
          "name": "stderr"
        },
        {
          "output_type": "stream",
          "text": [
            "epoch   1 | iteration    20 | Loss 1.775808 | Acc 43.75%\n"
          ],
          "name": "stdout"
        },
        {
          "output_type": "stream",
          "text": [
            "epoch   1 | iteration    40 | Loss 1.768943 | Acc 31.25%\n"
          ],
          "name": "stderr"
        },
        {
          "output_type": "stream",
          "text": [
            "epoch   1 | iteration    40 | Loss 1.768943 | Acc 31.25%\n"
          ],
          "name": "stdout"
        },
        {
          "output_type": "stream",
          "text": [
            "Average Training Loss of Epoch 1: 1.777604 | Acc: 28.11%\n"
          ],
          "name": "stderr"
        },
        {
          "output_type": "stream",
          "text": [
            "Average Training Loss of Epoch 1: 1.777604 | Acc: 28.11%\n",
            "validating model\n"
          ],
          "name": "stdout"
        }
      ]
    },
    {
      "cell_type": "code",
      "metadata": {
        "id": "ScUYvwRNnLuq"
      },
      "source": [
        ""
      ],
      "execution_count": null,
      "outputs": []
    },
    {
      "cell_type": "code",
      "metadata": {
        "id": "LrH1L30DnLyA"
      },
      "source": [
        ""
      ],
      "execution_count": null,
      "outputs": []
    },
    {
      "cell_type": "code",
      "metadata": {
        "id": "St6rHBGtnL0f"
      },
      "source": [
        ""
      ],
      "execution_count": null,
      "outputs": []
    },
    {
      "cell_type": "code",
      "metadata": {
        "id": "K7I86qrnnL4n"
      },
      "source": [
        ""
      ],
      "execution_count": null,
      "outputs": []
    },
    {
      "cell_type": "code",
      "metadata": {
        "id": "b9j2N5TLnL7M"
      },
      "source": [
        ""
      ],
      "execution_count": null,
      "outputs": []
    },
    {
      "cell_type": "code",
      "metadata": {
        "id": "Ka7HfPtynL9n"
      },
      "source": [
        ""
      ],
      "execution_count": null,
      "outputs": []
    },
    {
      "cell_type": "code",
      "metadata": {
        "id": "qCSOKxMOnMAa"
      },
      "source": [
        ""
      ],
      "execution_count": null,
      "outputs": []
    },
    {
      "cell_type": "code",
      "metadata": {
        "colab": {
          "base_uri": "https://localhost:8080/",
          "height": 240
        },
        "id": "pAd26F4c0uEU",
        "outputId": "e0383d38-ab67-4749-c2aa-10df2d1f8861"
      },
      "source": [
        "from imgaug import augmenters as iaa\n",
        "path = '/content/drive/MyDrive/COS429_Final_Project/BOSTON_DATA4/train/BREAK/42986/42986-0.jpg'\n",
        "\n",
        "image = cv2.imread(path)\n",
        "plt.imshow(image)\n",
        "seq = iaa.Sequential([\n",
        "                         iaa.CoarseDropout(0.3, size_percent=0.1), \n",
        "                         iaa.GammaContrast(2.3), \n",
        "                         iaa.Fliplr(p=1)\n",
        "])\n",
        "\n"
      ],
      "execution_count": null,
      "outputs": [
        {
          "output_type": "display_data",
          "data": {
            "image/png": "[encoded data removed]",
            "text/plain": [
              "<Figure size 432x288 with 1 Axes>"
            ]
          },
          "metadata": {
            "tags": [],
            "needs_background": "light"
          }
        }
      ]
    },
    {
      "cell_type": "code",
      "metadata": {
        "colab": {
          "base_uri": "https://localhost:8080/",
          "height": 257
        },
        "id": "zbf2w7vo1dYX",
        "outputId": "0489517f-ce45-4c53-c6f8-a809d992b49a"
      },
      "source": [
        "augimage = seq(image=image)\n",
        "plt.imshow(augimage)"
      ],
      "execution_count": null,
      "outputs": [
        {
          "output_type": "execute_result",
          "data": {
            "text/plain": [
              "<matplotlib.image.AxesImage at 0x7f33320c7668>"
            ]
          },
          "metadata": {
            "tags": []
          },
          "execution_count": 318
        },
        {
          "output_type": "display_data",
          "data": {
            "image/png": "[encoded data removed]",
            "text/plain": [
              "<Figure size 432x288 with 1 Axes>"
            ]
          },
          "metadata": {
            "tags": [],
            "needs_background": "light"
          }
        }
      ]
    }
  ]
}