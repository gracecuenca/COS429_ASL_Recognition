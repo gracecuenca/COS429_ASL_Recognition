{
  "nbformat": 4,
  "nbformat_minor": 0,
  "metadata": {
    "accelerator": "GPU",
    "colab": {
      "name": "25+LSTM+Grace.ipynb",
      "provenance": [],
      "collapsed_sections": []
    },
    "kernelspec": {
      "display_name": "Python 3",
      "name": "python3"
    }
  },
  "cells": [
    {
      "cell_type": "code",
      "metadata": {
        "colab": {
          "base_uri": "https://localhost:8080/"
        },
        "id": "nQzSi3bY6Pzh",
        "outputId": "f6ef10a3-12d8-48c1-8bb5-4517a61d8145"
      },
      "source": [
        "pip install Pillow"
      ],
      "execution_count": 79,
      "outputs": [
        {
          "output_type": "stream",
          "text": [
            "Requirement already satisfied: Pillow in /usr/local/lib/python3.6/dist-packages (7.0.0)\n"
          ],
          "name": "stdout"
        }
      ]
    },
    {
      "cell_type": "code",
      "metadata": {
        "id": "B1s5fybD6Qh6"
      },
      "source": [
        "from __future__ import print_function\n",
        "from __future__ import division\n",
        "import torch\n",
        "import torch.nn as nn\n",
        "import torch.optim as optim\n",
        "import numpy as np\n",
        "import torchvision\n",
        "from imgaug import augmenters as iaa\n",
        "from torchvision import datasets, models, transforms\n",
        "import matplotlib.pyplot as plt\n",
        "import matplotlib.image as mpimg\n",
        "import time\n",
        "import os\n",
        "import glob\n",
        "import copy\n",
        "import os\n",
        "from torch.utils.data import Dataset, DataLoader\n",
        "import torchvision.transforms as transforms\n",
        "from PIL import Image\n",
        "import cv2\n",
        "from google.colab.patches import cv2_imshow\n",
        "import pandas as pd\n",
        "from skimage import io, transform\n",
        "from torchvision import transforms, utils"
      ],
      "execution_count": 80,
      "outputs": []
    },
    {
      "cell_type": "code",
      "metadata": {
        "colab": {
          "base_uri": "https://localhost:8080/"
        },
        "id": "7mI7T6nYhh3G",
        "outputId": "e1305c20-8441-470a-f81e-4ab53a2d0003"
      },
      "source": [
        "# mounting drive \n",
        "from google.colab import drive\n",
        "drive.mount('/content/drive')"
      ],
      "execution_count": 81,
      "outputs": [
        {
          "output_type": "stream",
          "text": [
            "Drive already mounted at /content/drive; to attempt to forcibly remount, call drive.mount(\"/content/drive\", force_remount=True).\n"
          ],
          "name": "stdout"
        }
      ]
    },
    {
      "cell_type": "code",
      "metadata": {
        "colab": {
          "base_uri": "https://localhost:8080/"
        },
        "id": "WWzWEmC9sYEc",
        "outputId": "159917ed-d3f5-4a52-a291-a6d77b50ec0c"
      },
      "source": [
        "cd /content/drive/MyDrive/COS429_Final_Project/"
      ],
      "execution_count": 82,
      "outputs": [
        {
          "output_type": "stream",
          "text": [
            "/content/drive/.shortcut-targets-by-id/1ovw9re0A-fNM5W9dPWViPUskeUdZQ7j6/COS429_Final_Project\n"
          ],
          "name": "stdout"
        }
      ]
    },
    {
      "cell_type": "code",
      "metadata": {
        "colab": {
          "base_uri": "https://localhost:8080/"
        },
        "id": "_JdU_Qq8QZJ0",
        "outputId": "9d0232b6-173b-4d26-c993-416c318b43a7"
      },
      "source": [
        "class_name = {}\n",
        "label_names = []\n",
        "for i, label in enumerate(os.listdir('BOSTON_DATA_28_TRAINVAL/train/')):\n",
        "  label_names.append(label)\n",
        "  class_name[label] = i\n",
        "  print(label)\n",
        "  "
      ],
      "execution_count": 83,
      "outputs": [
        {
          "output_type": "stream",
          "text": [
            "CANCEL\n",
            "HAPPY\n",
            "WHY\n",
            "SICK\n",
            "CHAT\n",
            "CORRECT\n",
            "THANK_YOU\n",
            "FRIEND\n",
            "BIG\n",
            "NO\n",
            "LOVE\n",
            "PARTY\n",
            "ALWAYS\n",
            "BREAKDOWN\n",
            "LIVE\n",
            "FAVORITE\n",
            "BORED\n",
            "CLEAN\n",
            "BORN\n",
            "BEAUTIFUL\n",
            "WHAT\n",
            "CRASH\n",
            "BREAK\n",
            "CANNOT\n",
            "NONE\n"
          ],
          "name": "stdout"
        }
      ]
    },
    {
      "cell_type": "code",
      "metadata": {
        "id": "rA9hktxNQid8",
        "colab": {
          "base_uri": "https://localhost:8080/"
        },
        "outputId": "c3512a5e-e30b-417a-df6a-ed1967d75bf3"
      },
      "source": [
        "len(label_names)"
      ],
      "execution_count": 84,
      "outputs": [
        {
          "output_type": "execute_result",
          "data": {
            "text/plain": [
              "25"
            ]
          },
          "metadata": {
            "tags": []
          },
          "execution_count": 84
        }
      ]
    },
    {
      "cell_type": "code",
      "metadata": {
        "colab": {
          "base_uri": "https://localhost:8080/"
        },
        "id": "2AKuAM48ObRZ",
        "outputId": "40b5d564-306b-404e-e671-905ec30de91b"
      },
      "source": [
        "cd BOSTON_DATA_28_TRAINVAL/"
      ],
      "execution_count": 85,
      "outputs": [
        {
          "output_type": "stream",
          "text": [
            "/content/drive/.shortcut-targets-by-id/1ovw9re0A-fNM5W9dPWViPUskeUdZQ7j6/COS429_Final_Project/BOSTON_DATA_28_TRAINVAL\n"
          ],
          "name": "stdout"
        }
      ]
    },
    {
      "cell_type": "code",
      "metadata": {
        "id": "Rktca0dqgJNx"
      },
      "source": [
        "# following this tutorial: https://pytorch.org/tutorials/beginner/finetuning_torchvision_models_tutorial.html\n",
        "# Top level data directory. Here we assume the format of the directory conforms\n",
        "#   to the ImageFolder structure\n",
        "# old image\n",
        "# path = '/content/drive/MyDrive/COS429_Final_Project/signs_images/train'\n",
        "\n",
        "# new path to get static images for CNN\n",
        "root_folder_name = 'BOSTON_DATA_28_TRAINVAL'\n",
        "path = '/content/drive/MyDrive/COS429_Final_Project/' + root_folder_name\n",
        "\n",
        "# Models to choose from [resnet, alexnet, vgg, squeezenet, densenet, inception]\n",
        "model_name = \"inception\"\n",
        "\n",
        "# Number of classes in the dataset\n",
        "num_classes = len(label_names) # change when done finetuning\n",
        "\n",
        "# Batch size for training (change depending on how much memory you have)\n",
        "batch_size = 16\n",
        "input_size = 224\n",
        "\n",
        "# Number of epochs to train for\n",
        "num_epochs = 10\n",
        "\n",
        "# Flag for feature extracting. When False, we finetune the whole model,\n",
        "#   when True we only update the reshaped layer params\n",
        "# feature_extract = False"
      ],
      "execution_count": 86,
      "outputs": []
    },
    {
      "cell_type": "code",
      "metadata": {
        "id": "ELZO-9odXzXa"
      },
      "source": [
        "def crop_center(img,cropx=112,cropy=224):\n",
        "    y,x,d = img.shape\n",
        "    startx = x//2-(cropx//2)\n",
        "    starty = y//2-(cropy//2)    \n",
        "    return img[starty:starty+cropy,startx:startx+cropx]"
      ],
      "execution_count": 87,
      "outputs": []
    },
    {
      "cell_type": "code",
      "metadata": {
        "id": "kx2XKLZgULDw"
      },
      "source": [
        "# sampler is used to get valid indices for batches of sequences of imgs\n",
        "class ImageSampler(torch.utils.data.Sampler):\n",
        "    def __init__(self, end_idx, seq_length):        \n",
        "        indices = []\n",
        "        #print(end_idx)\n",
        "        for i in range(len(end_idx)-1):\n",
        "            start = end_idx[i]\n",
        "            end = end_idx[i+1] - seq_length\n",
        "            if (start > end): \n",
        "              break\n",
        "            indices.append(torch.arange(start, end))\n",
        "        indices = torch.cat(indices)\n",
        "        self.indices = indices\n",
        "        \n",
        "    def __iter__(self):\n",
        "        indices = self.indices[torch.randperm(len(self.indices))]\n",
        "        return iter(indices.tolist())\n",
        "    \n",
        "    def __len__(self):\n",
        "        return len(self.indices)\n",
        "\n",
        "# homemade dataset to get sequences of images for LSTM \n",
        "class ImageSequenceDataset(Dataset):\n",
        "    def __init__(self, image_paths, seq_length, transform, length, train):\n",
        "        self.image_paths = image_paths\n",
        "        self.seq_length = seq_length\n",
        "        self.transform = transform\n",
        "        self.length = length\n",
        "        #AUG\n",
        "        self.train = train \n",
        "        \n",
        "    def __getitem__(self, index):\n",
        "        start = index\n",
        "        end = index + self.seq_length\n",
        "        #print('Getting images from {} to {}'.format(start, end))\n",
        "        indices = list(range(start, end))\n",
        "        images = []\n",
        "        #AUG\n",
        "        coarsedrop = np.random.uniform(0, 0.5)\n",
        "        sp = np.random.uniform()\n",
        "        gc = np.random.uniform(0.5, 2)\n",
        "        aug = iaa.Sequential([\n",
        "                         iaa.CoarseDropout(coarsedrop, size_percent=sp), \n",
        "                         iaa.GammaContrast(gc), \n",
        "                         iaa.Fliplr(p=1.0)])\n",
        "                         #iaa.AdditiveGaussianNoise(10,20)])\n",
        "        #AUG\n",
        "        p = np.random.uniform()\n",
        "        idx = 0 \n",
        "        while idx < len(indices):\n",
        "            i = indices[idx]\n",
        "            image_path = self.image_paths[i][0]\n",
        "            try:\n",
        "              image = cv2.imread(image_path)\n",
        "              #image = cv2.resize(image, (input_size, input_size))\n",
        "              #image = crop_center(image)\n",
        "              #print(image_path)\n",
        "              #if not image: \n",
        "              # print('image shape done', image_path, image.shape)\n",
        "              '''face_path_arr = image_path.split('/')\n",
        "              face_path_arr[5] = 'BOSTON_DATA_28_FACES_TRAINVAL'\n",
        "              face_path_arr[-1] = 'face-'+face_path_arr[-1]\n",
        "              face_path = \"/\".join(face_path_arr)\n",
        "              face = cv2.imread(face_path)\n",
        "              #print(face_path)\n",
        "              #if not face:\n",
        "              print('face shape done', image_path, face.shape)'''\n",
        "            except:\n",
        "              break\n",
        "            #face = cv2.resize(face, (input_size // 2, input_size))\n",
        "            #image = cv2.resize(image, (input_size // 2, input_size))\n",
        "            #image = cv2.hconcat([image, face])\n",
        "            #AUG\n",
        "            if p > 0.5 and self.train:\n",
        "              image = aug(image=image)\n",
        "            image = Image.fromarray(image)\n",
        "            if self.transform:\n",
        "              image = self.transform(image)\n",
        "            images.append(image)\n",
        "            idx += 1\n",
        "        while len(images) != 0 and len(images) < 3: \n",
        "          images.append(images[-1])\n",
        "        image_stack = torch.stack(images)\n",
        "        label = class_name[self.image_paths[i][0].split('/')[7]]\n",
        "        print(self.image_paths[i][0].split('/')[7])\n",
        "        return image_stack, label\n",
        "    \n",
        "    def __len__(self):\n",
        "        return self.length"
      ],
      "execution_count": 88,
      "outputs": []
    },
    {
      "cell_type": "code",
      "metadata": {
        "id": "q0vhMvqJULF7"
      },
      "source": [
        "root_dir = '/content/drive/MyDrive/COS429_Final_Project/'+root_folder_name+'/train'\n",
        "class_paths = [d.path for d in os.scandir(root_dir) if d.is_dir]\n",
        "\n",
        "class_image_paths = []\n",
        "end_idx = []\n",
        "for c, class_path in enumerate(class_paths):\n",
        "    for d in os.scandir(class_path):\n",
        "        if d.is_dir:\n",
        "            paths = sorted(glob.glob(os.path.join(d.path, '*.jpg')))\n",
        "            #print(d.path)\n",
        "            # Add class idx to paths\n",
        "            paths = [(p, c) for p in paths]\n",
        "            class_image_paths.extend(paths)\n",
        "            end_idx.extend([len(paths)])\n",
        "\n",
        "end_idx = [0, *end_idx]\n",
        "end_idx = torch.cumsum(torch.tensor(end_idx), 0)\n",
        "seq_length = 3\n",
        "\n",
        "sampler = ImageSampler(end_idx, seq_length)\n",
        "input_size = 224\n",
        "\n",
        "# TODO: Fix transformer dimensions\n",
        "transform = transforms.Compose([\n",
        "        transforms.Resize((input_size)),  \n",
        "        transforms.CenterCrop(input_size),                     \n",
        "        # transforms.RandomResizedCrop(input_size),\n",
        "        # transforms.RandomHorizontalFlip(),\n",
        "        transforms.ToTensor(),\n",
        "        # transforms.Normalize([0.485, 0.456, 0.406], [0.229, 0.224, 0.225])\n",
        "])\n",
        "\n",
        "dataset = ImageSequenceDataset(\n",
        "    image_paths=class_image_paths,\n",
        "    seq_length=seq_length,\n",
        "    transform=transform,\n",
        "    length=len(sampler), \n",
        "    #AUG\n",
        "    train=True)\n",
        "\n",
        "\n",
        "loader = DataLoader(\n",
        "    dataset,\n",
        "    batch_size=batch_size,\n",
        "    sampler=sampler\n",
        ")\n",
        "\n",
        "dataloaders_dict_train = {x: loader for x in ['train']}"
      ],
      "execution_count": 89,
      "outputs": []
    },
    {
      "cell_type": "code",
      "metadata": {
        "id": "qLG6LNWe6WkU",
        "colab": {
          "base_uri": "https://localhost:8080/",
          "height": 558
        },
        "outputId": "1d9bd44e-1b3c-43c1-fe62-1e2e8b3ed449"
      },
      "source": [
        "# Display resulting image\n",
        "inputs, classes = next(iter(dataloaders_dict_train['train']))  \n",
        "\n",
        "clip = inputs[0]\n",
        "fig, axes = plt.subplots(2, seq_length)\n",
        "for img_idx in range(seq_length):\n",
        "    img = clip[img_idx]\n",
        "    img_display = torch.transpose(img.data, 0, 2)\n",
        "    img_display = torch.transpose(img_display, 0, 1)\n",
        "    axes[0, img_idx].imshow(img_display)\n",
        "    axes[0, img_idx].axis('off')\n",
        "    axes[0, 0].set_title('original clip')\n",
        "plt.show()\n"
      ],
      "execution_count": 90,
      "outputs": [
        {
          "output_type": "stream",
          "text": [
            "CANCEL\n",
            "HAPPY\n",
            "WHY\n",
            "CANCEL\n",
            "CHAT\n",
            "CANCEL\n",
            "WHY\n",
            "SICK\n",
            "CANCEL\n",
            "SICK\n",
            "SICK\n",
            "SICK\n",
            "SICK\n",
            "WHY\n",
            "CANCEL\n",
            "CORRECT\n"
          ],
          "name": "stdout"
        },
        {
          "output_type": "display_data",
          "data": {
            "image/png": "[encoded data removed]",
            "text/plain": [
              "<Figure size 432x288 with 6 Axes>"
            ]
          },
          "metadata": {
            "tags": [],
            "needs_background": "light"
          }
        }
      ]
    },
    {
      "cell_type": "code",
      "metadata": {
        "id": "lyqcsKv7vCSW",
        "colab": {
          "base_uri": "https://localhost:8080/",
          "height": 281
        },
        "outputId": "07e702fd-6ed9-4e4e-a240-378a315d8134"
      },
      "source": [
        "# change the index of inputs!!\n",
        "clip = inputs[0]\n",
        "fig, axes = plt.subplots(2, seq_length)\n",
        "for img_idx in range(seq_length):\n",
        "    img = clip[img_idx]\n",
        "    img_display = torch.transpose(img.data, 0, 2)\n",
        "    img_display = torch.transpose(img_display, 0, 1)\n",
        "    axes[0, img_idx].imshow(img_display)\n",
        "    axes[0, img_idx].axis('off')\n",
        "    axes[0, 0].set_title('original clip')\n",
        "plt.show()"
      ],
      "execution_count": 91,
      "outputs": [
        {
          "output_type": "display_data",
          "data": {
            "image/png": "[encoded data removed]",
            "text/plain": [
              "<Figure size 432x288 with 6 Axes>"
            ]
          },
          "metadata": {
            "tags": [],
            "needs_background": "light"
          }
        }
      ]
    },
    {
      "cell_type": "code",
      "metadata": {
        "id": "tXCjNSleULO2"
      },
      "source": [
        "root_dir = '/content/drive/MyDrive/COS429_Final_Project/'+root_folder_name+'/val'\n",
        "class_paths = [d.path for d in os.scandir(root_dir) if d.is_dir]\n",
        "\n",
        "class_image_paths = []\n",
        "end_idx = []\n",
        "for c, class_path in enumerate(class_paths):\n",
        "    for d in os.scandir(class_path):\n",
        "        if d.is_dir:\n",
        "            paths = sorted(glob.glob(os.path.join(d.path, '*.jpg')))\n",
        "            #print(d.path)\n",
        "            # Add class idx to paths\n",
        "            paths = [(p, c) for p in paths]\n",
        "            class_image_paths.extend(paths)\n",
        "            end_idx.extend([len(paths)])\n",
        "\n",
        "end_idx = [0, *end_idx]\n",
        "end_idx = torch.cumsum(torch.tensor(end_idx), 0)\n",
        "seq_length = 3\n",
        "\n",
        "sampler = ImageSampler(end_idx, seq_length)\n",
        "input_size = 224\n",
        "\n",
        "# TODO: Fix transformer dimensions\n",
        "transform = transforms.Compose([\n",
        "        transforms.Resize((input_size)),  \n",
        "        transforms.CenterCrop(input_size),                     \n",
        "        # transforms.RandomResizedCrop(input_size),\n",
        "        # transforms.RandomHorizontalFlip(),\n",
        "        transforms.ToTensor(),\n",
        "        # transforms.Normalize([0.485, 0.456, 0.406], [0.229, 0.224, 0.225])\n",
        "])\n",
        "\n",
        "dataset = ImageSequenceDataset(\n",
        "    image_paths=class_image_paths,\n",
        "    seq_length=seq_length,\n",
        "    transform=transform,\n",
        "    length=len(sampler), \n",
        "    #AUG\n",
        "    train=False)\n",
        "\n",
        "\n",
        "\n",
        "loader = DataLoader(\n",
        "    dataset,\n",
        "    batch_size=batch_size,\n",
        "    sampler=sampler\n",
        ")\n",
        "\n",
        "\n",
        "dataloaders_dict_val = {x: loader for x in ['val']}"
      ],
      "execution_count": 92,
      "outputs": []
    },
    {
      "cell_type": "code",
      "metadata": {
        "colab": {
          "base_uri": "https://localhost:8080/",
          "height": 558
        },
        "id": "66IjkoryaCvY",
        "outputId": "86bac67c-56e7-4b75-869d-be381c44d846"
      },
      "source": [
        "# Display resulting image from val\n",
        "inputs, classes = next(iter(dataloaders_dict_val['val']))  \n",
        "\n",
        "clip = inputs[0]\n",
        "fig, axes = plt.subplots(2, seq_length)\n",
        "for img_idx in range(seq_length):\n",
        "    img = clip[img_idx]\n",
        "    img_display = torch.transpose(img.data, 0, 2)\n",
        "    img_display = torch.transpose(img_display, 0, 1)\n",
        "    axes[0, img_idx].imshow(img_display)\n",
        "    axes[0, img_idx].axis('off')\n",
        "    axes[0, 0].set_title('original clip')\n",
        "plt.show()"
      ],
      "execution_count": 93,
      "outputs": [
        {
          "output_type": "stream",
          "text": [
            "SICK\n",
            "SICK\n",
            "WHY\n",
            "FRIEND\n",
            "SICK\n",
            "FRIEND\n",
            "WHY\n",
            "FRIEND\n",
            "SICK\n",
            "SICK\n",
            "WHY\n",
            "WHY\n",
            "HAPPY\n",
            "WHY\n",
            "CHAT\n",
            "WHY\n"
          ],
          "name": "stdout"
        },
        {
          "output_type": "display_data",
          "data": {
            "image/png": "[encoded data removed]",
            "text/plain": [
              "<Figure size 432x288 with 6 Axes>"
            ]
          },
          "metadata": {
            "tags": [],
            "needs_background": "light"
          }
        }
      ]
    },
    {
      "cell_type": "code",
      "metadata": {
        "id": "RRQh5VkVqWf2"
      },
      "source": [
        "# Flag for feature extracting. When False, we finetune the whole model,\n",
        "#   when True we only update the reshaped layer params\n",
        "def set_parameter_requires_grad(model, feature_extracting):\n",
        "    if feature_extracting:\n",
        "        for param in model.parameters():\n",
        "            param.requires_grad = False\n",
        "# freezing\n",
        "feature_extract = True"
      ],
      "execution_count": 94,
      "outputs": []
    },
    {
      "cell_type": "code",
      "metadata": {
        "id": "dhl3FRZjWZNj"
      },
      "source": [
        "class ResCRNN(nn.Module):\n",
        "    def __init__(self, sample_size=256, sample_duration=seq_length, num_classes=num_classes,\n",
        "                lstm_hidden_size=512, lstm_num_layers=1, arch=\"ours\",\n",
        "                attention=False):\n",
        "        super(ResCRNN, self).__init__()\n",
        "        self.sample_size = sample_size\n",
        "        self.sample_duration = sample_duration\n",
        "        self.num_classes = num_classes\n",
        "\n",
        "        # network params\n",
        "        self.lstm_hidden_size = lstm_hidden_size\n",
        "        self.lstm_num_layers = lstm_num_layers\n",
        "        self.attention = attention\n",
        "\n",
        "        # network architecture\n",
        "        if arch == \"resnet18\":\n",
        "            resnet = models.resnet18(pretrained=True)\n",
        "        elif arch == \"resnet34\":\n",
        "            resnet = models.resnet34(pretrained=True)\n",
        "        elif arch == \"resnet50\":\n",
        "            resnet = models.resnet50(pretrained=True)\n",
        "        elif arch == \"resnet101\":\n",
        "            resnet = models.resnet101(pretrained=True)\n",
        "        elif arch == \"resnet152\":\n",
        "            resnet = models.resnet152(pretrained=True)\n",
        "        elif arch == \"ours\":\n",
        "          resnet = torch.load('/content/drive/MyDrive/COS429_Final_Project/signs_img_cnn/signs_images/model.npz', map_location='cpu')\n",
        "          set_parameter_requires_grad(resnet, feature_extracting=True)\n",
        "        # delete the last fc layer\n",
        "        modules = list(resnet.children())[:-1]\n",
        "        self.resnet = nn.Sequential(*modules)\n",
        "        in_features = list(resnet.children())[-1][1].in_features\n",
        "        self.lstm = nn.LSTM(\n",
        "            input_size=in_features,\n",
        "            hidden_size=self.lstm_hidden_size,\n",
        "            num_layers=self.lstm_num_layers,\n",
        "            batch_first=True,\n",
        "        )\n",
        "        if self.attention:\n",
        "            self.attn_block = LSTMAttentionBlock(hidden_size=self.lstm_hidden_size)\n",
        "        self.fc1 = nn.Linear(self.lstm_hidden_size, self.num_classes)\n",
        "\n",
        "    def forward(self, x):\n",
        "        # CNN\n",
        "        cnn_embed_seq = []\n",
        "        # x: (batch_size, t, channel, h, w)\n",
        "        for t in range(x.size(1)):\n",
        "            # with torch.no_grad():\n",
        "            out = self.resnet(x[:, t, :, :, :])\n",
        "            # print(out.shape)\n",
        "            out = out.view(out.size(0), -1)\n",
        "            cnn_embed_seq.append(out)\n",
        "\n",
        "        cnn_embed_seq = torch.stack(cnn_embed_seq, dim=0)\n",
        "        # print(cnn_embed_seq.shape)\n",
        "        # batch first\n",
        "        cnn_embed_seq = cnn_embed_seq.transpose_(0, 1)\n",
        "\n",
        "        # LSTM\n",
        "        # use faster code paths\n",
        "        self.lstm.flatten_parameters()\n",
        "        out, (h_n, c_n) = self.lstm(cnn_embed_seq, None)\n",
        "        # MLP\n",
        "        if self.attention:\n",
        "            out = self.fc1(self.attn_block(out))\n",
        "        else:\n",
        "            # out: (batch, seq, feature), choose the last time step\n",
        "            out = self.fc1(out[:, -1, :])\n",
        "\n",
        "        return out"
      ],
      "execution_count": 95,
      "outputs": []
    },
    {
      "cell_type": "code",
      "metadata": {
        "id": "SeMlk5lmWZP4"
      },
      "source": [
        "import torch\n",
        "from sklearn.metrics import accuracy_score\n",
        "import matplotlib.pyplot as plt\n",
        "\n",
        "def train_epoch(model, criterion, optimizer, dataloader, device, epoch, logger, log_interval, writer):\n",
        "    model.train()\n",
        "    losses = []\n",
        "    all_label = []\n",
        "    all_pred = []\n",
        "\n",
        "    for batch_idx, data in enumerate(dataloader):\n",
        "        # get the inputs and labels\n",
        "        inputs, labels = data[0].to(device), data[1].to(device)\n",
        "\n",
        "        optimizer.zero_grad()\n",
        "        # forward\n",
        "        outputs = model(inputs)\n",
        "        if isinstance(outputs, list):\n",
        "            outputs = outputs[0]\n",
        "\n",
        "        # compute the loss\n",
        "        #print('labels into loss function: ', labels)\n",
        "        loss = criterion(outputs, labels.squeeze())\n",
        "        losses.append(loss.item())\n",
        "\n",
        "        # compute the accuracy\n",
        "        prediction = torch.max(outputs, 1)[1]\n",
        "        all_label.extend(labels.squeeze())\n",
        "        all_pred.extend(prediction)\n",
        "        score = accuracy_score(labels.squeeze().cpu().data.squeeze().numpy(), prediction.cpu().data.squeeze().numpy())\n",
        "\n",
        "        # backward & optimize\n",
        "        loss.backward()\n",
        "        optimizer.step()\n",
        "\n",
        "        if (batch_idx + 1) % log_interval == 0:\n",
        "            print(\"epoch {:3d} | iteration {:5d} | Loss {:.6f} | Acc {:.2f}%\".format(epoch+1, batch_idx+1, loss.item(), score*100))\n",
        "            logger.info(\"epoch {:3d} | iteration {:5d} | Loss {:.6f} | Acc {:.2f}%\".format(epoch+1, batch_idx+1, loss.item(), score*100))\n",
        "\n",
        "    # Compute the average loss & accuracy\n",
        "    training_loss = sum(losses)/len(losses)\n",
        "    all_label = torch.stack(all_label, dim=0)\n",
        "    all_pred = torch.stack(all_pred, dim=0)\n",
        "    training_acc = accuracy_score(all_label.squeeze().cpu().data.squeeze().numpy(), all_pred.cpu().data.squeeze().numpy())\n",
        "    # Log\n",
        "    writer.add_scalars('Loss', {'train': training_loss}, epoch+1)\n",
        "    writer.add_scalars('Accuracy', {'train': training_acc}, epoch+1)\n",
        "    logger.info(\"Average Training Loss of Epoch {}: {:.6f} | Acc: {:.2f}%\".format(epoch+1, training_loss, training_acc*100))\n",
        "    print(\"Average Training Loss of Epoch {}: {:.6f} | Acc: {:.2f}%\".format(epoch+1, training_loss, training_acc*100))\n",
        "    return training_loss, training_acc"
      ],
      "execution_count": 96,
      "outputs": []
    },
    {
      "cell_type": "code",
      "metadata": {
        "id": "x0qioIegWZSj"
      },
      "source": [
        "def val_epoch(model, criterion, dataloader, device, epoch, logger, writer):\n",
        "    model.eval()\n",
        "    losses = []\n",
        "    all_label = []\n",
        "    all_pred = []\n",
        "\n",
        "    with torch.no_grad():\n",
        "        for batch_idx, data in enumerate(dataloader):\n",
        "            # get the inputs and labels\n",
        "            inputs, labels = data[0].to(device), data[1].to(device)\n",
        "            # forward\n",
        "            outputs = model(inputs)\n",
        "            if isinstance(outputs, list):\n",
        "                outputs = outputs[0]\n",
        "            # compute the loss\n",
        "            #print('labels into loss function: ', labels)\n",
        "            #print(outputs.size(0))\n",
        "            if outputs.size(0) < 3: \n",
        "              print('break')\n",
        "              break\n",
        "            #print(labels.squeeze().size(0))\n",
        "            loss = criterion(outputs, labels.squeeze())\n",
        "            losses.append(loss.item())\n",
        "            # collect labels & prediction\n",
        "            prediction = torch.max(outputs, 1)[1]\n",
        "            all_label.extend(labels.squeeze())\n",
        "            all_pred.extend(prediction)\n",
        "    # Compute the average loss & accuracy\n",
        "    validation_loss = sum(losses)/len(losses)\n",
        "    all_label = torch.stack(all_label, dim=0)\n",
        "    all_pred = torch.stack(all_pred, dim=0)\n",
        "    validation_acc = accuracy_score(all_label.squeeze().cpu().data.squeeze().numpy(), all_pred.cpu().data.squeeze().numpy())\n",
        "    # Log\n",
        "    writer.add_scalars('Loss', {'validation': validation_loss}, epoch+1)\n",
        "    writer.add_scalars('Accuracy', {'validation': validation_acc}, epoch+1)\n",
        "    print(\"Average Validation Loss of Epoch {}: {:.6f} | Acc: {:.2f}%\".format(epoch+1, validation_loss, validation_acc*100))\n",
        "    logger.info(\"Average Validation Loss of Epoch {}: {:.6f} | Acc: {:.2f}%\".format(epoch+1, validation_loss, validation_acc*100))\n",
        "    return validation_loss, validation_acc"
      ],
      "execution_count": 97,
      "outputs": []
    },
    {
      "cell_type": "code",
      "metadata": {
        "colab": {
          "base_uri": "https://localhost:8080/",
          "height": 1000
        },
        "id": "fdqhLUJ1WZUs",
        "outputId": "ece64028-46f3-49ce-959d-def6290e4a59"
      },
      "source": [
        "import os\n",
        "import sys\n",
        "from datetime import datetime\n",
        "import logging\n",
        "import torch\n",
        "import torch.nn as nn\n",
        "import torch.nn.functional as F\n",
        "import torch.optim as optim\n",
        "from torch.utils.data import DataLoader, random_split\n",
        "from torch.utils.tensorboard import SummaryWriter\n",
        "import torchvision.transforms as transforms\n",
        "'''\n",
        "from models.ConvLSTM import CRNN, ResCRNN\n",
        "from dataset import CSL_Isolated\n",
        "from train import train_epoch\n",
        "from validation import val_epoch\n",
        "'''\n",
        "\n",
        "# Path setting\n",
        "model_path = '/content/drive/MyDrive/COS429_Final_Project/'+root_folder_name+'/cnnlstm_models'\n",
        "log_path = '/content/drive/MyDrive/COS429_Final_Project/'+root_folder_name+'/log/cnnlstm_{:%Y-%m-%d_%H-%M-%S}.log'.format(datetime.now())\n",
        "sum_path = '/content/drive/MyDrive/COS429_Final_Project/'+root_folder_name+'/runs/slr_cnnlstm_{:%Y-%m-%d_%H-%M-%S}'.format(datetime.now())\n",
        "\n",
        "# Log to file & tensorboard writer\n",
        "for handler in logging.root.handlers[:]:\n",
        "    logging.root.removeHandler(handler)\n",
        "logging.basicConfig(level=logging.INFO, format='%(message)s', handlers=[logging.FileHandler(log_path), logging.StreamHandler()])\n",
        "logger = logging.getLogger('SLR')\n",
        "logger.info('Logging to file...')\n",
        "logger.error('This should go to both console and file')\n",
        "writer = SummaryWriter(sum_path)\n",
        "\n",
        "# Device setting\n",
        "device = torch.device(\"cuda\" if torch.cuda.is_available() else \"cpu\")\n",
        "\n",
        "# Hyperparams\n",
        "epochs = 15\n",
        "batch_size = batch_size #3\n",
        "learning_rate = 7.618935788137979e-05\n",
        "weight_decay = 0.02587591092706272\n",
        "log_interval = 20\n",
        "sample_size = input_size #224\n",
        "sample_duration = seq_length # 3\n",
        "num_classes = num_classes # 25\n",
        "lstm_hidden_size = 512\n",
        "lstm_num_layers = 1\n",
        "attention = False\n",
        "model_count = 5\n",
        "# Train with Conv+LSTM\n",
        "if __name__ == '__main__':\n",
        "    # Load data\n",
        "    train_loader = dataloaders_dict_train['train']\n",
        "    val_loader = dataloaders_dict_val['val']\n",
        "    # Create model\n",
        "    #model = CRNN(sample_size=sample_size, sample_duration=sample_duration, num_classes=num_classes,\n",
        "    #             lstm_hidden_size=lstm_hidden_size, lstm_num_layers=lstm_num_layers).to(device)\n",
        "    model = ResCRNN(sample_size=sample_size, sample_duration=sample_duration, num_classes=num_classes,\n",
        "                lstm_hidden_size=lstm_hidden_size, lstm_num_layers=lstm_num_layers, attention=attention).to(device)\n",
        "    # Run the model parallelly\n",
        "    if torch.cuda.device_count() > 1:\n",
        "        logger.info(\"Using {} GPUs\".format(torch.cuda.device_count()))\n",
        "        model = nn.DataParallel(model)\n",
        "    # Create loss criterion & optimizer\n",
        "    criterion = nn.CrossEntropyLoss()\n",
        "    optimizer = optim.Adam(model.parameters(), lr=learning_rate, weight_decay=weight_decay)\n",
        "\n",
        "    # Start training\n",
        "    logger.info(\"Training Started\".center(60, '#'))\n",
        "    train_loss = []\n",
        "    train_acc = []\n",
        "    val_loss = []\n",
        "    val_acc = []\n",
        "    for epoch in range(epochs):\n",
        "        print('Epoch: ', epoch)\n",
        "        # Train the model\n",
        "        print('training model')\n",
        "        training_loss, training_acc = train_epoch(model, criterion, optimizer, train_loader, device, epoch, logger, log_interval, writer)\n",
        "        train_loss.append(training_loss)\n",
        "        train_acc.append(training_acc)\n",
        "\n",
        "        # Validate the model\n",
        "        print('validating model')\n",
        "        valid_loss, valid_acc = val_epoch(model, criterion, val_loader, device, epoch, logger, writer)\n",
        "        val_loss.append(valid_loss)\n",
        "        val_acc.append(valid_acc)\n",
        "\n",
        "        # Save model\n",
        "        torch.save(model.state_dict(), os.path.join(model_path, \"slr_convlstm_epoch{:03d}.pth\".format(epoch+1)))\n",
        "        logger.info(\"Epoch {} Model Saved\".format(epoch+1).center(60, '#'))\n",
        "        writer.add_scalar('Loss/train', training_loss, epoch)\n",
        "        writer.add_scalar('Loss/test', valid_loss, epoch)\n",
        "        writer.add_scalar('Accuracy/train', valid_loss, epoch)\n",
        "        writer.add_scalar('Accuracy/test', valid_acc, epoch)\n",
        "\n",
        "    logger.info(\"Training Finished\".center(60, '#'))\n",
        "\n",
        "    plt.plot(train_loss, '-o', color='red', label='train-loss')\n",
        "    plt.plot(train_acc, '-o', color='green', label='train-acc')\n",
        "    plt.plot(val_loss, '-o', color='blue', label='val-loss')\n",
        "    plt.plot(val_acc, '-o', color='orange', label='val-acc')\n",
        "    plt.legend()\n",
        "\n",
        "    plt.savefig('/content/drive/MyDrive/COS429_Final_Project/'+ root_folder_name + '/plot/model' + str(model_count) + '.png')"
      ],
      "execution_count": null,
      "outputs": [
        {
          "output_type": "stream",
          "text": [
            "Logging to file...\n",
            "This should go to both console and file\n",
            "######################Training Started######################\n"
          ],
          "name": "stderr"
        },
        {
          "output_type": "stream",
          "text": [
            "Epoch:  0\n",
            "training model\n"
          ],
          "name": "stdout"
        },
        {
          "output_type": "stream",
          "text": [
            "epoch   1 | iteration    20 | Loss 2.783863 | Acc 31.25%\n"
          ],
          "name": "stderr"
        },
        {
          "output_type": "stream",
          "text": [
            "epoch   1 | iteration    20 | Loss 2.783863 | Acc 31.25%\n"
          ],
          "name": "stdout"
        },
        {
          "output_type": "stream",
          "text": [
            "epoch   1 | iteration    40 | Loss 2.130571 | Acc 68.75%\n"
          ],
          "name": "stderr"
        },
        {
          "output_type": "stream",
          "text": [
            "epoch   1 | iteration    40 | Loss 2.130571 | Acc 68.75%\n"
          ],
          "name": "stdout"
        },
        {
          "output_type": "stream",
          "text": [
            "epoch   1 | iteration    60 | Loss 1.716552 | Acc 68.75%\n"
          ],
          "name": "stderr"
        },
        {
          "output_type": "stream",
          "text": [
            "epoch   1 | iteration    60 | Loss 1.716552 | Acc 68.75%\n"
          ],
          "name": "stdout"
        },
        {
          "output_type": "stream",
          "text": [
            "epoch   1 | iteration    80 | Loss 1.270905 | Acc 87.50%\n"
          ],
          "name": "stderr"
        },
        {
          "output_type": "stream",
          "text": [
            "epoch   1 | iteration    80 | Loss 1.270905 | Acc 87.50%\n"
          ],
          "name": "stdout"
        },
        {
          "output_type": "stream",
          "text": [
            "epoch   1 | iteration   100 | Loss 1.073087 | Acc 87.50%\n"
          ],
          "name": "stderr"
        },
        {
          "output_type": "stream",
          "text": [
            "epoch   1 | iteration   100 | Loss 1.073087 | Acc 87.50%\n"
          ],
          "name": "stdout"
        },
        {
          "output_type": "stream",
          "text": [
            "Average Training Loss of Epoch 1: 2.126344 | Acc: 53.22%\n"
          ],
          "name": "stderr"
        },
        {
          "output_type": "stream",
          "text": [
            "Average Training Loss of Epoch 1: 2.126344 | Acc: 53.22%\n",
            "validating model\n"
          ],
          "name": "stdout"
        },
        {
          "output_type": "stream",
          "text": [
            "Average Validation Loss of Epoch 1: 1.040123 | Acc: 78.10%\n"
          ],
          "name": "stderr"
        },
        {
          "output_type": "stream",
          "text": [
            "Average Validation Loss of Epoch 1: 1.040123 | Acc: 78.10%\n"
          ],
          "name": "stdout"
        },
        {
          "output_type": "stream",
          "text": [
            "####################Epoch 1 Model Saved#####################\n"
          ],
          "name": "stderr"
        },
        {
          "output_type": "stream",
          "text": [
            "Epoch:  1\n",
            "training model\n"
          ],
          "name": "stdout"
        },
        {
          "output_type": "stream",
          "text": [
            "epoch   2 | iteration    20 | Loss 1.100067 | Acc 68.75%\n"
          ],
          "name": "stderr"
        },
        {
          "output_type": "stream",
          "text": [
            "epoch   2 | iteration    20 | Loss 1.100067 | Acc 68.75%\n"
          ],
          "name": "stdout"
        },
        {
          "output_type": "stream",
          "text": [
            "epoch   2 | iteration    40 | Loss 1.243532 | Acc 68.75%\n"
          ],
          "name": "stderr"
        },
        {
          "output_type": "stream",
          "text": [
            "epoch   2 | iteration    40 | Loss 1.243532 | Acc 68.75%\n"
          ],
          "name": "stdout"
        },
        {
          "output_type": "stream",
          "text": [
            "epoch   2 | iteration    60 | Loss 0.813231 | Acc 87.50%\n"
          ],
          "name": "stderr"
        },
        {
          "output_type": "stream",
          "text": [
            "epoch   2 | iteration    60 | Loss 0.813231 | Acc 87.50%\n"
          ],
          "name": "stdout"
        },
        {
          "output_type": "stream",
          "text": [
            "epoch   2 | iteration    80 | Loss 0.675731 | Acc 81.25%\n"
          ],
          "name": "stderr"
        },
        {
          "output_type": "stream",
          "text": [
            "epoch   2 | iteration    80 | Loss 0.675731 | Acc 81.25%\n"
          ],
          "name": "stdout"
        },
        {
          "output_type": "stream",
          "text": [
            "epoch   2 | iteration   100 | Loss 0.660442 | Acc 75.00%\n"
          ],
          "name": "stderr"
        },
        {
          "output_type": "stream",
          "text": [
            "epoch   2 | iteration   100 | Loss 0.660442 | Acc 75.00%\n"
          ],
          "name": "stdout"
        },
        {
          "output_type": "stream",
          "text": [
            "Average Training Loss of Epoch 2: 0.874226 | Acc: 77.91%\n"
          ],
          "name": "stderr"
        },
        {
          "output_type": "stream",
          "text": [
            "Average Training Loss of Epoch 2: 0.874226 | Acc: 77.91%\n",
            "validating model\n"
          ],
          "name": "stdout"
        },
        {
          "output_type": "stream",
          "text": [
            "Average Validation Loss of Epoch 2: 0.509861 | Acc: 88.43%\n"
          ],
          "name": "stderr"
        },
        {
          "output_type": "stream",
          "text": [
            "Average Validation Loss of Epoch 2: 0.509861 | Acc: 88.43%\n"
          ],
          "name": "stdout"
        },
        {
          "output_type": "stream",
          "text": [
            "####################Epoch 2 Model Saved#####################\n"
          ],
          "name": "stderr"
        },
        {
          "output_type": "stream",
          "text": [
            "Epoch:  2\n",
            "training model\n"
          ],
          "name": "stdout"
        },
        {
          "output_type": "stream",
          "text": [
            "epoch   3 | iteration    20 | Loss 0.805253 | Acc 81.25%\n"
          ],
          "name": "stderr"
        },
        {
          "output_type": "stream",
          "text": [
            "epoch   3 | iteration    20 | Loss 0.805253 | Acc 81.25%\n"
          ],
          "name": "stdout"
        },
        {
          "output_type": "stream",
          "text": [
            "epoch   3 | iteration    40 | Loss 0.986561 | Acc 68.75%\n"
          ],
          "name": "stderr"
        },
        {
          "output_type": "stream",
          "text": [
            "epoch   3 | iteration    40 | Loss 0.986561 | Acc 68.75%\n"
          ],
          "name": "stdout"
        },
        {
          "output_type": "stream",
          "text": [
            "epoch   3 | iteration    60 | Loss 0.797411 | Acc 68.75%\n"
          ],
          "name": "stderr"
        },
        {
          "output_type": "stream",
          "text": [
            "epoch   3 | iteration    60 | Loss 0.797411 | Acc 68.75%\n"
          ],
          "name": "stdout"
        },
        {
          "output_type": "stream",
          "text": [
            "epoch   3 | iteration    80 | Loss 0.564750 | Acc 87.50%\n"
          ],
          "name": "stderr"
        },
        {
          "output_type": "stream",
          "text": [
            "epoch   3 | iteration    80 | Loss 0.564750 | Acc 87.50%\n"
          ],
          "name": "stdout"
        },
        {
          "output_type": "stream",
          "text": [
            "epoch   3 | iteration   100 | Loss 0.367614 | Acc 93.75%\n"
          ],
          "name": "stderr"
        },
        {
          "output_type": "stream",
          "text": [
            "epoch   3 | iteration   100 | Loss 0.367614 | Acc 93.75%\n"
          ],
          "name": "stdout"
        },
        {
          "output_type": "stream",
          "text": [
            "Average Training Loss of Epoch 3: 0.625295 | Acc: 85.44%\n"
          ],
          "name": "stderr"
        },
        {
          "output_type": "stream",
          "text": [
            "Average Training Loss of Epoch 3: 0.625295 | Acc: 85.44%\n",
            "validating model\n"
          ],
          "name": "stdout"
        },
        {
          "output_type": "stream",
          "text": [
            "Average Validation Loss of Epoch 3: 0.381697 | Acc: 92.07%\n"
          ],
          "name": "stderr"
        },
        {
          "output_type": "stream",
          "text": [
            "Average Validation Loss of Epoch 3: 0.381697 | Acc: 92.07%\n"
          ],
          "name": "stdout"
        },
        {
          "output_type": "stream",
          "text": [
            "####################Epoch 3 Model Saved#####################\n"
          ],
          "name": "stderr"
        },
        {
          "output_type": "stream",
          "text": [
            "Epoch:  3\n",
            "training model\n"
          ],
          "name": "stdout"
        },
        {
          "output_type": "stream",
          "text": [
            "epoch   4 | iteration    20 | Loss 0.231390 | Acc 100.00%\n"
          ],
          "name": "stderr"
        },
        {
          "output_type": "stream",
          "text": [
            "epoch   4 | iteration    20 | Loss 0.231390 | Acc 100.00%\n"
          ],
          "name": "stdout"
        },
        {
          "output_type": "stream",
          "text": [
            "epoch   4 | iteration    40 | Loss 0.332087 | Acc 93.75%\n"
          ],
          "name": "stderr"
        },
        {
          "output_type": "stream",
          "text": [
            "epoch   4 | iteration    40 | Loss 0.332087 | Acc 93.75%\n"
          ],
          "name": "stdout"
        },
        {
          "output_type": "stream",
          "text": [
            "epoch   4 | iteration    60 | Loss 0.178444 | Acc 100.00%\n"
          ],
          "name": "stderr"
        },
        {
          "output_type": "stream",
          "text": [
            "epoch   4 | iteration    60 | Loss 0.178444 | Acc 100.00%\n"
          ],
          "name": "stdout"
        },
        {
          "output_type": "stream",
          "text": [
            "epoch   4 | iteration    80 | Loss 0.292733 | Acc 93.75%\n"
          ],
          "name": "stderr"
        },
        {
          "output_type": "stream",
          "text": [
            "epoch   4 | iteration    80 | Loss 0.292733 | Acc 93.75%\n"
          ],
          "name": "stdout"
        },
        {
          "output_type": "stream",
          "text": [
            "epoch   4 | iteration   100 | Loss 0.432228 | Acc 87.50%\n"
          ],
          "name": "stderr"
        },
        {
          "output_type": "stream",
          "text": [
            "epoch   4 | iteration   100 | Loss 0.432228 | Acc 87.50%\n"
          ],
          "name": "stdout"
        },
        {
          "output_type": "stream",
          "text": [
            "Average Training Loss of Epoch 4: 0.508676 | Acc: 88.47%\n"
          ],
          "name": "stderr"
        },
        {
          "output_type": "stream",
          "text": [
            "Average Training Loss of Epoch 4: 0.508676 | Acc: 88.47%\n",
            "validating model\n"
          ],
          "name": "stdout"
        },
        {
          "output_type": "stream",
          "text": [
            "Average Validation Loss of Epoch 4: 0.321360 | Acc: 93.55%\n"
          ],
          "name": "stderr"
        },
        {
          "output_type": "stream",
          "text": [
            "Average Validation Loss of Epoch 4: 0.321360 | Acc: 93.55%\n"
          ],
          "name": "stdout"
        },
        {
          "output_type": "stream",
          "text": [
            "####################Epoch 4 Model Saved#####################\n"
          ],
          "name": "stderr"
        },
        {
          "output_type": "stream",
          "text": [
            "Epoch:  4\n",
            "training model\n"
          ],
          "name": "stdout"
        },
        {
          "output_type": "stream",
          "text": [
            "epoch   5 | iteration    20 | Loss 0.624004 | Acc 87.50%\n"
          ],
          "name": "stderr"
        },
        {
          "output_type": "stream",
          "text": [
            "epoch   5 | iteration    20 | Loss 0.624004 | Acc 87.50%\n"
          ],
          "name": "stdout"
        },
        {
          "output_type": "stream",
          "text": [
            "epoch   5 | iteration    40 | Loss 0.940246 | Acc 68.75%\n"
          ],
          "name": "stderr"
        },
        {
          "output_type": "stream",
          "text": [
            "epoch   5 | iteration    40 | Loss 0.940246 | Acc 68.75%\n"
          ],
          "name": "stdout"
        },
        {
          "output_type": "stream",
          "text": [
            "epoch   5 | iteration    60 | Loss 0.410226 | Acc 87.50%\n"
          ],
          "name": "stderr"
        },
        {
          "output_type": "stream",
          "text": [
            "epoch   5 | iteration    60 | Loss 0.410226 | Acc 87.50%\n"
          ],
          "name": "stdout"
        },
        {
          "output_type": "stream",
          "text": [
            "epoch   5 | iteration    80 | Loss 0.472291 | Acc 87.50%\n"
          ],
          "name": "stderr"
        },
        {
          "output_type": "stream",
          "text": [
            "epoch   5 | iteration    80 | Loss 0.472291 | Acc 87.50%\n"
          ],
          "name": "stdout"
        },
        {
          "output_type": "stream",
          "text": [
            "epoch   5 | iteration   100 | Loss 0.595692 | Acc 81.25%\n"
          ],
          "name": "stderr"
        },
        {
          "output_type": "stream",
          "text": [
            "epoch   5 | iteration   100 | Loss 0.595692 | Acc 81.25%\n"
          ],
          "name": "stdout"
        },
        {
          "output_type": "stream",
          "text": [
            "Average Training Loss of Epoch 5: 0.432696 | Acc: 90.11%\n"
          ],
          "name": "stderr"
        },
        {
          "output_type": "stream",
          "text": [
            "Average Training Loss of Epoch 5: 0.432696 | Acc: 90.11%\n",
            "validating model\n"
          ],
          "name": "stdout"
        },
        {
          "output_type": "stream",
          "text": [
            "Average Validation Loss of Epoch 5: 0.280299 | Acc: 95.62%\n"
          ],
          "name": "stderr"
        },
        {
          "output_type": "stream",
          "text": [
            "Average Validation Loss of Epoch 5: 0.280299 | Acc: 95.62%\n"
          ],
          "name": "stdout"
        },
        {
          "output_type": "stream",
          "text": [
            "####################Epoch 5 Model Saved#####################\n"
          ],
          "name": "stderr"
        },
        {
          "output_type": "stream",
          "text": [
            "Epoch:  5\n",
            "training model\n"
          ],
          "name": "stdout"
        },
        {
          "output_type": "stream",
          "text": [
            "epoch   6 | iteration    20 | Loss 0.367179 | Acc 87.50%\n"
          ],
          "name": "stderr"
        },
        {
          "output_type": "stream",
          "text": [
            "epoch   6 | iteration    20 | Loss 0.367179 | Acc 87.50%\n"
          ],
          "name": "stdout"
        },
        {
          "output_type": "stream",
          "text": [
            "epoch   6 | iteration    40 | Loss 0.434424 | Acc 93.75%\n"
          ],
          "name": "stderr"
        },
        {
          "output_type": "stream",
          "text": [
            "epoch   6 | iteration    40 | Loss 0.434424 | Acc 93.75%\n"
          ],
          "name": "stdout"
        },
        {
          "output_type": "stream",
          "text": [
            "epoch   6 | iteration    60 | Loss 0.587721 | Acc 87.50%\n"
          ],
          "name": "stderr"
        },
        {
          "output_type": "stream",
          "text": [
            "epoch   6 | iteration    60 | Loss 0.587721 | Acc 87.50%\n"
          ],
          "name": "stdout"
        },
        {
          "output_type": "stream",
          "text": [
            "epoch   6 | iteration    80 | Loss 0.439480 | Acc 87.50%\n"
          ],
          "name": "stderr"
        },
        {
          "output_type": "stream",
          "text": [
            "epoch   6 | iteration    80 | Loss 0.439480 | Acc 87.50%\n"
          ],
          "name": "stdout"
        },
        {
          "output_type": "stream",
          "text": [
            "epoch   6 | iteration   100 | Loss 0.231462 | Acc 100.00%\n"
          ],
          "name": "stderr"
        },
        {
          "output_type": "stream",
          "text": [
            "epoch   6 | iteration   100 | Loss 0.231462 | Acc 100.00%\n"
          ],
          "name": "stdout"
        },
        {
          "output_type": "stream",
          "text": [
            "Average Training Loss of Epoch 6: 0.373178 | Acc: 91.50%\n"
          ],
          "name": "stderr"
        },
        {
          "output_type": "stream",
          "text": [
            "Average Training Loss of Epoch 6: 0.373178 | Acc: 91.50%\n",
            "validating model\n"
          ],
          "name": "stdout"
        },
        {
          "output_type": "stream",
          "text": [
            "Average Validation Loss of Epoch 6: 0.303280 | Acc: 92.31%\n"
          ],
          "name": "stderr"
        },
        {
          "output_type": "stream",
          "text": [
            "Average Validation Loss of Epoch 6: 0.303280 | Acc: 92.31%\n"
          ],
          "name": "stdout"
        },
        {
          "output_type": "stream",
          "text": [
            "####################Epoch 6 Model Saved#####################\n"
          ],
          "name": "stderr"
        },
        {
          "output_type": "stream",
          "text": [
            "Epoch:  6\n",
            "training model\n"
          ],
          "name": "stdout"
        },
        {
          "output_type": "stream",
          "text": [
            "epoch   7 | iteration    20 | Loss 0.241216 | Acc 100.00%\n"
          ],
          "name": "stderr"
        },
        {
          "output_type": "stream",
          "text": [
            "epoch   7 | iteration    20 | Loss 0.241216 | Acc 100.00%\n"
          ],
          "name": "stdout"
        },
        {
          "output_type": "stream",
          "text": [
            "epoch   7 | iteration    40 | Loss 0.402542 | Acc 93.75%\n"
          ],
          "name": "stderr"
        },
        {
          "output_type": "stream",
          "text": [
            "epoch   7 | iteration    40 | Loss 0.402542 | Acc 93.75%\n"
          ],
          "name": "stdout"
        },
        {
          "output_type": "stream",
          "text": [
            "epoch   7 | iteration    60 | Loss 0.611884 | Acc 81.25%\n"
          ],
          "name": "stderr"
        },
        {
          "output_type": "stream",
          "text": [
            "epoch   7 | iteration    60 | Loss 0.611884 | Acc 81.25%\n"
          ],
          "name": "stdout"
        },
        {
          "output_type": "stream",
          "text": [
            "epoch   7 | iteration    80 | Loss 0.230861 | Acc 100.00%\n"
          ],
          "name": "stderr"
        },
        {
          "output_type": "stream",
          "text": [
            "epoch   7 | iteration    80 | Loss 0.230861 | Acc 100.00%\n"
          ],
          "name": "stdout"
        },
        {
          "output_type": "stream",
          "text": [
            "epoch   7 | iteration   100 | Loss 0.322300 | Acc 87.50%\n"
          ],
          "name": "stderr"
        },
        {
          "output_type": "stream",
          "text": [
            "epoch   7 | iteration   100 | Loss 0.322300 | Acc 87.50%\n"
          ],
          "name": "stdout"
        },
        {
          "output_type": "stream",
          "text": [
            "Average Training Loss of Epoch 7: 0.347342 | Acc: 91.93%\n"
          ],
          "name": "stderr"
        },
        {
          "output_type": "stream",
          "text": [
            "Average Training Loss of Epoch 7: 0.347342 | Acc: 91.93%\n",
            "validating model\n"
          ],
          "name": "stdout"
        },
        {
          "output_type": "stream",
          "text": [
            "Average Validation Loss of Epoch 7: 0.272367 | Acc: 93.88%\n"
          ],
          "name": "stderr"
        },
        {
          "output_type": "stream",
          "text": [
            "Average Validation Loss of Epoch 7: 0.272367 | Acc: 93.88%\n"
          ],
          "name": "stdout"
        },
        {
          "output_type": "stream",
          "text": [
            "####################Epoch 7 Model Saved#####################\n"
          ],
          "name": "stderr"
        },
        {
          "output_type": "stream",
          "text": [
            "Epoch:  7\n",
            "training model\n"
          ],
          "name": "stdout"
        },
        {
          "output_type": "stream",
          "text": [
            "epoch   8 | iteration    20 | Loss 0.332119 | Acc 93.75%\n"
          ],
          "name": "stderr"
        },
        {
          "output_type": "stream",
          "text": [
            "epoch   8 | iteration    20 | Loss 0.332119 | Acc 93.75%\n"
          ],
          "name": "stdout"
        },
        {
          "output_type": "stream",
          "text": [
            "epoch   8 | iteration    40 | Loss 0.251122 | Acc 100.00%\n"
          ],
          "name": "stderr"
        },
        {
          "output_type": "stream",
          "text": [
            "epoch   8 | iteration    40 | Loss 0.251122 | Acc 100.00%\n"
          ],
          "name": "stdout"
        },
        {
          "output_type": "stream",
          "text": [
            "epoch   8 | iteration    60 | Loss 0.257753 | Acc 93.75%\n"
          ],
          "name": "stderr"
        },
        {
          "output_type": "stream",
          "text": [
            "epoch   8 | iteration    60 | Loss 0.257753 | Acc 93.75%\n"
          ],
          "name": "stdout"
        },
        {
          "output_type": "stream",
          "text": [
            "epoch   8 | iteration    80 | Loss 0.370151 | Acc 93.75%\n"
          ],
          "name": "stderr"
        },
        {
          "output_type": "stream",
          "text": [
            "epoch   8 | iteration    80 | Loss 0.370151 | Acc 93.75%\n"
          ],
          "name": "stdout"
        },
        {
          "output_type": "stream",
          "text": [
            "epoch   8 | iteration   100 | Loss 0.294864 | Acc 93.75%\n"
          ],
          "name": "stderr"
        },
        {
          "output_type": "stream",
          "text": [
            "epoch   8 | iteration   100 | Loss 0.294864 | Acc 93.75%\n"
          ],
          "name": "stdout"
        },
        {
          "output_type": "stream",
          "text": [
            "Average Training Loss of Epoch 8: 0.352883 | Acc: 91.87%\n"
          ],
          "name": "stderr"
        },
        {
          "output_type": "stream",
          "text": [
            "Average Training Loss of Epoch 8: 0.352883 | Acc: 91.87%\n",
            "validating model\n"
          ],
          "name": "stdout"
        },
        {
          "output_type": "stream",
          "text": [
            "Average Validation Loss of Epoch 8: 0.249245 | Acc: 95.21%\n"
          ],
          "name": "stderr"
        },
        {
          "output_type": "stream",
          "text": [
            "Average Validation Loss of Epoch 8: 0.249245 | Acc: 95.21%\n"
          ],
          "name": "stdout"
        },
        {
          "output_type": "stream",
          "text": [
            "####################Epoch 8 Model Saved#####################\n"
          ],
          "name": "stderr"
        },
        {
          "output_type": "stream",
          "text": [
            "Epoch:  8\n",
            "training model\n"
          ],
          "name": "stdout"
        },
        {
          "output_type": "stream",
          "text": [
            "epoch   9 | iteration    20 | Loss 0.336499 | Acc 100.00%\n"
          ],
          "name": "stderr"
        },
        {
          "output_type": "stream",
          "text": [
            "epoch   9 | iteration    20 | Loss 0.336499 | Acc 100.00%\n"
          ],
          "name": "stdout"
        },
        {
          "output_type": "stream",
          "text": [
            "epoch   9 | iteration    40 | Loss 0.613817 | Acc 81.25%\n"
          ],
          "name": "stderr"
        },
        {
          "output_type": "stream",
          "text": [
            "epoch   9 | iteration    40 | Loss 0.613817 | Acc 81.25%\n"
          ],
          "name": "stdout"
        },
        {
          "output_type": "stream",
          "text": [
            "epoch   9 | iteration    60 | Loss 0.183477 | Acc 100.00%\n"
          ],
          "name": "stderr"
        },
        {
          "output_type": "stream",
          "text": [
            "epoch   9 | iteration    60 | Loss 0.183477 | Acc 100.00%\n"
          ],
          "name": "stdout"
        },
        {
          "output_type": "stream",
          "text": [
            "epoch   9 | iteration    80 | Loss 0.545813 | Acc 81.25%\n"
          ],
          "name": "stderr"
        },
        {
          "output_type": "stream",
          "text": [
            "epoch   9 | iteration    80 | Loss 0.545813 | Acc 81.25%\n"
          ],
          "name": "stdout"
        },
        {
          "output_type": "stream",
          "text": [
            "epoch   9 | iteration   100 | Loss 0.133369 | Acc 100.00%\n"
          ],
          "name": "stderr"
        },
        {
          "output_type": "stream",
          "text": [
            "epoch   9 | iteration   100 | Loss 0.133369 | Acc 100.00%\n"
          ],
          "name": "stdout"
        },
        {
          "output_type": "stream",
          "text": [
            "Average Training Loss of Epoch 9: 0.312826 | Acc: 93.33%\n"
          ],
          "name": "stderr"
        },
        {
          "output_type": "stream",
          "text": [
            "Average Training Loss of Epoch 9: 0.312826 | Acc: 93.33%\n",
            "validating model\n"
          ],
          "name": "stdout"
        },
        {
          "output_type": "stream",
          "text": [
            "Average Validation Loss of Epoch 9: 0.258665 | Acc: 94.21%\n"
          ],
          "name": "stderr"
        },
        {
          "output_type": "stream",
          "text": [
            "Average Validation Loss of Epoch 9: 0.258665 | Acc: 94.21%\n"
          ],
          "name": "stdout"
        },
        {
          "output_type": "stream",
          "text": [
            "####################Epoch 9 Model Saved#####################\n"
          ],
          "name": "stderr"
        },
        {
          "output_type": "stream",
          "text": [
            "Epoch:  9\n",
            "training model\n"
          ],
          "name": "stdout"
        },
        {
          "output_type": "stream",
          "text": [
            "epoch  10 | iteration    20 | Loss 0.407811 | Acc 87.50%\n"
          ],
          "name": "stderr"
        },
        {
          "output_type": "stream",
          "text": [
            "epoch  10 | iteration    20 | Loss 0.407811 | Acc 87.50%\n"
          ],
          "name": "stdout"
        },
        {
          "output_type": "stream",
          "text": [
            "epoch  10 | iteration    40 | Loss 0.166398 | Acc 100.00%\n"
          ],
          "name": "stderr"
        },
        {
          "output_type": "stream",
          "text": [
            "epoch  10 | iteration    40 | Loss 0.166398 | Acc 100.00%\n"
          ],
          "name": "stdout"
        },
        {
          "output_type": "stream",
          "text": [
            "epoch  10 | iteration    60 | Loss 0.237273 | Acc 100.00%\n"
          ],
          "name": "stderr"
        },
        {
          "output_type": "stream",
          "text": [
            "epoch  10 | iteration    60 | Loss 0.237273 | Acc 100.00%\n"
          ],
          "name": "stdout"
        },
        {
          "output_type": "stream",
          "text": [
            "epoch  10 | iteration    80 | Loss 0.231364 | Acc 93.75%\n"
          ],
          "name": "stderr"
        },
        {
          "output_type": "stream",
          "text": [
            "epoch  10 | iteration    80 | Loss 0.231364 | Acc 93.75%\n"
          ],
          "name": "stdout"
        },
        {
          "output_type": "stream",
          "text": [
            "epoch  10 | iteration   100 | Loss 0.213162 | Acc 100.00%\n"
          ],
          "name": "stderr"
        },
        {
          "output_type": "stream",
          "text": [
            "epoch  10 | iteration   100 | Loss 0.213162 | Acc 100.00%\n"
          ],
          "name": "stdout"
        },
        {
          "output_type": "stream",
          "text": [
            "Average Training Loss of Epoch 10: 0.315060 | Acc: 92.84%\n"
          ],
          "name": "stderr"
        },
        {
          "output_type": "stream",
          "text": [
            "Average Training Loss of Epoch 10: 0.315060 | Acc: 92.84%\n",
            "validating model\n"
          ],
          "name": "stdout"
        },
        {
          "output_type": "stream",
          "text": [
            "Average Validation Loss of Epoch 10: 0.235391 | Acc: 94.88%\n"
          ],
          "name": "stderr"
        },
        {
          "output_type": "stream",
          "text": [
            "Average Validation Loss of Epoch 10: 0.235391 | Acc: 94.88%\n"
          ],
          "name": "stdout"
        },
        {
          "output_type": "stream",
          "text": [
            "####################Epoch 10 Model Saved####################\n"
          ],
          "name": "stderr"
        },
        {
          "output_type": "stream",
          "text": [
            "Epoch:  10\n",
            "training model\n"
          ],
          "name": "stdout"
        },
        {
          "output_type": "stream",
          "text": [
            "epoch  11 | iteration    20 | Loss 0.104615 | Acc 100.00%\n"
          ],
          "name": "stderr"
        },
        {
          "output_type": "stream",
          "text": [
            "epoch  11 | iteration    20 | Loss 0.104615 | Acc 100.00%\n"
          ],
          "name": "stdout"
        },
        {
          "output_type": "stream",
          "text": [
            "epoch  11 | iteration    40 | Loss 0.363520 | Acc 93.75%\n"
          ],
          "name": "stderr"
        },
        {
          "output_type": "stream",
          "text": [
            "epoch  11 | iteration    40 | Loss 0.363520 | Acc 93.75%\n"
          ],
          "name": "stdout"
        },
        {
          "output_type": "stream",
          "text": [
            "epoch  11 | iteration    60 | Loss 0.295860 | Acc 93.75%\n"
          ],
          "name": "stderr"
        },
        {
          "output_type": "stream",
          "text": [
            "epoch  11 | iteration    60 | Loss 0.295860 | Acc 93.75%\n"
          ],
          "name": "stdout"
        },
        {
          "output_type": "stream",
          "text": [
            "epoch  11 | iteration    80 | Loss 0.668752 | Acc 75.00%\n"
          ],
          "name": "stderr"
        },
        {
          "output_type": "stream",
          "text": [
            "epoch  11 | iteration    80 | Loss 0.668752 | Acc 75.00%\n"
          ],
          "name": "stdout"
        },
        {
          "output_type": "stream",
          "text": [
            "epoch  11 | iteration   100 | Loss 0.355529 | Acc 87.50%\n"
          ],
          "name": "stderr"
        },
        {
          "output_type": "stream",
          "text": [
            "epoch  11 | iteration   100 | Loss 0.355529 | Acc 87.50%\n"
          ],
          "name": "stdout"
        },
        {
          "output_type": "stream",
          "text": [
            "Average Training Loss of Epoch 11: 0.282253 | Acc: 93.57%\n"
          ],
          "name": "stderr"
        },
        {
          "output_type": "stream",
          "text": [
            "Average Training Loss of Epoch 11: 0.282253 | Acc: 93.57%\n",
            "validating model\n"
          ],
          "name": "stdout"
        },
        {
          "output_type": "stream",
          "text": [
            "Average Validation Loss of Epoch 11: 0.257044 | Acc: 94.55%\n"
          ],
          "name": "stderr"
        },
        {
          "output_type": "stream",
          "text": [
            "Average Validation Loss of Epoch 11: 0.257044 | Acc: 94.55%\n"
          ],
          "name": "stdout"
        },
        {
          "output_type": "stream",
          "text": [
            "####################Epoch 11 Model Saved####################\n"
          ],
          "name": "stderr"
        },
        {
          "output_type": "stream",
          "text": [
            "Epoch:  11\n",
            "training model\n"
          ],
          "name": "stdout"
        },
        {
          "output_type": "stream",
          "text": [
            "epoch  12 | iteration    20 | Loss 0.172403 | Acc 100.00%\n"
          ],
          "name": "stderr"
        },
        {
          "output_type": "stream",
          "text": [
            "epoch  12 | iteration    20 | Loss 0.172403 | Acc 100.00%\n"
          ],
          "name": "stdout"
        },
        {
          "output_type": "stream",
          "text": [
            "epoch  12 | iteration    40 | Loss 0.159562 | Acc 100.00%\n"
          ],
          "name": "stderr"
        },
        {
          "output_type": "stream",
          "text": [
            "epoch  12 | iteration    40 | Loss 0.159562 | Acc 100.00%\n"
          ],
          "name": "stdout"
        },
        {
          "output_type": "stream",
          "text": [
            "epoch  12 | iteration    60 | Loss 0.329847 | Acc 87.50%\n"
          ],
          "name": "stderr"
        },
        {
          "output_type": "stream",
          "text": [
            "epoch  12 | iteration    60 | Loss 0.329847 | Acc 87.50%\n"
          ],
          "name": "stdout"
        },
        {
          "output_type": "stream",
          "text": [
            "epoch  12 | iteration    80 | Loss 0.248233 | Acc 93.75%\n"
          ],
          "name": "stderr"
        },
        {
          "output_type": "stream",
          "text": [
            "epoch  12 | iteration    80 | Loss 0.248233 | Acc 93.75%\n"
          ],
          "name": "stdout"
        },
        {
          "output_type": "stream",
          "text": [
            "epoch  12 | iteration   100 | Loss 0.367626 | Acc 87.50%\n"
          ],
          "name": "stderr"
        },
        {
          "output_type": "stream",
          "text": [
            "epoch  12 | iteration   100 | Loss 0.367626 | Acc 87.50%\n"
          ],
          "name": "stdout"
        },
        {
          "output_type": "stream",
          "text": [
            "Average Training Loss of Epoch 12: 0.274936 | Acc: 93.45%\n"
          ],
          "name": "stderr"
        },
        {
          "output_type": "stream",
          "text": [
            "Average Training Loss of Epoch 12: 0.274936 | Acc: 93.45%\n",
            "validating model\n"
          ],
          "name": "stdout"
        },
        {
          "output_type": "stream",
          "text": [
            "Average Validation Loss of Epoch 12: 0.241613 | Acc: 95.45%\n"
          ],
          "name": "stderr"
        },
        {
          "output_type": "stream",
          "text": [
            "Average Validation Loss of Epoch 12: 0.241613 | Acc: 95.45%\n"
          ],
          "name": "stdout"
        },
        {
          "output_type": "stream",
          "text": [
            "####################Epoch 12 Model Saved####################\n"
          ],
          "name": "stderr"
        },
        {
          "output_type": "stream",
          "text": [
            "Epoch:  12\n",
            "training model\n"
          ],
          "name": "stdout"
        },
        {
          "output_type": "stream",
          "text": [
            "epoch  13 | iteration    20 | Loss 0.452922 | Acc 93.75%\n"
          ],
          "name": "stderr"
        },
        {
          "output_type": "stream",
          "text": [
            "epoch  13 | iteration    20 | Loss 0.452922 | Acc 93.75%\n"
          ],
          "name": "stdout"
        },
        {
          "output_type": "stream",
          "text": [
            "epoch  13 | iteration    40 | Loss 0.310694 | Acc 100.00%\n"
          ],
          "name": "stderr"
        },
        {
          "output_type": "stream",
          "text": [
            "epoch  13 | iteration    40 | Loss 0.310694 | Acc 100.00%\n"
          ],
          "name": "stdout"
        },
        {
          "output_type": "stream",
          "text": [
            "epoch  13 | iteration    60 | Loss 0.108039 | Acc 100.00%\n"
          ],
          "name": "stderr"
        },
        {
          "output_type": "stream",
          "text": [
            "epoch  13 | iteration    60 | Loss 0.108039 | Acc 100.00%\n"
          ],
          "name": "stdout"
        },
        {
          "output_type": "stream",
          "text": [
            "epoch  13 | iteration    80 | Loss 0.213173 | Acc 93.75%\n"
          ],
          "name": "stderr"
        },
        {
          "output_type": "stream",
          "text": [
            "epoch  13 | iteration    80 | Loss 0.213173 | Acc 93.75%\n"
          ],
          "name": "stdout"
        },
        {
          "output_type": "stream",
          "text": [
            "epoch  13 | iteration   100 | Loss 0.398944 | Acc 87.50%\n"
          ],
          "name": "stderr"
        },
        {
          "output_type": "stream",
          "text": [
            "epoch  13 | iteration   100 | Loss 0.398944 | Acc 87.50%\n"
          ],
          "name": "stdout"
        },
        {
          "output_type": "stream",
          "text": [
            "Average Training Loss of Epoch 13: 0.256046 | Acc: 94.60%\n"
          ],
          "name": "stderr"
        },
        {
          "output_type": "stream",
          "text": [
            "Average Training Loss of Epoch 13: 0.256046 | Acc: 94.60%\n",
            "validating model\n"
          ],
          "name": "stdout"
        },
        {
          "output_type": "stream",
          "text": [
            "Average Validation Loss of Epoch 13: 0.242964 | Acc: 93.88%\n"
          ],
          "name": "stderr"
        },
        {
          "output_type": "stream",
          "text": [
            "Average Validation Loss of Epoch 13: 0.242964 | Acc: 93.88%\n"
          ],
          "name": "stdout"
        },
        {
          "output_type": "stream",
          "text": [
            "####################Epoch 13 Model Saved####################\n"
          ],
          "name": "stderr"
        },
        {
          "output_type": "stream",
          "text": [
            "Epoch:  13\n",
            "training model\n"
          ],
          "name": "stdout"
        },
        {
          "output_type": "stream",
          "text": [
            "epoch  14 | iteration    20 | Loss 0.569591 | Acc 81.25%\n"
          ],
          "name": "stderr"
        },
        {
          "output_type": "stream",
          "text": [
            "epoch  14 | iteration    20 | Loss 0.569591 | Acc 81.25%\n"
          ],
          "name": "stdout"
        },
        {
          "output_type": "stream",
          "text": [
            "epoch  14 | iteration    40 | Loss 0.315330 | Acc 93.75%\n"
          ],
          "name": "stderr"
        },
        {
          "output_type": "stream",
          "text": [
            "epoch  14 | iteration    40 | Loss 0.315330 | Acc 93.75%\n"
          ],
          "name": "stdout"
        },
        {
          "output_type": "stream",
          "text": [
            "epoch  14 | iteration    60 | Loss 0.128676 | Acc 100.00%\n"
          ],
          "name": "stderr"
        },
        {
          "output_type": "stream",
          "text": [
            "epoch  14 | iteration    60 | Loss 0.128676 | Acc 100.00%\n"
          ],
          "name": "stdout"
        },
        {
          "output_type": "stream",
          "text": [
            "epoch  14 | iteration    80 | Loss 0.219007 | Acc 93.75%\n"
          ],
          "name": "stderr"
        },
        {
          "output_type": "stream",
          "text": [
            "epoch  14 | iteration    80 | Loss 0.219007 | Acc 93.75%\n"
          ],
          "name": "stdout"
        },
        {
          "output_type": "stream",
          "text": [
            "epoch  14 | iteration   100 | Loss 0.278690 | Acc 87.50%\n"
          ],
          "name": "stderr"
        },
        {
          "output_type": "stream",
          "text": [
            "epoch  14 | iteration   100 | Loss 0.278690 | Acc 87.50%\n"
          ],
          "name": "stdout"
        },
        {
          "output_type": "stream",
          "text": [
            "Average Training Loss of Epoch 14: 0.261474 | Acc: 94.48%\n"
          ],
          "name": "stderr"
        },
        {
          "output_type": "stream",
          "text": [
            "Average Training Loss of Epoch 14: 0.261474 | Acc: 94.48%\n",
            "validating model\n"
          ],
          "name": "stdout"
        },
        {
          "output_type": "stream",
          "text": [
            "Average Validation Loss of Epoch 14: 0.218360 | Acc: 95.29%\n"
          ],
          "name": "stderr"
        },
        {
          "output_type": "stream",
          "text": [
            "Average Validation Loss of Epoch 14: 0.218360 | Acc: 95.29%\n"
          ],
          "name": "stdout"
        },
        {
          "output_type": "stream",
          "text": [
            "####################Epoch 14 Model Saved####################\n"
          ],
          "name": "stderr"
        },
        {
          "output_type": "stream",
          "text": [
            "Epoch:  14\n",
            "training model\n"
          ],
          "name": "stdout"
        },
        {
          "output_type": "stream",
          "text": [
            "epoch  15 | iteration    20 | Loss 0.103838 | Acc 100.00%\n"
          ],
          "name": "stderr"
        },
        {
          "output_type": "stream",
          "text": [
            "epoch  15 | iteration    20 | Loss 0.103838 | Acc 100.00%\n"
          ],
          "name": "stdout"
        },
        {
          "output_type": "stream",
          "text": [
            "epoch  15 | iteration    40 | Loss 0.166579 | Acc 100.00%\n"
          ],
          "name": "stderr"
        },
        {
          "output_type": "stream",
          "text": [
            "epoch  15 | iteration    40 | Loss 0.166579 | Acc 100.00%\n"
          ],
          "name": "stdout"
        },
        {
          "output_type": "stream",
          "text": [
            "epoch  15 | iteration    60 | Loss 0.144742 | Acc 93.75%\n"
          ],
          "name": "stderr"
        },
        {
          "output_type": "stream",
          "text": [
            "epoch  15 | iteration    60 | Loss 0.144742 | Acc 93.75%\n"
          ],
          "name": "stdout"
        },
        {
          "output_type": "stream",
          "text": [
            "epoch  15 | iteration    80 | Loss 0.110821 | Acc 100.00%\n"
          ],
          "name": "stderr"
        },
        {
          "output_type": "stream",
          "text": [
            "epoch  15 | iteration    80 | Loss 0.110821 | Acc 100.00%\n"
          ],
          "name": "stdout"
        },
        {
          "output_type": "stream",
          "text": [
            "epoch  15 | iteration   100 | Loss 0.152495 | Acc 100.00%\n"
          ],
          "name": "stderr"
        },
        {
          "output_type": "stream",
          "text": [
            "epoch  15 | iteration   100 | Loss 0.152495 | Acc 100.00%\n"
          ],
          "name": "stdout"
        },
        {
          "output_type": "stream",
          "text": [
            "Average Training Loss of Epoch 15: 0.268685 | Acc: 94.60%\n"
          ],
          "name": "stderr"
        },
        {
          "output_type": "stream",
          "text": [
            "Average Training Loss of Epoch 15: 0.268685 | Acc: 94.60%\n",
            "validating model\n"
          ],
          "name": "stdout"
        },
        {
          "output_type": "stream",
          "text": [
            "Average Validation Loss of Epoch 15: 0.240031 | Acc: 94.79%\n"
          ],
          "name": "stderr"
        },
        {
          "output_type": "stream",
          "text": [
            "Average Validation Loss of Epoch 15: 0.240031 | Acc: 94.79%\n"
          ],
          "name": "stdout"
        },
        {
          "output_type": "stream",
          "text": [
            "####################Epoch 15 Model Saved####################\n",
            "#####################Training Finished######################\n"
          ],
          "name": "stderr"
        },
        {
          "output_type": "display_data",
          "data": {
            "image/png": "[encoded data removed]",
            "text/plain": [
              "<Figure size 432x288 with 1 Axes>"
            ]
          },
          "metadata": {
            "tags": []
          }
        }
      ]
    },
    {
      "cell_type": "code",
      "metadata": {
        "id": "qzYOfSDnzGDQ"
      },
      "source": [
        "max_count = 20\n",
        "def hyperparamsearch():\n",
        "  for handler in logging.root.handlers[:]:\n",
        "    logging.root.removeHandler(handler)\n",
        "  logh_path = \"/content/drive/MyDrive/COS429_Final_Project/BOSTON_DATA_28_TRAINVAL/logh/params_{:%Y-%m-%d_%H-%M-%S}.log\".format(datetime.now())\n",
        "  sumh_path = \"/content/drive/MyDrive/COS429_Final_Project/BOSTON_DATA_28_TRAINVAL/runs/slr_cnnlstm_{:%Y-%m-%d_%H-%M-%S}\".format(datetime.now())\n",
        "  # Log to file & tensorboard writer\n",
        "  logging.basicConfig(level=logging.INFO, format='%(message)s', handlers=[logging.FileHandler(logh_path), logging.StreamHandler()])\n",
        "  logger = logging.getLogger('SLR')\n",
        "  logger.info('Logging to file...')\n",
        "  logger.error('This should go to both console and file')\n",
        "  writer = SummaryWriter(sumh_path)\n",
        "  epochs = 3\n",
        "  logger.info(\"Hyper Params Started\".center(60, '#'))\n",
        "  for count in range(max_count):\n",
        "    wd = 10**np.random.uniform(-3, 2)\n",
        "    lr = 10**np.random.uniform(-3, -5)\n",
        "    logger.info(\"lr {} wd {}\".format(lr, wd))\n",
        "    # init model \n",
        "    model = ResCRNN(sample_size=sample_size, sample_duration=sample_duration, num_classes=num_classes,\n",
        "              lstm_hidden_size=lstm_hidden_size, lstm_num_layers=lstm_num_layers, attention=attention).to(device)\n",
        "    # Run the model parallelly\n",
        "    if torch.cuda.device_count() > 1:\n",
        "        logger.info(\"Using {} GPUs\".format(torch.cuda.device_count()))\n",
        "        model = nn.DataParallel(model)\n",
        "    # Create loss criterion & optimizer\n",
        "    criterion = nn.CrossEntropyLoss()\n",
        "    optimizer = optim.Adam(model.parameters(), lr=lr, weight_decay=wd)\n",
        "\n",
        "    # Start training\n",
        "    train_loss = []\n",
        "    train_acc = []\n",
        "    val_loss = []\n",
        "    val_acc = []\n",
        "    for epoch in range(epochs):\n",
        "        print('Epoch: ', epoch)\n",
        "        # Train the model\n",
        "        print('training model')\n",
        "        training_loss, training_acc = train_epoch(model, criterion, optimizer, train_loader, device, epoch, logger, log_interval, writer)\n",
        "        train_loss.append(training_loss)\n",
        "        train_acc.append(training_acc)\n",
        "        \n",
        "        # Validate the model\n",
        "        print('validating model')\n",
        "        valid_loss, valid_acc =val_epoch(model, criterion, val_loader, device, epoch, logger, writer)\n",
        "        val_loss.append(valid_loss)\n",
        "        val_acc.append(valid_acc)\n",
        "\n",
        "        # Save model\n",
        "        #torch.save(model.state_dict(), os.path.join(model_path, \"slr_hyperparam_epoch{:03d}.pth\".format(epoch+1)))\n",
        "        logger.info(\"Epoch {} Model Saved\".format(epoch+1).center(60, '#'))\n",
        "    plt.clf()\n",
        "    plt.title('Train-Val Accuracy and Loss')\n",
        "    plt.plot(train_loss, '-o', color='red')\n",
        "    plt.plot(train_acc, '-o', color='green')\n",
        "    plt.plot(val_loss, '-o', color='blue')\n",
        "    plt.plot(val_acc, '-o', color='orange')\n",
        "    plt.savefig('/content/drive/MyDrive/COS429_Final_Project/BOSTON_DATA_28_TRAINVAL/plot/' + 'hyperparam-lr' + str(lr) + 'wd' + str(wd) + '.png')\n",
        "\n",
        "  logger.info(\"HyperParams Finished\".center(60, '#'))\n"
      ],
      "execution_count": null,
      "outputs": []
    },
    {
      "cell_type": "code",
      "metadata": {
        "id": "cMe5qfarzA-K"
      },
      "source": [
        "hyperparamsearch()"
      ],
      "execution_count": null,
      "outputs": []
    },
    {
      "cell_type": "code",
      "metadata": {
        "id": "O-KAGXrUcpMW"
      },
      "source": [
        ""
      ],
      "execution_count": null,
      "outputs": []
    }
  ]
}