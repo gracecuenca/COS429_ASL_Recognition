{
  "nbformat": 4,
  "nbformat_minor": 0,
  "metadata": {
    "colab": {
      "name": "train_val_split.ipynb",
      "provenance": [],
      "collapsed_sections": []
    },
    "kernelspec": {
      "name": "python3",
      "display_name": "Python 3"
    },
    "accelerator": "GPU"
  },
  "cells": [
    {
      "cell_type": "code",
      "metadata": {
        "colab": {
          "base_uri": "https://localhost:8080/"
        },
        "id": "ntKwuK9JLOTc",
        "outputId": "02ebc3bf-85ac-423f-88d2-89a704edf194"
      },
      "source": [
        "# mounting drive \n",
        "from google.colab import drive\n",
        "drive.mount('/content/drive')"
      ],
      "execution_count": null,
      "outputs": [
        {
          "output_type": "stream",
          "text": [
            "Drive already mounted at /content/drive; to attempt to forcibly remount, call drive.mount(\"/content/drive\", force_remount=True).\n"
          ],
          "name": "stdout"
        }
      ]
    },
    {
      "cell_type": "code",
      "metadata": {
        "colab": {
          "base_uri": "https://localhost:8080/"
        },
        "id": "UCoU87jJLSgH",
        "outputId": "f642973b-d0ef-4c04-d075-9519bf5a6a1a"
      },
      "source": [
        "cd /content/drive/MyDrive/COS429_Final_Project/"
      ],
      "execution_count": null,
      "outputs": [
        {
          "output_type": "stream",
          "text": [
            "/content/drive/.shortcut-targets-by-id/1ovw9re0A-fNM5W9dPWViPUskeUdZQ7j6/COS429_Final_Project\n"
          ],
          "name": "stdout"
        }
      ]
    },
    {
      "cell_type": "code",
      "metadata": {
        "id": "Msz5jdMiLY0F"
      },
      "source": [
        "import os"
      ],
      "execution_count": null,
      "outputs": []
    },
    {
      "cell_type": "code",
      "metadata": {
        "id": "xsSCpY2lLdQl"
      },
      "source": [
        "# HOW TO USE: If you have a folder with classes and image frames in those classes and want to create a train/val split\n",
        "\n",
        "# new data folder name to contain train/val split folders\n",
        "new_folder_name = 'BOSTON_DATA_28_HANDS_TRAINVAL' # folder name to create train val and put the folders in there\n",
        "dest = new_folder_name\n",
        "source = \"BOSTON_DATA_28_TRAINVAL\" # where the frames are atm (not in train/val split)\n",
        "train_test_split = 0.3\n",
        "anno_folder = \"BOSTON_DATA_28_ANNOHANDS_TRAINVAL\""
      ],
      "execution_count": null,
      "outputs": []
    },
    {
      "cell_type": "code",
      "metadata": {
        "id": "AVDvYhahTXgv"
      },
      "source": [
        "label_names = os.listdir(source+'/train')\n",
        "\n",
        "class_name = {}\n",
        "for i, label in enumerate(label_names):\n",
        "  class_name[label] = i"
      ],
      "execution_count": null,
      "outputs": []
    },
    {
      "cell_type": "code",
      "metadata": {
        "colab": {
          "base_uri": "https://localhost:8080/",
          "height": 34
        },
        "id": "dzh5x5BiMt7E",
        "outputId": "6cda0a5e-cc88-421b-ecc9-5f68d9a79794"
      },
      "source": [
        "os.system('mkdir '+ new_folder_name)\n",
        "os.system('mkdir '+ new_folder_name+'/train')\n",
        "os.system('mkdir '+ new_folder_name+'/val')"
      ],
      "execution_count": null,
      "outputs": [
        {
          "output_type": "execute_result",
          "data": {
            "application/vnd.google.colaboratory.intrinsic+json": {
              "type": "string"
            },
            "text/plain": [
              "\"os.system('mkdir '+ new_folder_name)\\nos.system('mkdir '+ new_folder_name+'/train')\\nos.system('mkdir '+ new_folder_name+'/val')\""
            ]
          },
          "metadata": {
            "tags": []
          },
          "execution_count": 10
        }
      ]
    },
    {
      "cell_type": "code",
      "metadata": {
        "id": "qaMx5lmTL_qM"
      },
      "source": [
        "train_path= '/content/drive/MyDrive/COS429_Final_Project/'+ new_folder_name+ '/train/'\n",
        "for c_name in class_name.keys():\n",
        "  print(train_path+c_name)\n",
        "  print(os.listdir(train_path+c_name))\n",
        "  #print('mkdir '+ train_path + c_name)\n",
        "  #os.system('mkdir '+ train_path + c_name)"
      ],
      "execution_count": null,
      "outputs": []
    },
    {
      "cell_type": "code",
      "metadata": {
        "id": "OFJdIWDmMIuk"
      },
      "source": [
        "val_path= '/content/drive/MyDrive/COS429_Final_Project/'+ new_folder_name+ '/val/'\n",
        "for c_name in class_name.keys():\n",
        "  print('mkdir '+ train_path + c_name)\n",
        "  os.system('mkdir '+ val_path + c_name)"
      ],
      "execution_count": null,
      "outputs": []
    },
    {
      "cell_type": "code",
      "metadata": {
        "id": "eqipBhiGLrjZ"
      },
      "source": [
        "path = '/content/drive/MyDrive/COS429_Final_Project/' + source + '/'\n",
        "path"
      ],
      "execution_count": null,
      "outputs": []
    },
    {
      "cell_type": "code",
      "metadata": {
        "id": "t0BD6iiOMRwo"
      },
      "source": [
        "root_dir = path\n",
        "class_paths = [d.path for d in os.scandir(root_dir)]\n",
        "class_paths = class_paths\n",
        "\n",
        "for c, class_path in enumerate(class_paths):\n",
        "    total_dirs = len(os.listdir(class_path))\n",
        "    class_name = class_path.split('/')[-1]\n",
        "    for i,d in enumerate(os.scandir(class_path)):\n",
        "        if (i/total_dirs) < train_test_split:\n",
        "          # move to val folder\n",
        "          os.system('mv '+ d.path +\" \" + val_path+class_name+'/')\n",
        "          print('mv '+ d.path +\"/ \" + val_path+class_name+'/')\n",
        "        else:\n",
        "          # move to train folder\n",
        "          os.system('mv '+ d.path +\" \" + train_path+class_name+'/')\n",
        "          print('mv '+ d.path +\"/ \" + train_path+class_name+'/')"
      ],
      "execution_count": null,
      "outputs": []
    },
    {
      "cell_type": "code",
      "metadata": {
        "id": "vwENFVDTVM_x"
      },
      "source": [
        ""
      ],
      "execution_count": null,
      "outputs": []
    }
  ]
}